{
 "cells": [
  {
   "cell_type": "code",
   "execution_count": null,
   "metadata": {},
   "outputs": [],
   "source": [
    "%matplotlib inline\n",
    "import matplotlib.pyplot as plt\n",
    "from pylab import rcParams\n",
    "rcParams['figure.figsize'] = 10, 6\n",
    "%matplotlib inline\n",
    "\n",
    "import missingno as msno\n",
    "import seaborn as sns\n",
    "import pandas as pd\n",
    "import numpy as np\n",
    "import sklearn\n",
    "import scikitplot as skplt\n",
    "from datetime import date, datetime, timedelta"
   ]
  },
  {
   "cell_type": "markdown",
   "metadata": {},
   "source": [
    "### Define Models"
   ]
  },
  {
   "cell_type": "code",
   "execution_count": null,
   "metadata": {},
   "outputs": [],
   "source": [
    "from sklearn.linear_model import LogisticRegression\n",
    "from sklearn.linear_model import LinearRegression\n",
    "from sklearn.neighbors import KNeighborsClassifier\n",
    "from sklearn.tree import DecisionTreeRegressor\n",
    "from sklearn.ensemble import RandomForestClassifier\n",
    "from sklearn.cluster import KMeans, SpectralClustering\n",
    "\n",
    "from sklearn.model_selection import train_test_split\n",
    "from sklearn.metrics import mean_squared_error"
   ]
  },
  {
   "cell_type": "markdown",
   "metadata": {},
   "source": [
    "### Scaler"
   ]
  },
  {
   "cell_type": "code",
   "execution_count": null,
   "metadata": {},
   "outputs": [],
   "source": [
    "from sklearn.preprocessing import StandardScaler\n",
    "from sklearn.preprocessing import MinMaxScaler\n",
    "\n",
    "# scaler = StandardScaler()\n",
    "# test_table = grouped_df.drop(['Total Cost'], axis = 1)\n",
    "# scaled = scaler.fit_transform(test_table)\n",
    "# scaled_df = pd.DataFrame(scaled, index = grouped_df.index, columns=[test_table.columns])"
   ]
  },
  {
   "cell_type": "markdown",
   "metadata": {},
   "source": [
    "### Different Useful Plots"
   ]
  },
  {
   "cell_type": "code",
   "execution_count": null,
   "metadata": {},
   "outputs": [],
   "source": [
    "# sns.heatmap(result.corr(), annot = True)\n",
    "\n",
    "# variables = list(grouped_df.columns)[:-1]\n",
    "# sns.pairplot(grouped_df, x_vars=variables, y_vars=['Total Cost'])\n",
    "# plt.savefig('Pairplots_corr', bbox_inches = 'tight')\n",
    "# plt.show\n",
    "\n",
    "# skplt.metrics.plot_cumulative_gain(y_test, log.predict_proba(X_test))\n",
    "\n",
    "# skplt.metrics.plot_lift_curve(y_test, forest.predict_proba(X_test))\n",
    "\n",
    "# X = cluster_df['cluster']\n",
    "\n",
    "# # plt.hist(X, bins = 10)\n",
    "# sns.set_context(\"talk\", font_scale=0.8)\n",
    "# # sns.set(style=\"white\")\n",
    "# sns.countplot(X)\n",
    "# plt.ylabel('Household Count', fontsize = 16, color = '#073997')\n",
    "# plt.xlabel('Cluster Type', fontsize = 16, color = '#073997')\n",
    "# plt.xticks( fontsize =10, color = '#073997')\n",
    "# plt.title('Cluster Distribution', fontsize = 20, color = '#073997')\n",
    "# plt.savefig('Cluster_Hist', bbox_inches = 'tight')\n",
    "# plt.show\n",
    "\n",
    "# skplt.metrics.plot_silhouette(cluster_df, cluster_df['cluster'])"
   ]
  },
  {
   "cell_type": "markdown",
   "metadata": {},
   "source": [
    "### Import the Grouped Data"
   ]
  },
  {
   "cell_type": "code",
   "execution_count": 3,
   "metadata": {},
   "outputs": [],
   "source": [
    "cluster_df = pd.read_csv('dummy_df.csv')\n",
    "cluster_df = cluster_df.set_index('Household Key')\n",
    "cluster_df.head()"
   ]
  },
  {
   "cell_type": "markdown",
   "metadata": {},
   "source": [
    "### Scale Data"
   ]
  },
  {
   "cell_type": "code",
   "execution_count": null,
   "metadata": {},
   "outputs": [],
   "source": [
    "scaler = MinMaxScaler()\n",
    "scaled = scaler.fit_transform(cluster_df)\n",
    "scaled_df = pd.DataFrame(scaled, index = cluster_df.index, columns=[cluster_df.columns])"
   ]
  },
  {
   "cell_type": "code",
   "execution_count": null,
   "metadata": {},
   "outputs": [],
   "source": [
    "scaled_df.head()"
   ]
  },
  {
   "cell_type": "code",
   "execution_count": null,
   "metadata": {
    "scrolled": false
   },
   "outputs": [],
   "source": [
    "scaled_df.describe()"
   ]
  },
  {
   "cell_type": "code",
   "execution_count": null,
   "metadata": {},
   "outputs": [],
   "source": [
    "scaled_df.to_csv('scaled_final_df.csv')"
   ]
  },
  {
   "cell_type": "code",
   "execution_count": null,
   "metadata": {},
   "outputs": [],
   "source": [
    "cluster_df = scaled_df.dropna()"
   ]
  },
  {
   "cell_type": "code",
   "execution_count": null,
   "metadata": {},
   "outputs": [],
   "source": [
    "cluster_df.shape"
   ]
  },
  {
   "cell_type": "code",
   "execution_count": null,
   "metadata": {},
   "outputs": [],
   "source": [
    "kmeans = KMeans(n_clusters = 5)\n",
    "kmeans.fit(cluster_df)"
   ]
  },
  {
   "cell_type": "code",
   "execution_count": null,
   "metadata": {},
   "outputs": [],
   "source": [
    "cluster_df['cls'] = kmeans.labels_\n",
    "cluster_df.head()"
   ]
  },
  {
   "cell_type": "code",
   "execution_count": null,
   "metadata": {},
   "outputs": [],
   "source": [
    "clusters_list = kmeans.labels_"
   ]
  },
  {
   "cell_type": "code",
   "execution_count": null,
   "metadata": {},
   "outputs": [],
   "source": [
    "X = clusters_list\n",
    "\n",
    "# plt.hist(X, bins = 10)\n",
    "sns.set_context(\"talk\", font_scale=0.8)\n",
    "# sns.set(style=\"white\")\n",
    "sns.countplot(X)\n",
    "plt.ylabel('Household Count', fontsize = 16, color = '#073997')\n",
    "plt.xlabel('Cluster Type', fontsize = 16, color = '#073997')\n",
    "plt.xticks( fontsize =10, color = '#073997')\n",
    "plt.title('Cluster Distribution', fontsize = 20, color = '#073997')\n",
    "plt.savefig('Scaled_Cluster_Hist', bbox_inches = 'tight')\n",
    "plt.show"
   ]
  },
  {
   "cell_type": "code",
   "execution_count": null,
   "metadata": {},
   "outputs": [],
   "source": [
    "C0 = cluster_df[cluster_df.cls == 0]"
   ]
  },
  {
   "cell_type": "code",
   "execution_count": null,
   "metadata": {},
   "outputs": [],
   "source": []
  }
 ],
 "metadata": {
  "kernelspec": {
   "display_name": "Python 3",
   "language": "python",
   "name": "python3"
  }
 },
 "nbformat": 4,
 "nbformat_minor": 2
}
