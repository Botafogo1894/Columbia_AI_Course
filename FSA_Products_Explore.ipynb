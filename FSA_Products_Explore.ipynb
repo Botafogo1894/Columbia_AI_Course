{
 "cells": [
  {
   "cell_type": "code",
   "execution_count": 1,
   "metadata": {},
   "outputs": [],
   "source": [
    "%matplotlib inline\n",
    "import matplotlib.pyplot as plt\n",
    "from pylab import rcParams\n",
    "rcParams['figure.figsize'] = 10, 6\n",
    "\n",
    "import missingno as msno\n",
    "import seaborn as sns\n",
    "import pandas as pd\n",
    "import numpy as np\n",
    "import sklearn\n",
    "from datetime import date, datetime, timedelta"
   ]
  },
  {
   "cell_type": "code",
   "execution_count": 2,
   "metadata": {},
   "outputs": [],
   "source": [
    "df = pd.read_csv('member_sample.csv', index_col = 0)"
   ]
  },
  {
   "cell_type": "code",
   "execution_count": 3,
   "metadata": {},
   "outputs": [
    {
     "data": {
      "text/html": [
       "<div>\n",
       "<style scoped>\n",
       "    .dataframe tbody tr th:only-of-type {\n",
       "        vertical-align: middle;\n",
       "    }\n",
       "\n",
       "    .dataframe tbody tr th {\n",
       "        vertical-align: top;\n",
       "    }\n",
       "\n",
       "    .dataframe thead th {\n",
       "        text-align: right;\n",
       "    }\n",
       "</style>\n",
       "<table border=\"1\" class=\"dataframe\">\n",
       "  <thead>\n",
       "    <tr style=\"text-align: right;\">\n",
       "      <th></th>\n",
       "      <th>Individual Key</th>\n",
       "      <th>Household Key</th>\n",
       "      <th>Member Flag</th>\n",
       "      <th>City</th>\n",
       "      <th>State - Grouped</th>\n",
       "      <th>ZIP5</th>\n",
       "      <th>ZIP9</th>\n",
       "      <th>FSV CMSI Flag</th>\n",
       "      <th>FSV Credit Card Flag</th>\n",
       "      <th>FSV Deposit Program Flag</th>\n",
       "      <th>...</th>\n",
       "      <th>SC Vehicle Manufacturer Name</th>\n",
       "      <th>SC Vehicle Model Name</th>\n",
       "      <th>SVC Facility Name</th>\n",
       "      <th>SVC Facility Type</th>\n",
       "      <th>Total Cost</th>\n",
       "      <th>Tow Destination Latitude</th>\n",
       "      <th>Tow Destination Longitude</th>\n",
       "      <th>Tow Destination Name</th>\n",
       "      <th>Was Duplicated</th>\n",
       "      <th>Was Towed To AAR Referral</th>\n",
       "    </tr>\n",
       "  </thead>\n",
       "  <tbody>\n",
       "    <tr>\n",
       "      <th>0</th>\n",
       "      <td>10000003.0</td>\n",
       "      <td>10462590.0</td>\n",
       "      <td>Y</td>\n",
       "      <td>NEW HAVEN</td>\n",
       "      <td>CT</td>\n",
       "      <td>6511.0</td>\n",
       "      <td>65111349.0</td>\n",
       "      <td>N</td>\n",
       "      <td>N</td>\n",
       "      <td>N</td>\n",
       "      <td>...</td>\n",
       "      <td>NaN</td>\n",
       "      <td>NaN</td>\n",
       "      <td>NaN</td>\n",
       "      <td>NaN</td>\n",
       "      <td>NaN</td>\n",
       "      <td>NaN</td>\n",
       "      <td>NaN</td>\n",
       "      <td>NaN</td>\n",
       "      <td>NaN</td>\n",
       "      <td>NaN</td>\n",
       "    </tr>\n",
       "    <tr>\n",
       "      <th>1</th>\n",
       "      <td>52211550.0</td>\n",
       "      <td>4500791.0</td>\n",
       "      <td>Y</td>\n",
       "      <td>WEST WARWICK</td>\n",
       "      <td>RI</td>\n",
       "      <td>2893.0</td>\n",
       "      <td>28933850.0</td>\n",
       "      <td>N</td>\n",
       "      <td>Y</td>\n",
       "      <td>N</td>\n",
       "      <td>...</td>\n",
       "      <td>TOYOTA</td>\n",
       "      <td>CAMRY</td>\n",
       "      <td>ASTRO WRECKER SERVICE</td>\n",
       "      <td>independent repair</td>\n",
       "      <td>32.5</td>\n",
       "      <td>41.0</td>\n",
       "      <td>-71.0</td>\n",
       "      <td>Aar / Johnson's Auto Service</td>\n",
       "      <td>0.0</td>\n",
       "      <td>1.0</td>\n",
       "    </tr>\n",
       "    <tr>\n",
       "      <th>2</th>\n",
       "      <td>52211550.0</td>\n",
       "      <td>4500791.0</td>\n",
       "      <td>Y</td>\n",
       "      <td>WEST WARWICK</td>\n",
       "      <td>RI</td>\n",
       "      <td>2893.0</td>\n",
       "      <td>28933850.0</td>\n",
       "      <td>N</td>\n",
       "      <td>Y</td>\n",
       "      <td>N</td>\n",
       "      <td>...</td>\n",
       "      <td>TOYOTA</td>\n",
       "      <td>CAMRY</td>\n",
       "      <td>Astro Wrecker Service</td>\n",
       "      <td>independent repair</td>\n",
       "      <td>30.0</td>\n",
       "      <td>0.0</td>\n",
       "      <td>0.0</td>\n",
       "      <td>NaN</td>\n",
       "      <td>0.0</td>\n",
       "      <td>0.0</td>\n",
       "    </tr>\n",
       "    <tr>\n",
       "      <th>3</th>\n",
       "      <td>52211550.0</td>\n",
       "      <td>4500791.0</td>\n",
       "      <td>Y</td>\n",
       "      <td>WEST WARWICK</td>\n",
       "      <td>RI</td>\n",
       "      <td>2893.0</td>\n",
       "      <td>28933850.0</td>\n",
       "      <td>N</td>\n",
       "      <td>Y</td>\n",
       "      <td>N</td>\n",
       "      <td>...</td>\n",
       "      <td>TOYOTA</td>\n",
       "      <td>CAMRY</td>\n",
       "      <td>ASTRO WRECKER SERVICE</td>\n",
       "      <td>independent repair</td>\n",
       "      <td>32.5</td>\n",
       "      <td>0.0</td>\n",
       "      <td>0.0</td>\n",
       "      <td>NaN</td>\n",
       "      <td>0.0</td>\n",
       "      <td>0.0</td>\n",
       "    </tr>\n",
       "    <tr>\n",
       "      <th>4</th>\n",
       "      <td>52211550.0</td>\n",
       "      <td>4500791.0</td>\n",
       "      <td>Y</td>\n",
       "      <td>WEST WARWICK</td>\n",
       "      <td>RI</td>\n",
       "      <td>2893.0</td>\n",
       "      <td>28933850.0</td>\n",
       "      <td>N</td>\n",
       "      <td>Y</td>\n",
       "      <td>N</td>\n",
       "      <td>...</td>\n",
       "      <td>TOYOTA</td>\n",
       "      <td>CAMRY</td>\n",
       "      <td>ASTRO WRECKER SERVICE</td>\n",
       "      <td>independent repair</td>\n",
       "      <td>30.0</td>\n",
       "      <td>0.0</td>\n",
       "      <td>0.0</td>\n",
       "      <td>NaN</td>\n",
       "      <td>0.0</td>\n",
       "      <td>0.0</td>\n",
       "    </tr>\n",
       "  </tbody>\n",
       "</table>\n",
       "<p>5 rows × 112 columns</p>\n",
       "</div>"
      ],
      "text/plain": [
       "   Individual Key  Household Key Member Flag          City State - Grouped  \\\n",
       "0      10000003.0     10462590.0           Y     NEW HAVEN              CT   \n",
       "1      52211550.0      4500791.0           Y  WEST WARWICK              RI   \n",
       "2      52211550.0      4500791.0           Y  WEST WARWICK              RI   \n",
       "3      52211550.0      4500791.0           Y  WEST WARWICK              RI   \n",
       "4      52211550.0      4500791.0           Y  WEST WARWICK              RI   \n",
       "\n",
       "     ZIP5        ZIP9 FSV CMSI Flag FSV Credit Card Flag  \\\n",
       "0  6511.0  65111349.0             N                    N   \n",
       "1  2893.0  28933850.0             N                    Y   \n",
       "2  2893.0  28933850.0             N                    Y   \n",
       "3  2893.0  28933850.0             N                    Y   \n",
       "4  2893.0  28933850.0             N                    Y   \n",
       "\n",
       "  FSV Deposit Program Flag  ... SC Vehicle Manufacturer Name  \\\n",
       "0                        N  ...                          NaN   \n",
       "1                        N  ...                       TOYOTA   \n",
       "2                        N  ...                       TOYOTA   \n",
       "3                        N  ...                       TOYOTA   \n",
       "4                        N  ...                       TOYOTA   \n",
       "\n",
       "  SC Vehicle Model Name      SVC Facility Name   SVC Facility Type Total Cost  \\\n",
       "0                   NaN                    NaN                 NaN        NaN   \n",
       "1                 CAMRY  ASTRO WRECKER SERVICE  independent repair       32.5   \n",
       "2                 CAMRY  Astro Wrecker Service  independent repair       30.0   \n",
       "3                 CAMRY  ASTRO WRECKER SERVICE  independent repair       32.5   \n",
       "4                 CAMRY  ASTRO WRECKER SERVICE  independent repair       30.0   \n",
       "\n",
       "  Tow Destination Latitude Tow Destination Longitude  \\\n",
       "0                      NaN                       NaN   \n",
       "1                     41.0                     -71.0   \n",
       "2                      0.0                       0.0   \n",
       "3                      0.0                       0.0   \n",
       "4                      0.0                       0.0   \n",
       "\n",
       "           Tow Destination Name  Was Duplicated Was Towed To AAR Referral  \n",
       "0                           NaN             NaN                       NaN  \n",
       "1  Aar / Johnson's Auto Service             0.0                       1.0  \n",
       "2                           NaN             0.0                       0.0  \n",
       "3                           NaN             0.0                       0.0  \n",
       "4                           NaN             0.0                       0.0  \n",
       "\n",
       "[5 rows x 112 columns]"
      ]
     },
     "execution_count": 3,
     "metadata": {},
     "output_type": "execute_result"
    }
   ],
   "source": [
    "df.head()"
   ]
  },
  {
   "cell_type": "markdown",
   "metadata": {},
   "source": [
    "## Define Useful Functions"
   ]
  },
  {
   "cell_type": "code",
   "execution_count": 4,
   "metadata": {},
   "outputs": [],
   "source": [
    "#Turn Y and N values to binary\n",
    "def to_binary(x):\n",
    "    if x == 'Y' or x == 'Yes':\n",
    "        return 1\n",
    "    else:\n",
    "        return 0"
   ]
  },
  {
   "cell_type": "code",
   "execution_count": 5,
   "metadata": {},
   "outputs": [],
   "source": [
    "#Find columns that contains 'String' value\n",
    "def print_cols(df, string):\n",
    "    cols = [i for i in df.columns if string in i]\n",
    "    return cols"
   ]
  },
  {
   "cell_type": "code",
   "execution_count": 6,
   "metadata": {},
   "outputs": [],
   "source": [
    "#Map means to 1 or 0\n",
    "def buy_or_not(x):\n",
    "    if x > 0:\n",
    "        return 1\n",
    "    else:\n",
    "        return 0"
   ]
  },
  {
   "cell_type": "markdown",
   "metadata": {},
   "source": [
    "### Function to Calculate Age"
   ]
  },
  {
   "cell_type": "code",
   "execution_count": 7,
   "metadata": {},
   "outputs": [],
   "source": [
    "def calcualte_age(date_string):\n",
    "    try:\n",
    "        iso = datetime.fromisoformat(date_string)\n",
    "        age = (datetime.now() - iso) // timedelta(days=365.2425)\n",
    "    except:\n",
    "        age = np.nan\n",
    "    return age"
   ]
  },
  {
   "cell_type": "code",
   "execution_count": 8,
   "metadata": {},
   "outputs": [
    {
     "data": {
      "text/plain": [
       "['FSV CMSI Flag',\n",
       " 'FSV Credit Card Flag',\n",
       " 'FSV Deposit Program Flag',\n",
       " 'FSV Home Equity Flag',\n",
       " 'FSV ID Theft Flag',\n",
       " 'FSV Mortgage Flag']"
      ]
     },
     "execution_count": 8,
     "metadata": {},
     "output_type": "execute_result"
    }
   ],
   "source": [
    "products = print_cols(df, 'FSV')\n",
    "products"
   ]
  },
  {
   "cell_type": "code",
   "execution_count": 9,
   "metadata": {
    "scrolled": false
   },
   "outputs": [
    {
     "data": {
      "text/html": [
       "<div>\n",
       "<style scoped>\n",
       "    .dataframe tbody tr th:only-of-type {\n",
       "        vertical-align: middle;\n",
       "    }\n",
       "\n",
       "    .dataframe tbody tr th {\n",
       "        vertical-align: top;\n",
       "    }\n",
       "\n",
       "    .dataframe thead th {\n",
       "        text-align: right;\n",
       "    }\n",
       "</style>\n",
       "<table border=\"1\" class=\"dataframe\">\n",
       "  <thead>\n",
       "    <tr style=\"text-align: right;\">\n",
       "      <th></th>\n",
       "      <th>FSV CMSI Flag</th>\n",
       "      <th>FSV Credit Card Flag</th>\n",
       "      <th>FSV Deposit Program Flag</th>\n",
       "      <th>FSV Home Equity Flag</th>\n",
       "      <th>FSV ID Theft Flag</th>\n",
       "      <th>FSV Mortgage Flag</th>\n",
       "    </tr>\n",
       "  </thead>\n",
       "  <tbody>\n",
       "    <tr>\n",
       "      <th>0</th>\n",
       "      <td>N</td>\n",
       "      <td>N</td>\n",
       "      <td>N</td>\n",
       "      <td>N</td>\n",
       "      <td>N</td>\n",
       "      <td>N</td>\n",
       "    </tr>\n",
       "    <tr>\n",
       "      <th>1</th>\n",
       "      <td>N</td>\n",
       "      <td>Y</td>\n",
       "      <td>N</td>\n",
       "      <td>N</td>\n",
       "      <td>N</td>\n",
       "      <td>N</td>\n",
       "    </tr>\n",
       "    <tr>\n",
       "      <th>2</th>\n",
       "      <td>N</td>\n",
       "      <td>Y</td>\n",
       "      <td>N</td>\n",
       "      <td>N</td>\n",
       "      <td>N</td>\n",
       "      <td>N</td>\n",
       "    </tr>\n",
       "    <tr>\n",
       "      <th>3</th>\n",
       "      <td>N</td>\n",
       "      <td>Y</td>\n",
       "      <td>N</td>\n",
       "      <td>N</td>\n",
       "      <td>N</td>\n",
       "      <td>N</td>\n",
       "    </tr>\n",
       "    <tr>\n",
       "      <th>4</th>\n",
       "      <td>N</td>\n",
       "      <td>Y</td>\n",
       "      <td>N</td>\n",
       "      <td>N</td>\n",
       "      <td>N</td>\n",
       "      <td>N</td>\n",
       "    </tr>\n",
       "  </tbody>\n",
       "</table>\n",
       "</div>"
      ],
      "text/plain": [
       "  FSV CMSI Flag FSV Credit Card Flag FSV Deposit Program Flag  \\\n",
       "0             N                    N                        N   \n",
       "1             N                    Y                        N   \n",
       "2             N                    Y                        N   \n",
       "3             N                    Y                        N   \n",
       "4             N                    Y                        N   \n",
       "\n",
       "  FSV Home Equity Flag FSV ID Theft Flag FSV Mortgage Flag  \n",
       "0                    N                 N                 N  \n",
       "1                    N                 N                 N  \n",
       "2                    N                 N                 N  \n",
       "3                    N                 N                 N  \n",
       "4                    N                 N                 N  "
      ]
     },
     "execution_count": 9,
     "metadata": {},
     "output_type": "execute_result"
    }
   ],
   "source": [
    "df_products = df[products]\n",
    "df_products.head()"
   ]
  },
  {
   "cell_type": "markdown",
   "metadata": {},
   "source": [
    "### Turn Y and N Values into Booleans"
   ]
  },
  {
   "cell_type": "code",
   "execution_count": 10,
   "metadata": {},
   "outputs": [
    {
     "data": {
      "text/html": [
       "<div>\n",
       "<style scoped>\n",
       "    .dataframe tbody tr th:only-of-type {\n",
       "        vertical-align: middle;\n",
       "    }\n",
       "\n",
       "    .dataframe tbody tr th {\n",
       "        vertical-align: top;\n",
       "    }\n",
       "\n",
       "    .dataframe thead th {\n",
       "        text-align: right;\n",
       "    }\n",
       "</style>\n",
       "<table border=\"1\" class=\"dataframe\">\n",
       "  <thead>\n",
       "    <tr style=\"text-align: right;\">\n",
       "      <th></th>\n",
       "      <th>FSV CMSI Flag</th>\n",
       "      <th>FSV Credit Card Flag</th>\n",
       "      <th>FSV Deposit Program Flag</th>\n",
       "      <th>FSV Home Equity Flag</th>\n",
       "      <th>FSV ID Theft Flag</th>\n",
       "      <th>FSV Mortgage Flag</th>\n",
       "    </tr>\n",
       "  </thead>\n",
       "  <tbody>\n",
       "    <tr>\n",
       "      <th>count</th>\n",
       "      <td>21344.000000</td>\n",
       "      <td>21344.000000</td>\n",
       "      <td>21344.000000</td>\n",
       "      <td>21344.000000</td>\n",
       "      <td>21344.000000</td>\n",
       "      <td>21344.000000</td>\n",
       "    </tr>\n",
       "    <tr>\n",
       "      <th>mean</th>\n",
       "      <td>0.044556</td>\n",
       "      <td>0.059923</td>\n",
       "      <td>0.002296</td>\n",
       "      <td>0.000422</td>\n",
       "      <td>0.023473</td>\n",
       "      <td>0.001265</td>\n",
       "    </tr>\n",
       "    <tr>\n",
       "      <th>std</th>\n",
       "      <td>0.206331</td>\n",
       "      <td>0.237350</td>\n",
       "      <td>0.047860</td>\n",
       "      <td>0.020531</td>\n",
       "      <td>0.151403</td>\n",
       "      <td>0.035545</td>\n",
       "    </tr>\n",
       "    <tr>\n",
       "      <th>min</th>\n",
       "      <td>0.000000</td>\n",
       "      <td>0.000000</td>\n",
       "      <td>0.000000</td>\n",
       "      <td>0.000000</td>\n",
       "      <td>0.000000</td>\n",
       "      <td>0.000000</td>\n",
       "    </tr>\n",
       "    <tr>\n",
       "      <th>25%</th>\n",
       "      <td>0.000000</td>\n",
       "      <td>0.000000</td>\n",
       "      <td>0.000000</td>\n",
       "      <td>0.000000</td>\n",
       "      <td>0.000000</td>\n",
       "      <td>0.000000</td>\n",
       "    </tr>\n",
       "    <tr>\n",
       "      <th>50%</th>\n",
       "      <td>0.000000</td>\n",
       "      <td>0.000000</td>\n",
       "      <td>0.000000</td>\n",
       "      <td>0.000000</td>\n",
       "      <td>0.000000</td>\n",
       "      <td>0.000000</td>\n",
       "    </tr>\n",
       "    <tr>\n",
       "      <th>75%</th>\n",
       "      <td>0.000000</td>\n",
       "      <td>0.000000</td>\n",
       "      <td>0.000000</td>\n",
       "      <td>0.000000</td>\n",
       "      <td>0.000000</td>\n",
       "      <td>0.000000</td>\n",
       "    </tr>\n",
       "    <tr>\n",
       "      <th>max</th>\n",
       "      <td>1.000000</td>\n",
       "      <td>1.000000</td>\n",
       "      <td>1.000000</td>\n",
       "      <td>1.000000</td>\n",
       "      <td>1.000000</td>\n",
       "      <td>1.000000</td>\n",
       "    </tr>\n",
       "  </tbody>\n",
       "</table>\n",
       "</div>"
      ],
      "text/plain": [
       "       FSV CMSI Flag  FSV Credit Card Flag  FSV Deposit Program Flag  \\\n",
       "count   21344.000000          21344.000000              21344.000000   \n",
       "mean        0.044556              0.059923                  0.002296   \n",
       "std         0.206331              0.237350                  0.047860   \n",
       "min         0.000000              0.000000                  0.000000   \n",
       "25%         0.000000              0.000000                  0.000000   \n",
       "50%         0.000000              0.000000                  0.000000   \n",
       "75%         0.000000              0.000000                  0.000000   \n",
       "max         1.000000              1.000000                  1.000000   \n",
       "\n",
       "       FSV Home Equity Flag  FSV ID Theft Flag  FSV Mortgage Flag  \n",
       "count          21344.000000       21344.000000       21344.000000  \n",
       "mean               0.000422           0.023473           0.001265  \n",
       "std                0.020531           0.151403           0.035545  \n",
       "min                0.000000           0.000000           0.000000  \n",
       "25%                0.000000           0.000000           0.000000  \n",
       "50%                0.000000           0.000000           0.000000  \n",
       "75%                0.000000           0.000000           0.000000  \n",
       "max                1.000000           1.000000           1.000000  "
      ]
     },
     "execution_count": 10,
     "metadata": {},
     "output_type": "execute_result"
    }
   ],
   "source": [
    "for prod in products:\n",
    "    df[prod] = df[prod].apply(to_binary)\n",
    "\n",
    "df[products].describe()"
   ]
  },
  {
   "cell_type": "code",
   "execution_count": 11,
   "metadata": {},
   "outputs": [],
   "source": [
    "fsv_services = df.groupby('Household Key')[products].sum()"
   ]
  },
  {
   "cell_type": "code",
   "execution_count": 12,
   "metadata": {
    "scrolled": true
   },
   "outputs": [
    {
     "data": {
      "text/html": [
       "<div>\n",
       "<style scoped>\n",
       "    .dataframe tbody tr th:only-of-type {\n",
       "        vertical-align: middle;\n",
       "    }\n",
       "\n",
       "    .dataframe tbody tr th {\n",
       "        vertical-align: top;\n",
       "    }\n",
       "\n",
       "    .dataframe thead th {\n",
       "        text-align: right;\n",
       "    }\n",
       "</style>\n",
       "<table border=\"1\" class=\"dataframe\">\n",
       "  <thead>\n",
       "    <tr style=\"text-align: right;\">\n",
       "      <th></th>\n",
       "      <th>FSV CMSI Flag</th>\n",
       "      <th>FSV Credit Card Flag</th>\n",
       "      <th>FSV Deposit Program Flag</th>\n",
       "      <th>FSV Home Equity Flag</th>\n",
       "      <th>FSV ID Theft Flag</th>\n",
       "      <th>FSV Mortgage Flag</th>\n",
       "    </tr>\n",
       "    <tr>\n",
       "      <th>Household Key</th>\n",
       "      <th></th>\n",
       "      <th></th>\n",
       "      <th></th>\n",
       "      <th></th>\n",
       "      <th></th>\n",
       "      <th></th>\n",
       "    </tr>\n",
       "  </thead>\n",
       "  <tbody>\n",
       "    <tr>\n",
       "      <th>875.0</th>\n",
       "      <td>0</td>\n",
       "      <td>1</td>\n",
       "      <td>0</td>\n",
       "      <td>0</td>\n",
       "      <td>0</td>\n",
       "      <td>0</td>\n",
       "    </tr>\n",
       "    <tr>\n",
       "      <th>969.0</th>\n",
       "      <td>0</td>\n",
       "      <td>0</td>\n",
       "      <td>0</td>\n",
       "      <td>0</td>\n",
       "      <td>0</td>\n",
       "      <td>0</td>\n",
       "    </tr>\n",
       "    <tr>\n",
       "      <th>3338.0</th>\n",
       "      <td>0</td>\n",
       "      <td>0</td>\n",
       "      <td>0</td>\n",
       "      <td>0</td>\n",
       "      <td>0</td>\n",
       "      <td>0</td>\n",
       "    </tr>\n",
       "    <tr>\n",
       "      <th>8718.0</th>\n",
       "      <td>0</td>\n",
       "      <td>0</td>\n",
       "      <td>0</td>\n",
       "      <td>0</td>\n",
       "      <td>0</td>\n",
       "      <td>0</td>\n",
       "    </tr>\n",
       "    <tr>\n",
       "      <th>11524.0</th>\n",
       "      <td>0</td>\n",
       "      <td>0</td>\n",
       "      <td>0</td>\n",
       "      <td>0</td>\n",
       "      <td>0</td>\n",
       "      <td>0</td>\n",
       "    </tr>\n",
       "  </tbody>\n",
       "</table>\n",
       "</div>"
      ],
      "text/plain": [
       "               FSV CMSI Flag  FSV Credit Card Flag  FSV Deposit Program Flag  \\\n",
       "Household Key                                                                  \n",
       "875.0                      0                     1                         0   \n",
       "969.0                      0                     0                         0   \n",
       "3338.0                     0                     0                         0   \n",
       "8718.0                     0                     0                         0   \n",
       "11524.0                    0                     0                         0   \n",
       "\n",
       "               FSV Home Equity Flag  FSV ID Theft Flag  FSV Mortgage Flag  \n",
       "Household Key                                                              \n",
       "875.0                             0                  0                  0  \n",
       "969.0                             0                  0                  0  \n",
       "3338.0                            0                  0                  0  \n",
       "8718.0                            0                  0                  0  \n",
       "11524.0                           0                  0                  0  "
      ]
     },
     "execution_count": 12,
     "metadata": {},
     "output_type": "execute_result"
    }
   ],
   "source": [
    "fsv_services.head()"
   ]
  },
  {
   "cell_type": "code",
   "execution_count": 13,
   "metadata": {},
   "outputs": [],
   "source": [
    "fsv_services['FSV Services Count'] = fsv_services.sum(axis=1)"
   ]
  },
  {
   "cell_type": "code",
   "execution_count": 14,
   "metadata": {},
   "outputs": [
    {
     "data": {
      "text/html": [
       "<div>\n",
       "<style scoped>\n",
       "    .dataframe tbody tr th:only-of-type {\n",
       "        vertical-align: middle;\n",
       "    }\n",
       "\n",
       "    .dataframe tbody tr th {\n",
       "        vertical-align: top;\n",
       "    }\n",
       "\n",
       "    .dataframe thead th {\n",
       "        text-align: right;\n",
       "    }\n",
       "</style>\n",
       "<table border=\"1\" class=\"dataframe\">\n",
       "  <thead>\n",
       "    <tr style=\"text-align: right;\">\n",
       "      <th></th>\n",
       "      <th>FSV CMSI Flag</th>\n",
       "      <th>FSV Credit Card Flag</th>\n",
       "      <th>FSV Deposit Program Flag</th>\n",
       "      <th>FSV Home Equity Flag</th>\n",
       "      <th>FSV ID Theft Flag</th>\n",
       "      <th>FSV Mortgage Flag</th>\n",
       "      <th>FSV Services Count</th>\n",
       "    </tr>\n",
       "    <tr>\n",
       "      <th>Household Key</th>\n",
       "      <th></th>\n",
       "      <th></th>\n",
       "      <th></th>\n",
       "      <th></th>\n",
       "      <th></th>\n",
       "      <th></th>\n",
       "      <th></th>\n",
       "    </tr>\n",
       "  </thead>\n",
       "  <tbody>\n",
       "    <tr>\n",
       "      <th>875.0</th>\n",
       "      <td>0</td>\n",
       "      <td>1</td>\n",
       "      <td>0</td>\n",
       "      <td>0</td>\n",
       "      <td>0</td>\n",
       "      <td>0</td>\n",
       "      <td>1</td>\n",
       "    </tr>\n",
       "    <tr>\n",
       "      <th>969.0</th>\n",
       "      <td>0</td>\n",
       "      <td>0</td>\n",
       "      <td>0</td>\n",
       "      <td>0</td>\n",
       "      <td>0</td>\n",
       "      <td>0</td>\n",
       "      <td>0</td>\n",
       "    </tr>\n",
       "    <tr>\n",
       "      <th>3338.0</th>\n",
       "      <td>0</td>\n",
       "      <td>0</td>\n",
       "      <td>0</td>\n",
       "      <td>0</td>\n",
       "      <td>0</td>\n",
       "      <td>0</td>\n",
       "      <td>0</td>\n",
       "    </tr>\n",
       "    <tr>\n",
       "      <th>8718.0</th>\n",
       "      <td>0</td>\n",
       "      <td>0</td>\n",
       "      <td>0</td>\n",
       "      <td>0</td>\n",
       "      <td>0</td>\n",
       "      <td>0</td>\n",
       "      <td>0</td>\n",
       "    </tr>\n",
       "    <tr>\n",
       "      <th>11524.0</th>\n",
       "      <td>0</td>\n",
       "      <td>0</td>\n",
       "      <td>0</td>\n",
       "      <td>0</td>\n",
       "      <td>0</td>\n",
       "      <td>0</td>\n",
       "      <td>0</td>\n",
       "    </tr>\n",
       "  </tbody>\n",
       "</table>\n",
       "</div>"
      ],
      "text/plain": [
       "               FSV CMSI Flag  FSV Credit Card Flag  FSV Deposit Program Flag  \\\n",
       "Household Key                                                                  \n",
       "875.0                      0                     1                         0   \n",
       "969.0                      0                     0                         0   \n",
       "3338.0                     0                     0                         0   \n",
       "8718.0                     0                     0                         0   \n",
       "11524.0                    0                     0                         0   \n",
       "\n",
       "               FSV Home Equity Flag  FSV ID Theft Flag  FSV Mortgage Flag  \\\n",
       "Household Key                                                               \n",
       "875.0                             0                  0                  0   \n",
       "969.0                             0                  0                  0   \n",
       "3338.0                            0                  0                  0   \n",
       "8718.0                            0                  0                  0   \n",
       "11524.0                           0                  0                  0   \n",
       "\n",
       "               FSV Services Count  \n",
       "Household Key                      \n",
       "875.0                           1  \n",
       "969.0                           0  \n",
       "3338.0                          0  \n",
       "8718.0                          0  \n",
       "11524.0                         0  "
      ]
     },
     "execution_count": 14,
     "metadata": {},
     "output_type": "execute_result"
    }
   ],
   "source": [
    "fsv_services.head()"
   ]
  },
  {
   "cell_type": "code",
   "execution_count": 15,
   "metadata": {},
   "outputs": [],
   "source": [
    "features = ['Number of Children', 'Responded to Catalog', 'Race', 'Length Of Residence', 'Mail Responder',\n",
    "           'Home Owner', 'Income', 'Date Of Birth', 'Children', 'Education', 'Dwelling Type', 'Credit Ranges', \n",
    "           'Language', 'Gender']"
   ]
  },
  {
   "cell_type": "code",
   "execution_count": 16,
   "metadata": {},
   "outputs": [
    {
     "name": "stdout",
     "output_type": "stream",
     "text": [
      "<class 'pandas.core.frame.DataFrame'>\n",
      "Int64Index: 21344 entries, 0 to 99998\n",
      "Data columns (total 14 columns):\n",
      "Number of Children      12010 non-null object\n",
      "Responded to Catalog    860 non-null object\n",
      "Race                    12010 non-null object\n",
      "Length Of Residence     12010 non-null float64\n",
      "Mail Responder          12010 non-null object\n",
      "Home Owner              11629 non-null object\n",
      "Income                  11943 non-null object\n",
      "Date Of Birth           10191 non-null object\n",
      "Children                12010 non-null object\n",
      "Education               12010 non-null object\n",
      "Dwelling Type           15891 non-null object\n",
      "Credit Ranges           12010 non-null object\n",
      "Language                12010 non-null object\n",
      "Gender                  8783 non-null object\n",
      "dtypes: float64(1), object(13)\n",
      "memory usage: 2.4+ MB\n"
     ]
    }
   ],
   "source": [
    "df[features].info()"
   ]
  },
  {
   "cell_type": "markdown",
   "metadata": {},
   "source": [
    "### Create Age Column"
   ]
  },
  {
   "cell_type": "code",
   "execution_count": 17,
   "metadata": {},
   "outputs": [],
   "source": [
    "df['age'] = [calcualte_age(item) for item in df['Date Of Birth']]"
   ]
  },
  {
   "cell_type": "code",
   "execution_count": 18,
   "metadata": {
    "scrolled": true
   },
   "outputs": [
    {
     "data": {
      "text/plain": [
       "<matplotlib.axes._subplots.AxesSubplot at 0x108c78320>"
      ]
     },
     "execution_count": 18,
     "metadata": {},
     "output_type": "execute_result"
    },
    {
     "data": {
      "image/png": "[encoded data removed]",
      "text/plain": [
       "<Figure size 432x288 with 1 Axes>"
      ]
     },
     "metadata": {
      "needs_background": "light"
     },
     "output_type": "display_data"
    }
   ],
   "source": [
    "df.age.plot(kind = 'hist')"
   ]
  },
  {
   "cell_type": "code",
   "execution_count": 19,
   "metadata": {},
   "outputs": [
    {
     "name": "stderr",
     "output_type": "stream",
     "text": [
      "/anaconda3/lib/python3.7/site-packages/numpy/lib/histograms.py:824: RuntimeWarning: invalid value encountered in greater_equal\n",
      "  keep = (tmp_a >= first_edge)\n",
      "/anaconda3/lib/python3.7/site-packages/numpy/lib/histograms.py:825: RuntimeWarning: invalid value encountered in less_equal\n",
      "  keep &= (tmp_a <= last_edge)\n"
     ]
    },
    {
     "data": {
      "text/plain": [
       "<function matplotlib.pyplot.show(*args, **kw)>"
      ]
     },
     "execution_count": 19,
     "metadata": {},
     "output_type": "execute_result"
    },
    {
     "data": {
      "image/png": "[encoded data removed]",
      "text/plain": [
       "<Figure size 432x288 with 1 Axes>"
      ]
     },
     "metadata": {
      "needs_background": "light"
     },
     "output_type": "display_data"
    }
   ],
   "source": [
    "X = df.age\n",
    "DF_75th = round(X.describe()['75%'], 2)\n",
    "DF_AVG = round(X.describe()['mean'], 2)\n",
    "\n",
    "plt.hist(X)\n",
    "plt.ylabel('Household Count', fontsize = 16, color = '#073997')\n",
    "plt.xlabel('Age', fontsize = 16, color = '#073997')\n",
    "plt.xticks( fontsize =10, color = '#073997')\n",
    "plt.title('User Age Distribution', fontsize = 20, color = '#073997')\n",
    "plt.savefig('User_age_histogram', bbox_inches = 'tight')\n",
    "plt.show"
   ]
  },
  {
   "cell_type": "markdown",
   "metadata": {},
   "source": [
    "### Turn Children Counts into numerical columns"
   ]
  },
  {
   "cell_type": "code",
   "execution_count": 20,
   "metadata": {},
   "outputs": [
    {
     "data": {
      "text/plain": [
       "0.0    5482\n",
       "1.0    3871\n",
       "2.0    1582\n",
       "3.0     750\n",
       "4.0     276\n",
       "5.0      45\n",
       "6.0       4\n",
       "Name: Number of Children, dtype: int64"
      ]
     },
     "execution_count": 20,
     "metadata": {},
     "output_type": "execute_result"
    }
   ],
   "source": [
    "vals = df['Number of Children'].value_counts().index\n",
    "nums = list(range(7))\n",
    "df['Number of Children'] = df['Number of Children'].map({v:n for v,n in zip(vals,nums)})\n",
    "df['Number of Children'].value_counts()"
   ]
  },
  {
   "cell_type": "code",
   "execution_count": 21,
   "metadata": {
    "scrolled": true
   },
   "outputs": [
    {
     "data": {
      "text/plain": [
       "<function matplotlib.pyplot.show(*args, **kw)>"
      ]
     },
     "execution_count": 21,
     "metadata": {},
     "output_type": "execute_result"
    },
    {
     "data": {
      "image/png": "[encoded data removed]",
      "text/plain": [
       "<Figure size 432x288 with 1 Axes>"
      ]
     },
     "metadata": {
      "needs_background": "light"
     },
     "output_type": "display_data"
    }
   ],
   "source": [
    "X = df['Number of Children']\n",
    "\n",
    "plt.hist(X)\n",
    "plt.ylabel('Household Count', fontsize = 16, color = '#073997')\n",
    "plt.xlabel('Children', fontsize = 16, color = '#073997')\n",
    "plt.xticks( fontsize =10, color = '#073997')\n",
    "plt.title('Number of Children', fontsize = 20, color = '#073997')\n",
    "plt.savefig('User_Children_histogram', bbox_inches = 'tight')\n",
    "plt.show"
   ]
  },
  {
   "cell_type": "code",
   "execution_count": 22,
   "metadata": {},
   "outputs": [
    {
     "data": {
      "text/plain": [
       "Yes    6631\n",
       "No     5379\n",
       "Name: Children, dtype: int64"
      ]
     },
     "execution_count": 22,
     "metadata": {},
     "output_type": "execute_result"
    }
   ],
   "source": [
    "df['Children'].value_counts()"
   ]
  },
  {
   "cell_type": "code",
   "execution_count": 23,
   "metadata": {},
   "outputs": [],
   "source": [
    "df['Children'] = df['Children'].apply(to_binary)"
   ]
  },
  {
   "cell_type": "code",
   "execution_count": 24,
   "metadata": {},
   "outputs": [
    {
     "data": {
      "text/plain": [
       "0    14713\n",
       "1     6631\n",
       "Name: Children, dtype: int64"
      ]
     },
     "execution_count": 24,
     "metadata": {},
     "output_type": "execute_result"
    }
   ],
   "source": [
    "df['Children'].value_counts()"
   ]
  },
  {
   "cell_type": "markdown",
   "metadata": {},
   "source": [
    "### Turn Credit Scores into numeric values"
   ]
  },
  {
   "cell_type": "code",
   "execution_count": 25,
   "metadata": {},
   "outputs": [],
   "source": [
    "#Trun Credit to Numeric\n",
    "def credit_to_nums(x):\n",
    "    if x == 'Unknown':\n",
    "        return 650\n",
    "    else:\n",
    "        value = x[:3] \n",
    "        return int(value) + 25"
   ]
  },
  {
   "cell_type": "code",
   "execution_count": 26,
   "metadata": {},
   "outputs": [
    {
     "data": {
      "text/plain": [
       "750-799       4101\n",
       "700-749       2542\n",
       "650-699       1911\n",
       "800+          1785\n",
       "600-649        883\n",
       "Unknown        414\n",
       "550-599        197\n",
       "500-549        165\n",
       "499 & Less      12\n",
       "Name: Credit Ranges, dtype: int64"
      ]
     },
     "execution_count": 26,
     "metadata": {},
     "output_type": "execute_result"
    }
   ],
   "source": [
    "df['Credit Ranges'].value_counts()"
   ]
  },
  {
   "cell_type": "code",
   "execution_count": 27,
   "metadata": {},
   "outputs": [],
   "source": [
    "#Fill missing values with mean\n",
    "df['Credit Ranges'].fillna('Unknown', inplace = True)"
   ]
  },
  {
   "cell_type": "code",
   "execution_count": 28,
   "metadata": {},
   "outputs": [
    {
     "data": {
      "text/plain": [
       "Unknown       9748\n",
       "750-799       4101\n",
       "700-749       2542\n",
       "650-699       1911\n",
       "800+          1785\n",
       "600-649        883\n",
       "550-599        197\n",
       "500-549        165\n",
       "499 & Less      12\n",
       "Name: Credit Ranges, dtype: int64"
      ]
     },
     "execution_count": 28,
     "metadata": {},
     "output_type": "execute_result"
    }
   ],
   "source": [
    "df['Credit Ranges'].value_counts()"
   ]
  },
  {
   "cell_type": "code",
   "execution_count": 29,
   "metadata": {},
   "outputs": [],
   "source": [
    "df['Credit Ranges'] = df['Credit Ranges'].apply(credit_to_nums)"
   ]
  },
  {
   "cell_type": "code",
   "execution_count": 30,
   "metadata": {},
   "outputs": [
    {
     "data": {
      "text/plain": [
       "650    9748\n",
       "775    4101\n",
       "725    2542\n",
       "675    1911\n",
       "825    1785\n",
       "625     883\n",
       "575     197\n",
       "525     165\n",
       "524      12\n",
       "Name: Credit Ranges, dtype: int64"
      ]
     },
     "execution_count": 30,
     "metadata": {},
     "output_type": "execute_result"
    }
   ],
   "source": [
    "df['Credit Ranges'].value_counts()"
   ]
  },
  {
   "cell_type": "code",
   "execution_count": 31,
   "metadata": {
    "scrolled": true
   },
   "outputs": [
    {
     "data": {
      "text/plain": [
       "<function matplotlib.pyplot.show(*args, **kw)>"
      ]
     },
     "execution_count": 31,
     "metadata": {},
     "output_type": "execute_result"
    },
    {
     "data": {
      "image/png": "[encoded data removed]",
      "text/plain": [
       "<Figure size 432x288 with 1 Axes>"
      ]
     },
     "metadata": {
      "needs_background": "light"
     },
     "output_type": "display_data"
    }
   ],
   "source": [
    "X = df['Credit Ranges']\n",
    "\n",
    "plt.hist(X)\n",
    "plt.ylabel('Household Count', fontsize = 16, color = '#073997')\n",
    "plt.xlabel('Credit Score Bucket', fontsize = 16, color = '#073997')\n",
    "plt.xticks( fontsize =10, color = '#073997')\n",
    "plt.title('Credit Score Distribution', fontsize = 20, color = '#073997')\n",
    "plt.savefig('User_Credit_Score', bbox_inches = 'tight')\n",
    "plt.show"
   ]
  },
  {
   "cell_type": "markdown",
   "metadata": {},
   "source": [
    "### Convert Income Level"
   ]
  },
  {
   "cell_type": "code",
   "execution_count": 32,
   "metadata": {
    "scrolled": true
   },
   "outputs": [
    {
     "data": {
      "text/plain": [
       "100-149,999      2577\n",
       "90-99,999        2400\n",
       "70-79,999        1000\n",
       "50-59,999         888\n",
       "40-49,999         771\n",
       "10-19,999         688\n",
       "175 - 199,999     600\n",
       "30-39,999         553\n",
       "60-69,999         541\n",
       "150 - 174,999     438\n",
       "20-29,999         425\n",
       "200 - 249,999     424\n",
       "250K+             397\n",
       "Under 10K         226\n",
       "80-89,999          15\n",
       "Name: Income, dtype: int64"
      ]
     },
     "execution_count": 32,
     "metadata": {},
     "output_type": "execute_result"
    }
   ],
   "source": [
    "df['Income'].value_counts()"
   ]
  },
  {
   "cell_type": "code",
   "execution_count": 33,
   "metadata": {},
   "outputs": [
    {
     "data": {
      "text/plain": [
       "[105, 95, 75, 55, 45, 15, 180, 35, 65, 155, 25, 205, 250, 10, 85]"
      ]
     },
     "execution_count": 33,
     "metadata": {},
     "output_type": "execute_result"
    }
   ],
   "source": [
    "#Create Income Buckets\n",
    "incomes = [int(item.partition('-')[0]) + 5 for item in df['Income'].value_counts().index[:-3]]\n",
    "incomes.extend([250, 10, 85])\n",
    "incomes"
   ]
  },
  {
   "cell_type": "code",
   "execution_count": 34,
   "metadata": {},
   "outputs": [],
   "source": [
    "income_dic = {k:v for k,v in zip(df['Income'].value_counts().index, incomes)}"
   ]
  },
  {
   "cell_type": "code",
   "execution_count": 35,
   "metadata": {},
   "outputs": [],
   "source": [
    "income_dic[np.nan] = np.nan"
   ]
  },
  {
   "cell_type": "code",
   "execution_count": 36,
   "metadata": {
    "scrolled": true
   },
   "outputs": [
    {
     "data": {
      "text/plain": [
       "{'100-149,999': 105,\n",
       " '90-99,999': 95,\n",
       " '70-79,999': 75,\n",
       " '50-59,999': 55,\n",
       " '40-49,999': 45,\n",
       " '10-19,999': 15,\n",
       " '175 - 199,999': 180,\n",
       " '30-39,999': 35,\n",
       " '60-69,999': 65,\n",
       " '150 - 174,999': 155,\n",
       " '20-29,999': 25,\n",
       " '200 - 249,999': 205,\n",
       " '250K+': 250,\n",
       " 'Under 10K': 10,\n",
       " '80-89,999': 85,\n",
       " nan: nan}"
      ]
     },
     "execution_count": 36,
     "metadata": {},
     "output_type": "execute_result"
    }
   ],
   "source": [
    "income_dic"
   ]
  },
  {
   "cell_type": "code",
   "execution_count": 37,
   "metadata": {},
   "outputs": [],
   "source": [
    "# Define Income Converter Function\n",
    "def income_convert(x):\n",
    "    return income_dic[x]"
   ]
  },
  {
   "cell_type": "code",
   "execution_count": 38,
   "metadata": {},
   "outputs": [],
   "source": [
    "df['Income'] = df['Income'].apply(income_convert)"
   ]
  },
  {
   "cell_type": "code",
   "execution_count": 39,
   "metadata": {
    "scrolled": true
   },
   "outputs": [
    {
     "data": {
      "text/plain": [
       "105.0    2577\n",
       "95.0     2400\n",
       "75.0     1000\n",
       "55.0      888\n",
       "45.0      771\n",
       "15.0      688\n",
       "180.0     600\n",
       "35.0      553\n",
       "65.0      541\n",
       "155.0     438\n",
       "25.0      425\n",
       "205.0     424\n",
       "250.0     397\n",
       "10.0      226\n",
       "85.0       15\n",
       "Name: Income, dtype: int64"
      ]
     },
     "execution_count": 39,
     "metadata": {},
     "output_type": "execute_result"
    }
   ],
   "source": [
    "df['Income'].value_counts()"
   ]
  },
  {
   "cell_type": "code",
   "execution_count": 40,
   "metadata": {},
   "outputs": [
    {
     "data": {
      "text/plain": [
       "<function matplotlib.pyplot.show(*args, **kw)>"
      ]
     },
     "execution_count": 40,
     "metadata": {},
     "output_type": "execute_result"
    },
    {
     "data": {
      "image/png": "[encoded data removed]",
      "text/plain": [
       "<Figure size 432x288 with 1 Axes>"
      ]
     },
     "metadata": {
      "needs_background": "light"
     },
     "output_type": "display_data"
    }
   ],
   "source": [
    "X = df['Income']\n",
    "\n",
    "plt.hist(X)\n",
    "plt.ylabel('Household Count', fontsize = 16, color = '#073997')\n",
    "plt.xlabel('Income Tier', fontsize = 16, color = '#073997')\n",
    "plt.xticks( fontsize =10, color = '#073997')\n",
    "plt.title('Anual Income Distribution', fontsize = 20, color = '#073997')\n",
    "plt.savefig('User_Income_Hist', bbox_inches = 'tight')\n",
    "plt.show"
   ]
  },
  {
   "cell_type": "markdown",
   "metadata": {},
   "source": [
    "### Explore Total Cost By household"
   ]
  },
  {
   "cell_type": "code",
   "execution_count": 41,
   "metadata": {},
   "outputs": [
    {
     "data": {
      "text/plain": [
       "Household Key\n",
       "875.0          1063.20\n",
       "969.0           226.10\n",
       "3338.0            0.00\n",
       "8718.0            0.00\n",
       "11524.0         294.25\n",
       "13422.0         118.85\n",
       "19747.0           0.00\n",
       "20469.0         537.25\n",
       "20850.0           0.00\n",
       "25365.0           0.00\n",
       "30007.0          34.00\n",
       "37468.0           0.00\n",
       "38093.0         555.85\n",
       "41756.0         518.35\n",
       "43381.0         102.00\n",
       "49578.0          30.00\n",
       "55047.0          60.00\n",
       "55295.0           0.00\n",
       "73421.0           0.00\n",
       "93896.0         130.00\n",
       "94927.0           0.00\n",
       "103545.0        390.35\n",
       "106487.0        178.70\n",
       "115289.0          0.00\n",
       "115306.0          0.00\n",
       "115346.0          0.00\n",
       "115351.0         38.00\n",
       "115430.0         53.00\n",
       "116806.0       2189.60\n",
       "117430.0        165.00\n",
       "                ...   \n",
       "99800577.0      454.85\n",
       "99817387.0      270.85\n",
       "99817390.0        0.00\n",
       "99839301.0        0.00\n",
       "99843098.0      117.70\n",
       "99851820.0      147.50\n",
       "99873114.0      318.85\n",
       "99881116.0      106.00\n",
       "99953012.0       58.85\n",
       "99987696.0       53.00\n",
       "99991498.0        0.00\n",
       "99992624.0      276.00\n",
       "99992663.0      122.00\n",
       "99993288.0      229.55\n",
       "99996562.0      265.00\n",
       "100004477.0       0.00\n",
       "100016608.0     323.39\n",
       "100020029.0      53.00\n",
       "100022741.0       0.00\n",
       "100023243.0       0.00\n",
       "100035899.0       0.00\n",
       "100053546.0      53.00\n",
       "100064720.0      54.00\n",
       "100065197.0     297.35\n",
       "100067809.0     212.00\n",
       "100069201.0     106.00\n",
       "100070004.0      60.00\n",
       "100071861.0     447.40\n",
       "100071870.0     211.00\n",
       "100079136.0     771.75\n",
       "Name: Total Cost, Length: 5241, dtype: float64"
      ]
     },
     "execution_count": 41,
     "metadata": {},
     "output_type": "execute_result"
    }
   ],
   "source": [
    "df.groupby('Household Key')['Total Cost'].sum()"
   ]
  },
  {
   "cell_type": "code",
   "execution_count": 42,
   "metadata": {},
   "outputs": [
    {
     "data": {
      "text/plain": [
       "['Number of Children',\n",
       " 'Responded to Catalog',\n",
       " 'Race',\n",
       " 'Length Of Residence',\n",
       " 'Mail Responder',\n",
       " 'Home Owner',\n",
       " 'Income',\n",
       " 'Date Of Birth',\n",
       " 'Children',\n",
       " 'Education',\n",
       " 'Dwelling Type',\n",
       " 'Credit Ranges',\n",
       " 'Language',\n",
       " 'Gender']"
      ]
     },
     "execution_count": 42,
     "metadata": {},
     "output_type": "execute_result"
    }
   ],
   "source": [
    "features"
   ]
  },
  {
   "cell_type": "code",
   "execution_count": 43,
   "metadata": {},
   "outputs": [],
   "source": [
    "simple_df = df[['Household Key','Number of Children', 'age', 'Income',  'Credit Ranges', 'Children', 'Total Cost' ]]"
   ]
  },
  {
   "cell_type": "code",
   "execution_count": 44,
   "metadata": {},
   "outputs": [
    {
     "data": {
      "text/html": [
       "<div>\n",
       "<style scoped>\n",
       "    .dataframe tbody tr th:only-of-type {\n",
       "        vertical-align: middle;\n",
       "    }\n",
       "\n",
       "    .dataframe tbody tr th {\n",
       "        vertical-align: top;\n",
       "    }\n",
       "\n",
       "    .dataframe thead th {\n",
       "        text-align: right;\n",
       "    }\n",
       "</style>\n",
       "<table border=\"1\" class=\"dataframe\">\n",
       "  <thead>\n",
       "    <tr style=\"text-align: right;\">\n",
       "      <th></th>\n",
       "      <th>Household Key</th>\n",
       "      <th>Number of Children</th>\n",
       "      <th>age</th>\n",
       "      <th>Income</th>\n",
       "      <th>Credit Ranges</th>\n",
       "      <th>Children</th>\n",
       "      <th>Total Cost</th>\n",
       "    </tr>\n",
       "  </thead>\n",
       "  <tbody>\n",
       "    <tr>\n",
       "      <th>0</th>\n",
       "      <td>10462590.0</td>\n",
       "      <td>NaN</td>\n",
       "      <td>NaN</td>\n",
       "      <td>NaN</td>\n",
       "      <td>650</td>\n",
       "      <td>0</td>\n",
       "      <td>NaN</td>\n",
       "    </tr>\n",
       "    <tr>\n",
       "      <th>1</th>\n",
       "      <td>4500791.0</td>\n",
       "      <td>1.0</td>\n",
       "      <td>98.0</td>\n",
       "      <td>35.0</td>\n",
       "      <td>625</td>\n",
       "      <td>1</td>\n",
       "      <td>32.5</td>\n",
       "    </tr>\n",
       "    <tr>\n",
       "      <th>2</th>\n",
       "      <td>4500791.0</td>\n",
       "      <td>1.0</td>\n",
       "      <td>98.0</td>\n",
       "      <td>35.0</td>\n",
       "      <td>625</td>\n",
       "      <td>1</td>\n",
       "      <td>30.0</td>\n",
       "    </tr>\n",
       "    <tr>\n",
       "      <th>3</th>\n",
       "      <td>4500791.0</td>\n",
       "      <td>1.0</td>\n",
       "      <td>98.0</td>\n",
       "      <td>35.0</td>\n",
       "      <td>625</td>\n",
       "      <td>1</td>\n",
       "      <td>32.5</td>\n",
       "    </tr>\n",
       "    <tr>\n",
       "      <th>4</th>\n",
       "      <td>4500791.0</td>\n",
       "      <td>1.0</td>\n",
       "      <td>98.0</td>\n",
       "      <td>35.0</td>\n",
       "      <td>625</td>\n",
       "      <td>1</td>\n",
       "      <td>30.0</td>\n",
       "    </tr>\n",
       "  </tbody>\n",
       "</table>\n",
       "</div>"
      ],
      "text/plain": [
       "   Household Key  Number of Children   age  Income  Credit Ranges  Children  \\\n",
       "0     10462590.0                 NaN   NaN     NaN            650         0   \n",
       "1      4500791.0                 1.0  98.0    35.0            625         1   \n",
       "2      4500791.0                 1.0  98.0    35.0            625         1   \n",
       "3      4500791.0                 1.0  98.0    35.0            625         1   \n",
       "4      4500791.0                 1.0  98.0    35.0            625         1   \n",
       "\n",
       "   Total Cost  \n",
       "0         NaN  \n",
       "1        32.5  \n",
       "2        30.0  \n",
       "3        32.5  \n",
       "4        30.0  "
      ]
     },
     "execution_count": 44,
     "metadata": {},
     "output_type": "execute_result"
    }
   ],
   "source": [
    "simple_df.head()"
   ]
  },
  {
   "cell_type": "code",
   "execution_count": 45,
   "metadata": {
    "scrolled": false
   },
   "outputs": [
    {
     "data": {
      "text/html": [
       "<div>\n",
       "<style scoped>\n",
       "    .dataframe tbody tr th:only-of-type {\n",
       "        vertical-align: middle;\n",
       "    }\n",
       "\n",
       "    .dataframe tbody tr th {\n",
       "        vertical-align: top;\n",
       "    }\n",
       "\n",
       "    .dataframe thead th {\n",
       "        text-align: right;\n",
       "    }\n",
       "</style>\n",
       "<table border=\"1\" class=\"dataframe\">\n",
       "  <thead>\n",
       "    <tr style=\"text-align: right;\">\n",
       "      <th></th>\n",
       "      <th>Number of Children</th>\n",
       "      <th>age</th>\n",
       "      <th>Income</th>\n",
       "      <th>Credit Ranges</th>\n",
       "      <th>Children</th>\n",
       "      <th>Total Cost</th>\n",
       "    </tr>\n",
       "    <tr>\n",
       "      <th>Household Key</th>\n",
       "      <th></th>\n",
       "      <th></th>\n",
       "      <th></th>\n",
       "      <th></th>\n",
       "      <th></th>\n",
       "      <th></th>\n",
       "    </tr>\n",
       "  </thead>\n",
       "  <tbody>\n",
       "    <tr>\n",
       "      <th>875.0</th>\n",
       "      <td>0.0</td>\n",
       "      <td>0.0</td>\n",
       "      <td>0.0</td>\n",
       "      <td>11700</td>\n",
       "      <td>0</td>\n",
       "      <td>1063.20</td>\n",
       "    </tr>\n",
       "    <tr>\n",
       "      <th>969.0</th>\n",
       "      <td>0.0</td>\n",
       "      <td>151.0</td>\n",
       "      <td>190.0</td>\n",
       "      <td>4250</td>\n",
       "      <td>0</td>\n",
       "      <td>226.10</td>\n",
       "    </tr>\n",
       "    <tr>\n",
       "      <th>3338.0</th>\n",
       "      <td>1.0</td>\n",
       "      <td>89.0</td>\n",
       "      <td>15.0</td>\n",
       "      <td>2025</td>\n",
       "      <td>1</td>\n",
       "      <td>0.00</td>\n",
       "    </tr>\n",
       "    <tr>\n",
       "      <th>8718.0</th>\n",
       "      <td>0.0</td>\n",
       "      <td>68.0</td>\n",
       "      <td>55.0</td>\n",
       "      <td>1475</td>\n",
       "      <td>0</td>\n",
       "      <td>0.00</td>\n",
       "    </tr>\n",
       "    <tr>\n",
       "      <th>11524.0</th>\n",
       "      <td>8.0</td>\n",
       "      <td>343.0</td>\n",
       "      <td>1105.0</td>\n",
       "      <td>5275</td>\n",
       "      <td>4</td>\n",
       "      <td>294.25</td>\n",
       "    </tr>\n",
       "  </tbody>\n",
       "</table>\n",
       "</div>"
      ],
      "text/plain": [
       "               Number of Children    age  Income  Credit Ranges  Children  \\\n",
       "Household Key                                                               \n",
       "875.0                         0.0    0.0     0.0          11700         0   \n",
       "969.0                         0.0  151.0   190.0           4250         0   \n",
       "3338.0                        1.0   89.0    15.0           2025         1   \n",
       "8718.0                        0.0   68.0    55.0           1475         0   \n",
       "11524.0                       8.0  343.0  1105.0           5275         4   \n",
       "\n",
       "               Total Cost  \n",
       "Household Key              \n",
       "875.0             1063.20  \n",
       "969.0              226.10  \n",
       "3338.0               0.00  \n",
       "8718.0               0.00  \n",
       "11524.0            294.25  "
      ]
     },
     "execution_count": 45,
     "metadata": {},
     "output_type": "execute_result"
    }
   ],
   "source": [
    "simple_df.groupby('Household Key').sum().head()"
   ]
  },
  {
   "cell_type": "markdown",
   "metadata": {},
   "source": [
    "### Aggregate Values as you need them for prediction"
   ]
  },
  {
   "cell_type": "code",
   "execution_count": 46,
   "metadata": {},
   "outputs": [],
   "source": [
    "grouped_df = simple_df.groupby('Household Key').agg({'Income': np.mean, 'Children': np.max, 'Credit Ranges': np.mean, \n",
    "                                                  'age': np.mean, 'Number of Children': 'sum', 'Total Cost': 'sum'})"
   ]
  },
  {
   "cell_type": "code",
   "execution_count": 47,
   "metadata": {
    "scrolled": true
   },
   "outputs": [
    {
     "data": {
      "text/html": [
       "<div>\n",
       "<style scoped>\n",
       "    .dataframe tbody tr th:only-of-type {\n",
       "        vertical-align: middle;\n",
       "    }\n",
       "\n",
       "    .dataframe tbody tr th {\n",
       "        vertical-align: top;\n",
       "    }\n",
       "\n",
       "    .dataframe thead th {\n",
       "        text-align: right;\n",
       "    }\n",
       "</style>\n",
       "<table border=\"1\" class=\"dataframe\">\n",
       "  <thead>\n",
       "    <tr style=\"text-align: right;\">\n",
       "      <th></th>\n",
       "      <th>Income</th>\n",
       "      <th>Children</th>\n",
       "      <th>Credit Ranges</th>\n",
       "      <th>age</th>\n",
       "      <th>Number of Children</th>\n",
       "      <th>Total Cost</th>\n",
       "    </tr>\n",
       "    <tr>\n",
       "      <th>Household Key</th>\n",
       "      <th></th>\n",
       "      <th></th>\n",
       "      <th></th>\n",
       "      <th></th>\n",
       "      <th></th>\n",
       "      <th></th>\n",
       "    </tr>\n",
       "  </thead>\n",
       "  <tbody>\n",
       "    <tr>\n",
       "      <th>875.0</th>\n",
       "      <td>NaN</td>\n",
       "      <td>0</td>\n",
       "      <td>650.000000</td>\n",
       "      <td>NaN</td>\n",
       "      <td>0.0</td>\n",
       "      <td>1063.20</td>\n",
       "    </tr>\n",
       "    <tr>\n",
       "      <th>969.0</th>\n",
       "      <td>95.000000</td>\n",
       "      <td>0</td>\n",
       "      <td>708.333333</td>\n",
       "      <td>75.5</td>\n",
       "      <td>0.0</td>\n",
       "      <td>226.10</td>\n",
       "    </tr>\n",
       "    <tr>\n",
       "      <th>3338.0</th>\n",
       "      <td>15.000000</td>\n",
       "      <td>1</td>\n",
       "      <td>675.000000</td>\n",
       "      <td>89.0</td>\n",
       "      <td>1.0</td>\n",
       "      <td>0.00</td>\n",
       "    </tr>\n",
       "    <tr>\n",
       "      <th>8718.0</th>\n",
       "      <td>55.000000</td>\n",
       "      <td>0</td>\n",
       "      <td>737.500000</td>\n",
       "      <td>68.0</td>\n",
       "      <td>0.0</td>\n",
       "      <td>0.00</td>\n",
       "    </tr>\n",
       "    <tr>\n",
       "      <th>11524.0</th>\n",
       "      <td>157.857143</td>\n",
       "      <td>1</td>\n",
       "      <td>753.571429</td>\n",
       "      <td>49.0</td>\n",
       "      <td>8.0</td>\n",
       "      <td>294.25</td>\n",
       "    </tr>\n",
       "  </tbody>\n",
       "</table>\n",
       "</div>"
      ],
      "text/plain": [
       "                   Income  Children  Credit Ranges   age  Number of Children  \\\n",
       "Household Key                                                                  \n",
       "875.0                 NaN         0     650.000000   NaN                 0.0   \n",
       "969.0           95.000000         0     708.333333  75.5                 0.0   \n",
       "3338.0          15.000000         1     675.000000  89.0                 1.0   \n",
       "8718.0          55.000000         0     737.500000  68.0                 0.0   \n",
       "11524.0        157.857143         1     753.571429  49.0                 8.0   \n",
       "\n",
       "               Total Cost  \n",
       "Household Key              \n",
       "875.0             1063.20  \n",
       "969.0              226.10  \n",
       "3338.0               0.00  \n",
       "8718.0               0.00  \n",
       "11524.0            294.25  "
      ]
     },
     "execution_count": 47,
     "metadata": {},
     "output_type": "execute_result"
    }
   ],
   "source": [
    "grouped_df.head()"
   ]
  },
  {
   "cell_type": "code",
   "execution_count": 48,
   "metadata": {
    "scrolled": false
   },
   "outputs": [
    {
     "data": {
      "text/html": [
       "<div>\n",
       "<style scoped>\n",
       "    .dataframe tbody tr th:only-of-type {\n",
       "        vertical-align: middle;\n",
       "    }\n",
       "\n",
       "    .dataframe tbody tr th {\n",
       "        vertical-align: top;\n",
       "    }\n",
       "\n",
       "    .dataframe thead th {\n",
       "        text-align: right;\n",
       "    }\n",
       "</style>\n",
       "<table border=\"1\" class=\"dataframe\">\n",
       "  <thead>\n",
       "    <tr style=\"text-align: right;\">\n",
       "      <th></th>\n",
       "      <th>FSV Services Count</th>\n",
       "    </tr>\n",
       "    <tr>\n",
       "      <th>Household Key</th>\n",
       "      <th></th>\n",
       "    </tr>\n",
       "  </thead>\n",
       "  <tbody>\n",
       "    <tr>\n",
       "      <th>875.0</th>\n",
       "      <td>1</td>\n",
       "    </tr>\n",
       "    <tr>\n",
       "      <th>969.0</th>\n",
       "      <td>0</td>\n",
       "    </tr>\n",
       "    <tr>\n",
       "      <th>3338.0</th>\n",
       "      <td>0</td>\n",
       "    </tr>\n",
       "    <tr>\n",
       "      <th>8718.0</th>\n",
       "      <td>0</td>\n",
       "    </tr>\n",
       "    <tr>\n",
       "      <th>11524.0</th>\n",
       "      <td>0</td>\n",
       "    </tr>\n",
       "    <tr>\n",
       "      <th>13422.0</th>\n",
       "      <td>0</td>\n",
       "    </tr>\n",
       "    <tr>\n",
       "      <th>19747.0</th>\n",
       "      <td>0</td>\n",
       "    </tr>\n",
       "    <tr>\n",
       "      <th>20469.0</th>\n",
       "      <td>1</td>\n",
       "    </tr>\n",
       "    <tr>\n",
       "      <th>20850.0</th>\n",
       "      <td>0</td>\n",
       "    </tr>\n",
       "    <tr>\n",
       "      <th>25365.0</th>\n",
       "      <td>0</td>\n",
       "    </tr>\n",
       "  </tbody>\n",
       "</table>\n",
       "</div>"
      ],
      "text/plain": [
       "               FSV Services Count\n",
       "Household Key                    \n",
       "875.0                           1\n",
       "969.0                           0\n",
       "3338.0                          0\n",
       "8718.0                          0\n",
       "11524.0                         0\n",
       "13422.0                         0\n",
       "19747.0                         0\n",
       "20469.0                         1\n",
       "20850.0                         0\n",
       "25365.0                         0"
      ]
     },
     "execution_count": 48,
     "metadata": {},
     "output_type": "execute_result"
    }
   ],
   "source": [
    "fsv_count_df = pd.DataFrame(fsv_services['FSV Services Count'], columns = ['FSV Services Count'])\n",
    "fsv_count_df.head(10)"
   ]
  },
  {
   "cell_type": "code",
   "execution_count": 49,
   "metadata": {},
   "outputs": [
    {
     "data": {
      "text/plain": [
       "(5241, 1)"
      ]
     },
     "execution_count": 49,
     "metadata": {},
     "output_type": "execute_result"
    }
   ],
   "source": [
    "fsv_count_df.shape"
   ]
  },
  {
   "cell_type": "code",
   "execution_count": 50,
   "metadata": {
    "scrolled": true
   },
   "outputs": [
    {
     "data": {
      "text/plain": [
       "0     4171\n",
       "1      510\n",
       "2      212\n",
       "3      119\n",
       "4       75\n",
       "6       42\n",
       "5       31\n",
       "7       19\n",
       "8       15\n",
       "9       15\n",
       "11       7\n",
       "12       6\n",
       "10       6\n",
       "14       3\n",
       "13       2\n",
       "17       2\n",
       "18       2\n",
       "24       1\n",
       "16       1\n",
       "28       1\n",
       "15       1\n",
       "Name: FSV Services Count, dtype: int64"
      ]
     },
     "execution_count": 50,
     "metadata": {},
     "output_type": "execute_result"
    }
   ],
   "source": [
    "fsv_count_df['FSV Services Count'].value_counts()"
   ]
  },
  {
   "cell_type": "code",
   "execution_count": 51,
   "metadata": {},
   "outputs": [
    {
     "data": {
      "text/plain": [
       "<function matplotlib.pyplot.show(*args, **kw)>"
      ]
     },
     "execution_count": 51,
     "metadata": {},
     "output_type": "execute_result"
    },
    {
     "data": {
      "image/png": "[encoded data removed]",
      "text/plain": [
       "<Figure size 432x288 with 1 Axes>"
      ]
     },
     "metadata": {
      "needs_background": "light"
     },
     "output_type": "display_data"
    }
   ],
   "source": [
    "X = fsv_count_df['FSV Services Count']\n",
    "\n",
    "plt.hist(X, bins = 30)\n",
    "plt.ylabel('Household Count', fontsize = 16, color = '#073997')\n",
    "plt.xlabel('FSV Services Bought', fontsize = 16, color = '#073997')\n",
    "plt.xticks( fontsize =10, color = '#073997')\n",
    "plt.title('FSV Services Distribution', fontsize = 20, color = '#073997')\n",
    "plt.savefig('FSV_Count_Hist', bbox_inches = 'tight')\n",
    "plt.show"
   ]
  },
  {
   "cell_type": "code",
   "execution_count": 62,
   "metadata": {},
   "outputs": [
    {
     "data": {
      "text/html": [
       "<div>\n",
       "<style scoped>\n",
       "    .dataframe tbody tr th:only-of-type {\n",
       "        vertical-align: middle;\n",
       "    }\n",
       "\n",
       "    .dataframe tbody tr th {\n",
       "        vertical-align: top;\n",
       "    }\n",
       "\n",
       "    .dataframe thead th {\n",
       "        text-align: right;\n",
       "    }\n",
       "</style>\n",
       "<table border=\"1\" class=\"dataframe\">\n",
       "  <thead>\n",
       "    <tr style=\"text-align: right;\">\n",
       "      <th></th>\n",
       "      <th>Income</th>\n",
       "      <th>Children</th>\n",
       "      <th>Credit Ranges</th>\n",
       "      <th>age</th>\n",
       "      <th>Number of Children</th>\n",
       "      <th>Total Cost</th>\n",
       "    </tr>\n",
       "    <tr>\n",
       "      <th>Household Key</th>\n",
       "      <th></th>\n",
       "      <th></th>\n",
       "      <th></th>\n",
       "      <th></th>\n",
       "      <th></th>\n",
       "      <th></th>\n",
       "    </tr>\n",
       "  </thead>\n",
       "  <tbody>\n",
       "    <tr>\n",
       "      <th>875.0</th>\n",
       "      <td>NaN</td>\n",
       "      <td>0</td>\n",
       "      <td>650.000000</td>\n",
       "      <td>NaN</td>\n",
       "      <td>0.0</td>\n",
       "      <td>1063.20</td>\n",
       "    </tr>\n",
       "    <tr>\n",
       "      <th>969.0</th>\n",
       "      <td>95.000000</td>\n",
       "      <td>0</td>\n",
       "      <td>708.333333</td>\n",
       "      <td>75.5</td>\n",
       "      <td>0.0</td>\n",
       "      <td>226.10</td>\n",
       "    </tr>\n",
       "    <tr>\n",
       "      <th>3338.0</th>\n",
       "      <td>15.000000</td>\n",
       "      <td>1</td>\n",
       "      <td>675.000000</td>\n",
       "      <td>89.0</td>\n",
       "      <td>1.0</td>\n",
       "      <td>0.00</td>\n",
       "    </tr>\n",
       "    <tr>\n",
       "      <th>8718.0</th>\n",
       "      <td>55.000000</td>\n",
       "      <td>0</td>\n",
       "      <td>737.500000</td>\n",
       "      <td>68.0</td>\n",
       "      <td>0.0</td>\n",
       "      <td>0.00</td>\n",
       "    </tr>\n",
       "    <tr>\n",
       "      <th>11524.0</th>\n",
       "      <td>157.857143</td>\n",
       "      <td>1</td>\n",
       "      <td>753.571429</td>\n",
       "      <td>49.0</td>\n",
       "      <td>8.0</td>\n",
       "      <td>294.25</td>\n",
       "    </tr>\n",
       "  </tbody>\n",
       "</table>\n",
       "</div>"
      ],
      "text/plain": [
       "                   Income  Children  Credit Ranges   age  Number of Children  \\\n",
       "Household Key                                                                  \n",
       "875.0                 NaN         0     650.000000   NaN                 0.0   \n",
       "969.0           95.000000         0     708.333333  75.5                 0.0   \n",
       "3338.0          15.000000         1     675.000000  89.0                 1.0   \n",
       "8718.0          55.000000         0     737.500000  68.0                 0.0   \n",
       "11524.0        157.857143         1     753.571429  49.0                 8.0   \n",
       "\n",
       "               Total Cost  \n",
       "Household Key              \n",
       "875.0             1063.20  \n",
       "969.0              226.10  \n",
       "3338.0               0.00  \n",
       "8718.0               0.00  \n",
       "11524.0            294.25  "
      ]
     },
     "execution_count": 62,
     "metadata": {},
     "output_type": "execute_result"
    }
   ],
   "source": [
    "grouped_df.head()"
   ]
  },
  {
   "cell_type": "code",
   "execution_count": 63,
   "metadata": {},
   "outputs": [],
   "source": [
    "result = pd.merge(grouped_df, fsv_count_df, how='left', on = 'Household Key')"
   ]
  },
  {
   "cell_type": "code",
   "execution_count": 64,
   "metadata": {
    "scrolled": true
   },
   "outputs": [
    {
     "data": {
      "text/html": [
       "<div>\n",
       "<style scoped>\n",
       "    .dataframe tbody tr th:only-of-type {\n",
       "        vertical-align: middle;\n",
       "    }\n",
       "\n",
       "    .dataframe tbody tr th {\n",
       "        vertical-align: top;\n",
       "    }\n",
       "\n",
       "    .dataframe thead th {\n",
       "        text-align: right;\n",
       "    }\n",
       "</style>\n",
       "<table border=\"1\" class=\"dataframe\">\n",
       "  <thead>\n",
       "    <tr style=\"text-align: right;\">\n",
       "      <th></th>\n",
       "      <th>Income</th>\n",
       "      <th>Children</th>\n",
       "      <th>Credit Ranges</th>\n",
       "      <th>age</th>\n",
       "      <th>Number of Children</th>\n",
       "      <th>Total Cost</th>\n",
       "      <th>FSV Services Count</th>\n",
       "    </tr>\n",
       "    <tr>\n",
       "      <th>Household Key</th>\n",
       "      <th></th>\n",
       "      <th></th>\n",
       "      <th></th>\n",
       "      <th></th>\n",
       "      <th></th>\n",
       "      <th></th>\n",
       "      <th></th>\n",
       "    </tr>\n",
       "  </thead>\n",
       "  <tbody>\n",
       "    <tr>\n",
       "      <th>875.0</th>\n",
       "      <td>NaN</td>\n",
       "      <td>0</td>\n",
       "      <td>650.000000</td>\n",
       "      <td>NaN</td>\n",
       "      <td>0.0</td>\n",
       "      <td>1063.20</td>\n",
       "      <td>1</td>\n",
       "    </tr>\n",
       "    <tr>\n",
       "      <th>969.0</th>\n",
       "      <td>95.000000</td>\n",
       "      <td>0</td>\n",
       "      <td>708.333333</td>\n",
       "      <td>75.5</td>\n",
       "      <td>0.0</td>\n",
       "      <td>226.10</td>\n",
       "      <td>0</td>\n",
       "    </tr>\n",
       "    <tr>\n",
       "      <th>3338.0</th>\n",
       "      <td>15.000000</td>\n",
       "      <td>1</td>\n",
       "      <td>675.000000</td>\n",
       "      <td>89.0</td>\n",
       "      <td>1.0</td>\n",
       "      <td>0.00</td>\n",
       "      <td>0</td>\n",
       "    </tr>\n",
       "    <tr>\n",
       "      <th>8718.0</th>\n",
       "      <td>55.000000</td>\n",
       "      <td>0</td>\n",
       "      <td>737.500000</td>\n",
       "      <td>68.0</td>\n",
       "      <td>0.0</td>\n",
       "      <td>0.00</td>\n",
       "      <td>0</td>\n",
       "    </tr>\n",
       "    <tr>\n",
       "      <th>11524.0</th>\n",
       "      <td>157.857143</td>\n",
       "      <td>1</td>\n",
       "      <td>753.571429</td>\n",
       "      <td>49.0</td>\n",
       "      <td>8.0</td>\n",
       "      <td>294.25</td>\n",
       "      <td>0</td>\n",
       "    </tr>\n",
       "  </tbody>\n",
       "</table>\n",
       "</div>"
      ],
      "text/plain": [
       "                   Income  Children  Credit Ranges   age  Number of Children  \\\n",
       "Household Key                                                                  \n",
       "875.0                 NaN         0     650.000000   NaN                 0.0   \n",
       "969.0           95.000000         0     708.333333  75.5                 0.0   \n",
       "3338.0          15.000000         1     675.000000  89.0                 1.0   \n",
       "8718.0          55.000000         0     737.500000  68.0                 0.0   \n",
       "11524.0        157.857143         1     753.571429  49.0                 8.0   \n",
       "\n",
       "               Total Cost  FSV Services Count  \n",
       "Household Key                                  \n",
       "875.0             1063.20                   1  \n",
       "969.0              226.10                   0  \n",
       "3338.0               0.00                   0  \n",
       "8718.0               0.00                   0  \n",
       "11524.0            294.25                   0  "
      ]
     },
     "execution_count": 64,
     "metadata": {},
     "output_type": "execute_result"
    }
   ],
   "source": [
    "result.head()"
   ]
  },
  {
   "cell_type": "code",
   "execution_count": 65,
   "metadata": {},
   "outputs": [
    {
     "data": {
      "text/plain": [
       "Income                1642\n",
       "Children                 0\n",
       "Credit Ranges            0\n",
       "age                   1960\n",
       "Number of Children       0\n",
       "Total Cost               0\n",
       "FSV Services Count       0\n",
       "dtype: int64"
      ]
     },
     "execution_count": 65,
     "metadata": {},
     "output_type": "execute_result"
    }
   ],
   "source": [
    "result.isna().sum()"
   ]
  },
  {
   "cell_type": "code",
   "execution_count": 66,
   "metadata": {},
   "outputs": [
    {
     "data": {
      "text/plain": [
       "(87.71325807735467, 72.7576969060354)"
      ]
     },
     "execution_count": 66,
     "metadata": {},
     "output_type": "execute_result"
    }
   ],
   "source": [
    "np.mean(result.Income), np.mean(result.age)"
   ]
  },
  {
   "cell_type": "code",
   "execution_count": 67,
   "metadata": {
    "scrolled": true
   },
   "outputs": [
    {
     "data": {
      "text/plain": [
       "(52.181845057118224, 14.027015328146632)"
      ]
     },
     "execution_count": 67,
     "metadata": {},
     "output_type": "execute_result"
    }
   ],
   "source": [
    "np.std(result.Income), np.std(result.age)"
   ]
  },
  {
   "cell_type": "markdown",
   "metadata": {},
   "source": [
    "## Test what happens if you use median value to fill nan"
   ]
  },
  {
   "cell_type": "code",
   "execution_count": 58,
   "metadata": {},
   "outputs": [],
   "source": [
    "# result.age.fillna(np.mean(result.age) - np.std(result.age), inplace = True)\n",
    "# result.Income.fillna(np.mean(result.Income) - np.std(result.Income)/2, inplace = True)"
   ]
  },
  {
   "cell_type": "code",
   "execution_count": 59,
   "metadata": {
    "scrolled": true
   },
   "outputs": [
    {
     "data": {
      "text/plain": [
       "Income                0\n",
       "Children              0\n",
       "Credit Ranges         0\n",
       "age                   0\n",
       "Number of Children    0\n",
       "Total Cost            0\n",
       "FSV Services Count    0\n",
       "dtype: int64"
      ]
     },
     "execution_count": 59,
     "metadata": {},
     "output_type": "execute_result"
    }
   ],
   "source": [
    "# result.isna().sum()"
   ]
  },
  {
   "cell_type": "code",
   "execution_count": 60,
   "metadata": {
    "scrolled": true
   },
   "outputs": [
    {
     "data": {
      "text/plain": [
       "<function matplotlib.pyplot.show(*args, **kw)>"
      ]
     },
     "execution_count": 60,
     "metadata": {},
     "output_type": "execute_result"
    },
    {
     "data": {
      "image/png": "[encoded data removed]",
      "text/plain": [
       "<Figure size 432x288 with 1 Axes>"
      ]
     },
     "metadata": {
      "needs_background": "light"
     },
     "output_type": "display_data"
    }
   ],
   "source": [
    "# X = result['Income']\n",
    "\n",
    "# plt.hist(X)\n",
    "# plt.ylabel('Count', fontsize = 16, color = '#073997')\n",
    "# plt.xlabel('Income Tier', fontsize = 16, color = '#073997')\n",
    "# plt.xticks( fontsize =10, color = '#073997')\n",
    "# plt.title('Anual Income Distribution', fontsize = 20, color = '#073997')\n",
    "# plt.show"
   ]
  },
  {
   "cell_type": "code",
   "execution_count": null,
   "metadata": {
    "scrolled": true
   },
   "outputs": [],
   "source": [
    "# X = result['age']\n",
    "\n",
    "# plt.hist(X)\n",
    "# plt.ylabel('Count', fontsize = 16, color = '#073997')\n",
    "# plt.xlabel('Age', fontsize = 16, color = '#073997')\n",
    "# plt.xticks( fontsize =10, color = '#073997')\n",
    "# plt.title('Age Distribution', fontsize = 20, color = '#073997')\n",
    "# plt.savefig('User_Children_histogram', bbox_inches = 'tight')\n",
    "# plt.show"
   ]
  },
  {
   "cell_type": "markdown",
   "metadata": {},
   "source": [
    "# NB NB NB - This is where we Change Grouped to Result!!!"
   ]
  },
  {
   "cell_type": "code",
   "execution_count": 120,
   "metadata": {
    "scrolled": true
   },
   "outputs": [
    {
     "data": {
      "text/html": [
       "<div>\n",
       "<style scoped>\n",
       "    .dataframe tbody tr th:only-of-type {\n",
       "        vertical-align: middle;\n",
       "    }\n",
       "\n",
       "    .dataframe tbody tr th {\n",
       "        vertical-align: top;\n",
       "    }\n",
       "\n",
       "    .dataframe thead th {\n",
       "        text-align: right;\n",
       "    }\n",
       "</style>\n",
       "<table border=\"1\" class=\"dataframe\">\n",
       "  <thead>\n",
       "    <tr style=\"text-align: right;\">\n",
       "      <th></th>\n",
       "      <th>Income</th>\n",
       "      <th>Credit Ranges</th>\n",
       "      <th>age</th>\n",
       "      <th>Number of Children</th>\n",
       "      <th>FSV Services Count</th>\n",
       "      <th>Total Cost</th>\n",
       "    </tr>\n",
       "    <tr>\n",
       "      <th>Household Key</th>\n",
       "      <th></th>\n",
       "      <th></th>\n",
       "      <th></th>\n",
       "      <th></th>\n",
       "      <th></th>\n",
       "      <th></th>\n",
       "    </tr>\n",
       "  </thead>\n",
       "  <tbody>\n",
       "    <tr>\n",
       "      <th>969.0</th>\n",
       "      <td>95.000000</td>\n",
       "      <td>708.333333</td>\n",
       "      <td>75.500000</td>\n",
       "      <td>0.0</td>\n",
       "      <td>0</td>\n",
       "      <td>226.10</td>\n",
       "    </tr>\n",
       "    <tr>\n",
       "      <th>3338.0</th>\n",
       "      <td>15.000000</td>\n",
       "      <td>675.000000</td>\n",
       "      <td>89.000000</td>\n",
       "      <td>1.0</td>\n",
       "      <td>0</td>\n",
       "      <td>0.00</td>\n",
       "    </tr>\n",
       "    <tr>\n",
       "      <th>8718.0</th>\n",
       "      <td>55.000000</td>\n",
       "      <td>737.500000</td>\n",
       "      <td>68.000000</td>\n",
       "      <td>0.0</td>\n",
       "      <td>0</td>\n",
       "      <td>0.00</td>\n",
       "    </tr>\n",
       "    <tr>\n",
       "      <th>11524.0</th>\n",
       "      <td>157.857143</td>\n",
       "      <td>753.571429</td>\n",
       "      <td>49.000000</td>\n",
       "      <td>8.0</td>\n",
       "      <td>0</td>\n",
       "      <td>294.25</td>\n",
       "    </tr>\n",
       "    <tr>\n",
       "      <th>13422.0</th>\n",
       "      <td>95.000000</td>\n",
       "      <td>668.750000</td>\n",
       "      <td>69.333333</td>\n",
       "      <td>0.0</td>\n",
       "      <td>0</td>\n",
       "      <td>118.85</td>\n",
       "    </tr>\n",
       "  </tbody>\n",
       "</table>\n",
       "</div>"
      ],
      "text/plain": [
       "                   Income  Credit Ranges        age  Number of Children  \\\n",
       "Household Key                                                             \n",
       "969.0           95.000000     708.333333  75.500000                 0.0   \n",
       "3338.0          15.000000     675.000000  89.000000                 1.0   \n",
       "8718.0          55.000000     737.500000  68.000000                 0.0   \n",
       "11524.0        157.857143     753.571429  49.000000                 8.0   \n",
       "13422.0         95.000000     668.750000  69.333333                 0.0   \n",
       "\n",
       "               FSV Services Count  Total Cost  \n",
       "Household Key                                  \n",
       "969.0                           0      226.10  \n",
       "3338.0                          0        0.00  \n",
       "8718.0                          0        0.00  \n",
       "11524.0                         0      294.25  \n",
       "13422.0                         0      118.85  "
      ]
     },
     "execution_count": 120,
     "metadata": {},
     "output_type": "execute_result"
    }
   ],
   "source": [
    "result.head()"
   ]
  },
  {
   "cell_type": "code",
   "execution_count": 121,
   "metadata": {},
   "outputs": [
    {
     "data": {
      "text/plain": [
       "<matplotlib.axes._subplots.AxesSubplot at 0x1a1dfe7f60>"
      ]
     },
     "execution_count": 121,
     "metadata": {},
     "output_type": "execute_result"
    },
    {
     "data": {
      "image/png": "[encoded data removed]",
      "text/plain": [
       "<Figure size 432x288 with 2 Axes>"
      ]
     },
     "metadata": {
      "needs_background": "light"
     },
     "output_type": "display_data"
    }
   ],
   "source": [
    "sns.heatmap(result.corr(), annot = True)"
   ]
  },
  {
   "cell_type": "code",
   "execution_count": 69,
   "metadata": {},
   "outputs": [],
   "source": [
    "grouped_df = result"
   ]
  },
  {
   "cell_type": "code",
   "execution_count": 70,
   "metadata": {
    "scrolled": true
   },
   "outputs": [
    {
     "data": {
      "text/html": [
       "<div>\n",
       "<style scoped>\n",
       "    .dataframe tbody tr th:only-of-type {\n",
       "        vertical-align: middle;\n",
       "    }\n",
       "\n",
       "    .dataframe tbody tr th {\n",
       "        vertical-align: top;\n",
       "    }\n",
       "\n",
       "    .dataframe thead th {\n",
       "        text-align: right;\n",
       "    }\n",
       "</style>\n",
       "<table border=\"1\" class=\"dataframe\">\n",
       "  <thead>\n",
       "    <tr style=\"text-align: right;\">\n",
       "      <th></th>\n",
       "      <th>Income</th>\n",
       "      <th>Children</th>\n",
       "      <th>Credit Ranges</th>\n",
       "      <th>age</th>\n",
       "      <th>Number of Children</th>\n",
       "      <th>Total Cost</th>\n",
       "      <th>FSV Services Count</th>\n",
       "    </tr>\n",
       "    <tr>\n",
       "      <th>Household Key</th>\n",
       "      <th></th>\n",
       "      <th></th>\n",
       "      <th></th>\n",
       "      <th></th>\n",
       "      <th></th>\n",
       "      <th></th>\n",
       "      <th></th>\n",
       "    </tr>\n",
       "  </thead>\n",
       "  <tbody>\n",
       "    <tr>\n",
       "      <th>875.0</th>\n",
       "      <td>NaN</td>\n",
       "      <td>0</td>\n",
       "      <td>650.000000</td>\n",
       "      <td>NaN</td>\n",
       "      <td>0.0</td>\n",
       "      <td>1063.20</td>\n",
       "      <td>1</td>\n",
       "    </tr>\n",
       "    <tr>\n",
       "      <th>969.0</th>\n",
       "      <td>95.000000</td>\n",
       "      <td>0</td>\n",
       "      <td>708.333333</td>\n",
       "      <td>75.5</td>\n",
       "      <td>0.0</td>\n",
       "      <td>226.10</td>\n",
       "      <td>0</td>\n",
       "    </tr>\n",
       "    <tr>\n",
       "      <th>3338.0</th>\n",
       "      <td>15.000000</td>\n",
       "      <td>1</td>\n",
       "      <td>675.000000</td>\n",
       "      <td>89.0</td>\n",
       "      <td>1.0</td>\n",
       "      <td>0.00</td>\n",
       "      <td>0</td>\n",
       "    </tr>\n",
       "    <tr>\n",
       "      <th>8718.0</th>\n",
       "      <td>55.000000</td>\n",
       "      <td>0</td>\n",
       "      <td>737.500000</td>\n",
       "      <td>68.0</td>\n",
       "      <td>0.0</td>\n",
       "      <td>0.00</td>\n",
       "      <td>0</td>\n",
       "    </tr>\n",
       "    <tr>\n",
       "      <th>11524.0</th>\n",
       "      <td>157.857143</td>\n",
       "      <td>1</td>\n",
       "      <td>753.571429</td>\n",
       "      <td>49.0</td>\n",
       "      <td>8.0</td>\n",
       "      <td>294.25</td>\n",
       "      <td>0</td>\n",
       "    </tr>\n",
       "  </tbody>\n",
       "</table>\n",
       "</div>"
      ],
      "text/plain": [
       "                   Income  Children  Credit Ranges   age  Number of Children  \\\n",
       "Household Key                                                                  \n",
       "875.0                 NaN         0     650.000000   NaN                 0.0   \n",
       "969.0           95.000000         0     708.333333  75.5                 0.0   \n",
       "3338.0          15.000000         1     675.000000  89.0                 1.0   \n",
       "8718.0          55.000000         0     737.500000  68.0                 0.0   \n",
       "11524.0        157.857143         1     753.571429  49.0                 8.0   \n",
       "\n",
       "               Total Cost  FSV Services Count  \n",
       "Household Key                                  \n",
       "875.0             1063.20                   1  \n",
       "969.0              226.10                   0  \n",
       "3338.0               0.00                   0  \n",
       "8718.0               0.00                   0  \n",
       "11524.0            294.25                   0  "
      ]
     },
     "execution_count": 70,
     "metadata": {},
     "output_type": "execute_result"
    }
   ],
   "source": [
    "grouped_df.head()"
   ]
  },
  {
   "cell_type": "code",
   "execution_count": 71,
   "metadata": {},
   "outputs": [],
   "source": [
    "grouped_df.drop(['Children'], axis =1, inplace = True)"
   ]
  },
  {
   "cell_type": "code",
   "execution_count": 72,
   "metadata": {},
   "outputs": [],
   "source": [
    "df2 = grouped_df.pop('Total Cost')\n",
    "grouped_df['Total Cost'] = df2"
   ]
  },
  {
   "cell_type": "code",
   "execution_count": 73,
   "metadata": {},
   "outputs": [
    {
     "data": {
      "text/html": [
       "<div>\n",
       "<style scoped>\n",
       "    .dataframe tbody tr th:only-of-type {\n",
       "        vertical-align: middle;\n",
       "    }\n",
       "\n",
       "    .dataframe tbody tr th {\n",
       "        vertical-align: top;\n",
       "    }\n",
       "\n",
       "    .dataframe thead th {\n",
       "        text-align: right;\n",
       "    }\n",
       "</style>\n",
       "<table border=\"1\" class=\"dataframe\">\n",
       "  <thead>\n",
       "    <tr style=\"text-align: right;\">\n",
       "      <th></th>\n",
       "      <th>Income</th>\n",
       "      <th>Credit Ranges</th>\n",
       "      <th>age</th>\n",
       "      <th>Number of Children</th>\n",
       "      <th>FSV Services Count</th>\n",
       "      <th>Total Cost</th>\n",
       "    </tr>\n",
       "    <tr>\n",
       "      <th>Household Key</th>\n",
       "      <th></th>\n",
       "      <th></th>\n",
       "      <th></th>\n",
       "      <th></th>\n",
       "      <th></th>\n",
       "      <th></th>\n",
       "    </tr>\n",
       "  </thead>\n",
       "  <tbody>\n",
       "    <tr>\n",
       "      <th>875.0</th>\n",
       "      <td>NaN</td>\n",
       "      <td>650.000000</td>\n",
       "      <td>NaN</td>\n",
       "      <td>0.0</td>\n",
       "      <td>1</td>\n",
       "      <td>1063.20</td>\n",
       "    </tr>\n",
       "    <tr>\n",
       "      <th>969.0</th>\n",
       "      <td>95.000000</td>\n",
       "      <td>708.333333</td>\n",
       "      <td>75.5</td>\n",
       "      <td>0.0</td>\n",
       "      <td>0</td>\n",
       "      <td>226.10</td>\n",
       "    </tr>\n",
       "    <tr>\n",
       "      <th>3338.0</th>\n",
       "      <td>15.000000</td>\n",
       "      <td>675.000000</td>\n",
       "      <td>89.0</td>\n",
       "      <td>1.0</td>\n",
       "      <td>0</td>\n",
       "      <td>0.00</td>\n",
       "    </tr>\n",
       "    <tr>\n",
       "      <th>8718.0</th>\n",
       "      <td>55.000000</td>\n",
       "      <td>737.500000</td>\n",
       "      <td>68.0</td>\n",
       "      <td>0.0</td>\n",
       "      <td>0</td>\n",
       "      <td>0.00</td>\n",
       "    </tr>\n",
       "    <tr>\n",
       "      <th>11524.0</th>\n",
       "      <td>157.857143</td>\n",
       "      <td>753.571429</td>\n",
       "      <td>49.0</td>\n",
       "      <td>8.0</td>\n",
       "      <td>0</td>\n",
       "      <td>294.25</td>\n",
       "    </tr>\n",
       "  </tbody>\n",
       "</table>\n",
       "</div>"
      ],
      "text/plain": [
       "                   Income  Credit Ranges   age  Number of Children  \\\n",
       "Household Key                                                        \n",
       "875.0                 NaN     650.000000   NaN                 0.0   \n",
       "969.0           95.000000     708.333333  75.5                 0.0   \n",
       "3338.0          15.000000     675.000000  89.0                 1.0   \n",
       "8718.0          55.000000     737.500000  68.0                 0.0   \n",
       "11524.0        157.857143     753.571429  49.0                 8.0   \n",
       "\n",
       "               FSV Services Count  Total Cost  \n",
       "Household Key                                  \n",
       "875.0                           1     1063.20  \n",
       "969.0                           0      226.10  \n",
       "3338.0                          0        0.00  \n",
       "8718.0                          0        0.00  \n",
       "11524.0                         0      294.25  "
      ]
     },
     "execution_count": 73,
     "metadata": {},
     "output_type": "execute_result"
    }
   ],
   "source": [
    "grouped_df.head()"
   ]
  },
  {
   "cell_type": "markdown",
   "metadata": {},
   "source": [
    "### Try dropping Outlier 15K Cost to improve models"
   ]
  },
  {
   "cell_type": "code",
   "execution_count": 74,
   "metadata": {
    "scrolled": true
   },
   "outputs": [
    {
     "data": {
      "text/html": [
       "<div>\n",
       "<style scoped>\n",
       "    .dataframe tbody tr th:only-of-type {\n",
       "        vertical-align: middle;\n",
       "    }\n",
       "\n",
       "    .dataframe tbody tr th {\n",
       "        vertical-align: top;\n",
       "    }\n",
       "\n",
       "    .dataframe thead th {\n",
       "        text-align: right;\n",
       "    }\n",
       "</style>\n",
       "<table border=\"1\" class=\"dataframe\">\n",
       "  <thead>\n",
       "    <tr style=\"text-align: right;\">\n",
       "      <th></th>\n",
       "      <th>Income</th>\n",
       "      <th>Credit Ranges</th>\n",
       "      <th>age</th>\n",
       "      <th>Number of Children</th>\n",
       "      <th>FSV Services Count</th>\n",
       "      <th>Total Cost</th>\n",
       "    </tr>\n",
       "    <tr>\n",
       "      <th>Household Key</th>\n",
       "      <th></th>\n",
       "      <th></th>\n",
       "      <th></th>\n",
       "      <th></th>\n",
       "      <th></th>\n",
       "      <th></th>\n",
       "    </tr>\n",
       "  </thead>\n",
       "  <tbody>\n",
       "    <tr>\n",
       "      <th>90083049.0</th>\n",
       "      <td>95.0</td>\n",
       "      <td>653.75</td>\n",
       "      <td>36.75</td>\n",
       "      <td>18.0</td>\n",
       "      <td>0</td>\n",
       "      <td>14113.85</td>\n",
       "    </tr>\n",
       "  </tbody>\n",
       "</table>\n",
       "</div>"
      ],
      "text/plain": [
       "               Income  Credit Ranges    age  Number of Children  \\\n",
       "Household Key                                                     \n",
       "90083049.0       95.0         653.75  36.75                18.0   \n",
       "\n",
       "               FSV Services Count  Total Cost  \n",
       "Household Key                                  \n",
       "90083049.0                      0    14113.85  "
      ]
     },
     "execution_count": 74,
     "metadata": {},
     "output_type": "execute_result"
    }
   ],
   "source": [
    "grouped_df[grouped_df['Total Cost'] == 14113.850000]"
   ]
  },
  {
   "cell_type": "code",
   "execution_count": 75,
   "metadata": {},
   "outputs": [
    {
     "data": {
      "text/plain": [
       "Float64Index([90083049.0], dtype='float64', name='Household Key')"
      ]
     },
     "execution_count": 75,
     "metadata": {},
     "output_type": "execute_result"
    }
   ],
   "source": [
    "grouped_df[grouped_df['Total Cost'] == 14113.850000].index"
   ]
  },
  {
   "cell_type": "code",
   "execution_count": 76,
   "metadata": {},
   "outputs": [],
   "source": [
    "grouped_df.drop(grouped_df[grouped_df['Total Cost'] == 14113.850000].index , inplace=True)"
   ]
  },
  {
   "cell_type": "code",
   "execution_count": 77,
   "metadata": {},
   "outputs": [
    {
     "name": "stdout",
     "output_type": "stream",
     "text": [
      "<class 'pandas.core.frame.DataFrame'>\n",
      "Float64Index: 5240 entries, 875.0 to 100079136.0\n",
      "Data columns (total 6 columns):\n",
      "Income                3598 non-null float64\n",
      "Credit Ranges         5240 non-null float64\n",
      "age                   3280 non-null float64\n",
      "Number of Children    5240 non-null float64\n",
      "FSV Services Count    5240 non-null int64\n",
      "Total Cost            5240 non-null float64\n",
      "dtypes: float64(5), int64(1)\n",
      "memory usage: 286.6 KB\n"
     ]
    }
   ],
   "source": [
    "grouped_df.info()"
   ]
  },
  {
   "cell_type": "code",
   "execution_count": 78,
   "metadata": {},
   "outputs": [],
   "source": [
    "grouped_df.dropna(inplace = True)"
   ]
  },
  {
   "cell_type": "code",
   "execution_count": 79,
   "metadata": {
    "scrolled": false
   },
   "outputs": [
    {
     "name": "stdout",
     "output_type": "stream",
     "text": [
      "<class 'pandas.core.frame.DataFrame'>\n",
      "Float64Index: 3273 entries, 969.0 to 100071861.0\n",
      "Data columns (total 6 columns):\n",
      "Income                3273 non-null float64\n",
      "Credit Ranges         3273 non-null float64\n",
      "age                   3273 non-null float64\n",
      "Number of Children    3273 non-null float64\n",
      "FSV Services Count    3273 non-null int64\n",
      "Total Cost            3273 non-null float64\n",
      "dtypes: float64(5), int64(1)\n",
      "memory usage: 179.0 KB\n"
     ]
    }
   ],
   "source": [
    "grouped_df.info()"
   ]
  },
  {
   "cell_type": "markdown",
   "metadata": {},
   "source": [
    "### Save Grouped to CSV"
   ]
  },
  {
   "cell_type": "code",
   "execution_count": 80,
   "metadata": {},
   "outputs": [],
   "source": [
    "grouped_df.to_csv('grouped.csv')"
   ]
  },
  {
   "cell_type": "markdown",
   "metadata": {},
   "source": [
    "### Do Some Data Exploration"
   ]
  },
  {
   "cell_type": "code",
   "execution_count": 133,
   "metadata": {
    "scrolled": false
   },
   "outputs": [
    {
     "data": {
      "text/plain": [
       "<function matplotlib.pyplot.show(*args, **kw)>"
      ]
     },
     "execution_count": 133,
     "metadata": {},
     "output_type": "execute_result"
    },
    {
     "data": {
      "image/png": "[encoded data removed]",
      "text/plain": [
       "<Figure size 900x180 with 5 Axes>"
      ]
     },
     "metadata": {
      "needs_background": "light"
     },
     "output_type": "display_data"
    }
   ],
   "source": [
    "import seaborn as sns\n",
    "import matplotlib.pyplot as plt\n",
    "%matplotlib inline\n",
    "\n",
    "variables = list(grouped_df.columns)[:-1]\n",
    "sns.pairplot(grouped_df, x_vars=variables, y_vars=['Total Cost'])\n",
    "plt.savefig('Pairplots_corr', bbox_inches = 'tight')\n",
    "plt.show"
   ]
  },
  {
   "cell_type": "code",
   "execution_count": 135,
   "metadata": {},
   "outputs": [
    {
     "data": {
      "image/png": "[encoded data removed]",
      "text/plain": [
       "<Figure size 432x288 with 2 Axes>"
      ]
     },
     "metadata": {
      "needs_background": "light"
     },
     "output_type": "display_data"
    }
   ],
   "source": [
    "sns.heatmap(grouped_df.corr(), annot = True)\n",
    "plt.savefig('Linear_Feature_corr', bbox_inches = 'tight')"
   ]
  },
  {
   "cell_type": "markdown",
   "metadata": {},
   "source": [
    "### Instantiate some Models"
   ]
  },
  {
   "cell_type": "code",
   "execution_count": 139,
   "metadata": {},
   "outputs": [],
   "source": [
    "from sklearn.linear_model import LogisticRegression\n",
    "from sklearn.linear_model import LinearRegression\n",
    "from sklearn.neighbors import KNeighborsClassifier\n",
    "from sklearn.tree import DecisionTreeRegressor\n",
    "from sklearn.ensemble import RandomForestClassifier\n",
    "from sklearn.cluster import KMeans, SpectralClustering\n",
    "\n",
    "from sklearn.model_selection import train_test_split\n",
    "from sklearn.metrics import mean_squared_error"
   ]
  },
  {
   "cell_type": "code",
   "execution_count": 124,
   "metadata": {},
   "outputs": [],
   "source": [
    "ln = LinearRegression()\n",
    "tree = DecisionTreeRegressor(max_depth = 3)"
   ]
  },
  {
   "cell_type": "markdown",
   "metadata": {},
   "source": [
    "### Define X, y training features"
   ]
  },
  {
   "cell_type": "code",
   "execution_count": 122,
   "metadata": {},
   "outputs": [],
   "source": [
    "X = grouped_df.drop('Total Cost', axis = 1)\n",
    "y = grouped_df['Total Cost']\n",
    "\n",
    "X_train, X_test, y_train, y_test = train_test_split(X,y, random_state = 18)"
   ]
  },
  {
   "cell_type": "markdown",
   "metadata": {},
   "source": [
    "### Train Models"
   ]
  },
  {
   "cell_type": "code",
   "execution_count": 125,
   "metadata": {},
   "outputs": [
    {
     "data": {
      "text/plain": [
       "DecisionTreeRegressor(ccp_alpha=0.0, criterion='mse', max_depth=3,\n",
       "                      max_features=None, max_leaf_nodes=None,\n",
       "                      min_impurity_decrease=0.0, min_impurity_split=None,\n",
       "                      min_samples_leaf=1, min_samples_split=2,\n",
       "                      min_weight_fraction_leaf=0.0, presort='deprecated',\n",
       "                      random_state=None, splitter='best')"
      ]
     },
     "execution_count": 125,
     "metadata": {},
     "output_type": "execute_result"
    }
   ],
   "source": [
    "ln.fit(X_train, y_train)\n",
    "tree.fit(X_train, y_train)"
   ]
  },
  {
   "cell_type": "code",
   "execution_count": 126,
   "metadata": {},
   "outputs": [
    {
     "data": {
      "text/plain": [
       "(0.372299620483331, 0.35129687867849635)"
      ]
     },
     "execution_count": 126,
     "metadata": {},
     "output_type": "execute_result"
    }
   ],
   "source": [
    "ln.score(X_test, y_test), tree.score(X_test, y_test)"
   ]
  },
  {
   "cell_type": "code",
   "execution_count": 127,
   "metadata": {},
   "outputs": [
    {
     "data": {
      "text/plain": [
       "(array([-0.09509516, -0.13569591, -1.43583289, 14.67194001, 24.74589347]),\n",
       " array([0.       , 0.       , 0.       , 0.8519852, 0.1480148]))"
      ]
     },
     "execution_count": 127,
     "metadata": {},
     "output_type": "execute_result"
    }
   ],
   "source": [
    "ln.coef_, tree.feature_importances_"
   ]
  },
  {
   "cell_type": "code",
   "execution_count": 128,
   "metadata": {},
   "outputs": [
    {
     "data": {
      "text/html": [
       "<div>\n",
       "<style scoped>\n",
       "    .dataframe tbody tr th:only-of-type {\n",
       "        vertical-align: middle;\n",
       "    }\n",
       "\n",
       "    .dataframe tbody tr th {\n",
       "        vertical-align: top;\n",
       "    }\n",
       "\n",
       "    .dataframe thead th {\n",
       "        text-align: right;\n",
       "    }\n",
       "</style>\n",
       "<table border=\"1\" class=\"dataframe\">\n",
       "  <thead>\n",
       "    <tr style=\"text-align: right;\">\n",
       "      <th></th>\n",
       "      <th>coefs</th>\n",
       "      <th>feature</th>\n",
       "    </tr>\n",
       "  </thead>\n",
       "  <tbody>\n",
       "    <tr>\n",
       "      <th>0</th>\n",
       "      <td>-0.095095</td>\n",
       "      <td>Income</td>\n",
       "    </tr>\n",
       "    <tr>\n",
       "      <th>1</th>\n",
       "      <td>-0.135696</td>\n",
       "      <td>Credit Ranges</td>\n",
       "    </tr>\n",
       "    <tr>\n",
       "      <th>2</th>\n",
       "      <td>-1.435833</td>\n",
       "      <td>age</td>\n",
       "    </tr>\n",
       "    <tr>\n",
       "      <th>3</th>\n",
       "      <td>14.671940</td>\n",
       "      <td>Number of Children</td>\n",
       "    </tr>\n",
       "    <tr>\n",
       "      <th>4</th>\n",
       "      <td>24.745893</td>\n",
       "      <td>FSV Services Count</td>\n",
       "    </tr>\n",
       "  </tbody>\n",
       "</table>\n",
       "</div>"
      ],
      "text/plain": [
       "       coefs             feature\n",
       "0  -0.095095              Income\n",
       "1  -0.135696       Credit Ranges\n",
       "2  -1.435833                 age\n",
       "3  14.671940  Number of Children\n",
       "4  24.745893  FSV Services Count"
      ]
     },
     "execution_count": 128,
     "metadata": {},
     "output_type": "execute_result"
    }
   ],
   "source": [
    "coef_df = pd.DataFrame({'coefs': ln.coef_, 'feature': X_test.columns})\n",
    "coef_df.head()"
   ]
  },
  {
   "cell_type": "code",
   "execution_count": 129,
   "metadata": {},
   "outputs": [
    {
     "data": {
      "text/plain": [
       "([0, 1, 2, 3, 4], <a list of 5 Text xticklabel objects>)"
      ]
     },
     "execution_count": 129,
     "metadata": {},
     "output_type": "execute_result"
    },
    {
     "data": {
      "image/png": "[encoded data removed]",
      "text/plain": [
       "<Figure size 576x288 with 1 Axes>"
      ]
     },
     "metadata": {
      "needs_background": "light"
     },
     "output_type": "display_data"
    }
   ],
   "source": [
    "plt.figure(figsize = (8,4))\n",
    "plt.bar(coef_df['feature'], coef_df['coefs'])\n",
    "plt.xticks(rotation = 90)"
   ]
  },
  {
   "cell_type": "code",
   "execution_count": 130,
   "metadata": {},
   "outputs": [],
   "source": [
    "pred_ln = ln.predict(X_test)\n",
    "pred_tree = tree.predict(X_test)"
   ]
  },
  {
   "cell_type": "code",
   "execution_count": 131,
   "metadata": {},
   "outputs": [
    {
     "data": {
      "text/plain": [
       "142.9005429567835"
      ]
     },
     "execution_count": 131,
     "metadata": {},
     "output_type": "execute_result"
    }
   ],
   "source": [
    "np.sqrt(mean_squared_error(y_test, pred_ln))"
   ]
  },
  {
   "cell_type": "code",
   "execution_count": 132,
   "metadata": {
    "scrolled": true
   },
   "outputs": [
    {
     "data": {
      "text/plain": [
       "145.27158571268382"
      ]
     },
     "execution_count": 132,
     "metadata": {},
     "output_type": "execute_result"
    }
   ],
   "source": [
    "np.sqrt(mean_squared_error(y_test, pred_tree))"
   ]
  },
  {
   "cell_type": "markdown",
   "metadata": {},
   "source": [
    "### Try Scaling and using Polynomial Features"
   ]
  },
  {
   "cell_type": "code",
   "execution_count": null,
   "metadata": {},
   "outputs": [],
   "source": [
    "from sklearn.preprocessing import StandardScaler\n",
    "\n",
    "scaler = StandardScaler()\n",
    "test_table = grouped_df.drop(['Total Cost'], axis = 1)\n",
    "scaled = scaler.fit_transform(test_table)\n",
    "scaled_df = pd.DataFrame(scaled, index = grouped_df.index, columns=[test_table.columns])\n",
    "# scaled_table = scale(test_table2)\n",
    "# scaled_table = pd.DataFrame(scaled_table, columns=[test_table2.columns])\n",
    "# scaled_table['Children'] = grouped_df['Children']\n",
    "# scaled_table['Total Cost'] = grouped_df['Total Cost']\n",
    "# scaled_table.head()"
   ]
  },
  {
   "cell_type": "code",
   "execution_count": null,
   "metadata": {},
   "outputs": [],
   "source": [
    "grouped_df.head()"
   ]
  },
  {
   "cell_type": "code",
   "execution_count": null,
   "metadata": {
    "scrolled": false
   },
   "outputs": [],
   "source": [
    "scaled_df.head()"
   ]
  },
  {
   "cell_type": "code",
   "execution_count": null,
   "metadata": {},
   "outputs": [],
   "source": [
    "scaled_columns = ['Income', 'Credit Ranges', 'age', 'Number of Children', 'FSV Services Count']"
   ]
  },
  {
   "cell_type": "code",
   "execution_count": null,
   "metadata": {},
   "outputs": [],
   "source": [
    "# scaled_df['Children'] = grouped_df['Children']\n",
    "scaled_df['Total Cost'] = grouped_df['Total Cost']"
   ]
  },
  {
   "cell_type": "code",
   "execution_count": null,
   "metadata": {
    "scrolled": false
   },
   "outputs": [],
   "source": [
    "scaled_df.head()"
   ]
  },
  {
   "cell_type": "code",
   "execution_count": null,
   "metadata": {
    "scrolled": true
   },
   "outputs": [],
   "source": [
    "X_scaled = scaled_df.drop(['Total Cost'], axis = 1)\n",
    "y = grouped_df['Total Cost']"
   ]
  },
  {
   "cell_type": "code",
   "execution_count": null,
   "metadata": {
    "scrolled": true
   },
   "outputs": [],
   "source": [
    "X_scaled.columns"
   ]
  },
  {
   "cell_type": "code",
   "execution_count": null,
   "metadata": {},
   "outputs": [],
   "source": [
    "X_scaled.head()"
   ]
  },
  {
   "cell_type": "code",
   "execution_count": null,
   "metadata": {},
   "outputs": [],
   "source": [
    "X_train, X_test, y_train, y_test = train_test_split(X_scaled, y, random_state = 15)"
   ]
  },
  {
   "cell_type": "code",
   "execution_count": null,
   "metadata": {
    "scrolled": true
   },
   "outputs": [],
   "source": [
    "ln.fit(X_train, y_train)\n",
    "ln.score(X_test, y_test)\n",
    "coef_df = pd.DataFrame({'coefs': ln.coef_, 'feature': scaled_columns})\n",
    "coef_df.head()"
   ]
  },
  {
   "cell_type": "code",
   "execution_count": null,
   "metadata": {},
   "outputs": [],
   "source": [
    "yhat = ln.predict(X_test)\n",
    "RMSE = np.sqrt(mean_squared_error(y_test, yhat))\n",
    "z_score = RMSE/np.std(y_test)\n",
    "R_squared = ln.score(X_test, y_test)\n",
    "print(\"RMSE = {}, z_score = {}, R_squared = {}\".format(RMSE, z_score, R_squared))"
   ]
  },
  {
   "cell_type": "code",
   "execution_count": null,
   "metadata": {
    "scrolled": true
   },
   "outputs": [],
   "source": [
    "coefs = coef_df['coefs']\n",
    "varias = coef_df['feature']\n",
    "plt.figure(figsize = (9,7))\n",
    "plt.title(\"Importance of Predictive Metrics\", fontsize = 24, color = \"#535355\")\n",
    "plt.xlabel(\"Independent Variable\", fontsize = 18, color = \"#050594\")\n",
    "plt.ylabel(\"Coefficient Size\", fontsize = 18, color = \"#050594\")\n",
    "plt.xticks(rotation=60)\n",
    "plt.bar(varias, coefs)\n",
    "plt.savefig('Cost_Reg_Coefs', bbox_inches = 'tight')\n",
    "plt.show"
   ]
  },
  {
   "cell_type": "code",
   "execution_count": null,
   "metadata": {
    "scrolled": true
   },
   "outputs": [],
   "source": [
    "import matplotlib.patches as mpatches\n",
    "\n",
    "def bias(y, y_hat):\n",
    "    return np.mean(y_hat - y)\n",
    "\n",
    "def variance(y_hat):\n",
    "    return np.mean([yi**2 for yi in y_hat]) - np.mean(y_hat)**2\n",
    "\n",
    "y_hat_train = ln.predict(X_train)\n",
    "y_hat_test = ln.predict(X_test)\n",
    "bias_train = bias(y_train, y_hat_train)\n",
    "bias_test = bias(y_test, y_hat_test)\n",
    "var_train = variance(y_hat_train)\n",
    "var_test = variance(y_hat_test)\n",
    "\n",
    "RMSE_train = np.sqrt(mean_squared_error(y_train, y_hat_train))\n",
    "z_score_train = RMSE/np.std(y_train)\n",
    "R_squared_train = ln.score(X_train, y_train)\n",
    "\n",
    "f, (ax1, ax2) = plt.subplots(1, 2, sharey=True, figsize = (15,5))\n",
    "\n",
    "ax1.set_title(\"Scaled y_hat_train vs y_train\", fontsize = 16)\n",
    "ax1.set_xlabel(\"y_train\",fontsize = 14, color = \"#073A5A\")\n",
    "ax1.set_ylabel(\"y_hat_train\",fontsize = 14, color = \"#073A5A\")\n",
    "ax1.scatter(y_train, y_hat_train, color = \"blue\", label='Actual Data')\n",
    "ax1.plot(y_train, y_train, color = \"red\", label='Model')\n",
    "\n",
    "R2_patch = mpatches.Patch(color='#aaff80', label=\"R_squared_train = {}\".format(round(R_squared_train, 3)))\n",
    "RMSE_patch = mpatches.Patch(color='#ffd480', label=\"RMSE_train = {}\".format(round(RMSE_train, 3)))\n",
    "z_patch = mpatches.Patch(color='#00cccc', label=\"z_score_train = {}\".format(round(z_score_train, 3)))\n",
    "Bias_patch = mpatches.Patch(color='#670000', label=\"Bias_train = {}\".format(round(bias_train, 20)))\n",
    "Variance_patch = mpatches.Patch(color='#7A9A01', label=\"Var_train = {}\".format(round(var_train, 3)))\n",
    "\n",
    "ax1.legend(handles=[R2_patch, RMSE_patch, z_patch, Bias_patch, Variance_patch])\n",
    "\n",
    "ax2.set_title(\"Scaled y_hat_test vs y_test\", fontsize = 16)\n",
    "ax2.set_xlabel(\"y_test\", fontsize = 14, color = \"#073A5A\")\n",
    "ax2.set_ylabel(\"y_hat_test\", fontsize = 14, color = \"#073A5A\")\n",
    "ax2.scatter(y_test, y_hat_test, color = \"blue\")\n",
    "ax2.plot(y_test, y_test, color = \"red\")\n",
    "\n",
    "R2_patch = mpatches.Patch(color='#aaff80', label=\"R_squared = {}\".format(round(R_squared, 3)))\n",
    "RMSE_patch = mpatches.Patch(color='#ffd480', label=\"RMSE = {}\".format(round(RMSE, 3)))\n",
    "z_patch = mpatches.Patch(color='#00cccc', label=\"z_score = {}\".format(round(z_score, 3)))\n",
    "Bias_patch = mpatches.Patch(color='#670000', label=\"Bias = {}\".format(round(bias_test, 3)))\n",
    "Variance_patch = mpatches.Patch(color='#7A9A01', label=\"Var = {}\".format(round(var_test, 3)))\n",
    "\n",
    "ax2.legend(handles=[R2_patch, RMSE_patch, z_patch,  Bias_patch, Variance_patch], loc = \"upper left\")\n",
    "\n",
    "plt.savefig('Cosst_Reg_model_comp', bbox_inches = 'tight')\n",
    "plt.show"
   ]
  },
  {
   "cell_type": "code",
   "execution_count": null,
   "metadata": {},
   "outputs": [],
   "source": [
    "test = list(zip(ln.coef_, coef_df['feature']))\n",
    "combined = [str(round(item[0], 2)) + \"*\" +item[1] for item in test]\n",
    "one_string = \"  +  \".join(combined)\n",
    "equation = one_string.replace(\"+  -\", \"-  \")"
   ]
  },
  {
   "cell_type": "code",
   "execution_count": null,
   "metadata": {},
   "outputs": [],
   "source": [
    "print(\"y = {} + {}\".format(round(ln.intercept_, 2), equation))"
   ]
  },
  {
   "cell_type": "markdown",
   "metadata": {},
   "source": [
    "### Try adding some Categorical Features"
   ]
  },
  {
   "cell_type": "code",
   "execution_count": null,
   "metadata": {},
   "outputs": [],
   "source": []
  },
  {
   "cell_type": "markdown",
   "metadata": {},
   "source": [
    "### Try Polynomials"
   ]
  },
  {
   "cell_type": "code",
   "execution_count": null,
   "metadata": {},
   "outputs": [],
   "source": [
    "from sklearn.preprocessing import PolynomialFeatures\n",
    "from sklearn import preprocessing, pipeline\n",
    "from sklearn.preprocessing import scale\n",
    "\n",
    "poly = preprocessing.PolynomialFeatures(degree=2, interaction_only=False, include_bias=False)\n",
    "features_poly = pd.DataFrame(poly.fit_transform(X_scaled), index = grouped_df.index, columns = poly.get_feature_names(scaled_columns))\n",
    "\n",
    "X_poly = features_poly"
   ]
  },
  {
   "cell_type": "code",
   "execution_count": null,
   "metadata": {},
   "outputs": [],
   "source": [
    "X_poly.head()"
   ]
  },
  {
   "cell_type": "code",
   "execution_count": null,
   "metadata": {},
   "outputs": [],
   "source": [
    "import seaborn as sns\n",
    "\n",
    "sns.set(style=\"white\")\n",
    "\n",
    "\n",
    "# Compute the correlation matrix\n",
    "corr = X_poly.corr()\n",
    "\n",
    "# Generate a mask for the upper triangle\n",
    "mask = np.zeros_like(corr, dtype=np.bool)\n",
    "mask[np.triu_indices_from(mask)] = True\n",
    "\n",
    "# Set up the matplotlib figure\n",
    "f, ax = plt.subplots(figsize=(11, 9))\n",
    "\n",
    "# Generate a custom diverging colormap\n",
    "cmap = sns.diverging_palette(220, 10, as_cmap=True)\n",
    "\n",
    "# Draw the heatmap with the mask and correct aspect ratio\n",
    "plt.title(\"Polynomials Correlation Heatmap\", fontsize = 30, color = \"#F97E77\")\n",
    "sns.heatmap(corr, mask=mask, cmap=cmap, vmax=.3, center=0,\n",
    "            square=True, linewidths=.5, cbar_kws={\"shrink\": .5})"
   ]
  },
  {
   "cell_type": "code",
   "execution_count": null,
   "metadata": {},
   "outputs": [],
   "source": [
    "X_poly.shape"
   ]
  },
  {
   "cell_type": "markdown",
   "metadata": {},
   "source": [
    "#### Drop any features with Corr > 0.90"
   ]
  },
  {
   "cell_type": "code",
   "execution_count": null,
   "metadata": {},
   "outputs": [],
   "source": [
    "# Create correlation matrix\n",
    "corr_matrix = features_poly.corr().abs()\n",
    "\n",
    "# Select upper triangle of correlation matrix\n",
    "upper = corr_matrix.where(np.triu(np.ones(corr_matrix.shape), k=1).astype(np.bool))\n",
    "\n",
    "# Find index of feature columns with correlation greater than 0.95\n",
    "to_drop = [column for column in upper.columns if any(upper[column] > 0.90)]\n",
    "\n",
    "#Drop variables from table\n",
    "X_poly.drop(columns=to_drop, inplace=True)\n",
    "X_poly.shape"
   ]
  },
  {
   "cell_type": "code",
   "execution_count": null,
   "metadata": {
    "scrolled": true
   },
   "outputs": [],
   "source": [
    "X_poly.head()"
   ]
  },
  {
   "cell_type": "markdown",
   "metadata": {},
   "source": [
    "### Run Linear Regression Model (80-20 split) and use Cross validation to find model with smallest RMSE"
   ]
  },
  {
   "cell_type": "code",
   "execution_count": null,
   "metadata": {
    "scrolled": false
   },
   "outputs": [],
   "source": [
    "from sklearn.model_selection import cross_val_score\n",
    "from sklearn.metrics import mean_squared_error\n",
    "from sklearn.model_selection import train_test_split\n",
    "from sklearn.linear_model import LinearRegression, Ridge\n",
    "from sklearn.feature_selection import RFE\n",
    "from sklearn.model_selection import KFold\n",
    "\n",
    "def MSE_test(X_poly, y, random_state = 9):\n",
    "    poly_RSME = []\n",
    "    for i in range(1, len(X_poly.columns)):\n",
    "        linreg = Ridge()\n",
    "        selector = RFE(linreg, n_features_to_select = i)\n",
    "        selector = selector.fit(X_poly, y)\n",
    "        selected_columns = X_poly.columns[selector.support_]\n",
    "        selected_var = [column for column in selected_columns]\n",
    "        X_train, X_test, y_train, y_test = train_test_split(X_poly[selected_columns], y, random_state = random_state,  test_size=.20)\n",
    "        \n",
    "        crossvalidation = KFold(n_splits=5, shuffle=True, random_state=1)\n",
    "        cv_10_results = np.mean(cross_val_score(linreg, X_train, y_train, cv=crossvalidation, scoring='neg_mean_squared_error'))\n",
    "        cv_10_results= np.sqrt(abs(cv_10_results))\n",
    "        poly_RSME.append(dict(variables = selected_var, RMSE = cv_10_results, nu_var = len( selected_var)))\n",
    "    return poly_RSME\n",
    "\n",
    "poly_model_list = MSE_test(X_poly, y)\n",
    "\n",
    "def find_best_model(model_list):\n",
    "    sorted_mse = sorted(model_list, key=lambda k: k['RMSE'])\n",
    "    return sorted_mse[0]\n",
    "    \n",
    "find_best_model(poly_model_list)"
   ]
  },
  {
   "cell_type": "markdown",
   "metadata": {},
   "source": [
    "### Graph the Minimized RMSE Against Features"
   ]
  },
  {
   "cell_type": "code",
   "execution_count": null,
   "metadata": {
    "scrolled": true
   },
   "outputs": [],
   "source": [
    "import matplotlib.patches as mpatches\n",
    "\n",
    "min_rmse = find_best_model(poly_model_list)['RMSE']\n",
    "min_var = find_best_model(poly_model_list)['nu_var']\n",
    "x_val = [item['nu_var'] for item in poly_model_list[:55]]\n",
    "y_val = [item['RMSE'] for item in poly_model_list[:55]]\n",
    "plt.figure(figsize = (9,7))\n",
    "plt.title(\"Minimizing RMSE Function\", fontsize = 25, color = \"#073A5A\")\n",
    "plt.plot(x_val, y_val)\n",
    "plt.xlabel(\"Number of Independent Variables\", fontsize = 18, color = \"#073A5A\")\n",
    "plt.ylabel(\"RMSE\", fontsize = 18, color = \"#073A5A\")\n",
    "\n",
    "rmse_patch = mpatches.Patch(color='blue', label=\"RMSE = {}\".format(round(min_rmse, 3)))\n",
    "vars_patch = mpatches.Patch(color='green', label=\"Variables Chosen = {}\".format(min_var))\n",
    "plt.legend(handles=[rmse_patch, vars_patch])\n",
    "\n",
    "plt.savefig('Feature_selection', bbox_inches = 'tight')\n",
    "plt.show"
   ]
  },
  {
   "cell_type": "markdown",
   "metadata": {},
   "source": [
    "### Now Test the Model with Selected Variables"
   ]
  },
  {
   "cell_type": "code",
   "execution_count": null,
   "metadata": {},
   "outputs": [],
   "source": [
    "selected_columns = find_best_model(poly_model_list)['variables']\n",
    "X_train, X_test, y_train, y_test = train_test_split(X_poly[selected_columns], y, random_state = 18,  test_size=.20)\n",
    "\n",
    "linreg = LinearRegression().fit(X_train, y_train)\n",
    "\n",
    "y_hat_train = linreg.predict(X_train)\n",
    "y_hat_test = linreg.predict(X_test)\n",
    "bias_train = bias(y_train, y_hat_train)\n",
    "bias_test = bias(y_test, y_hat_test)\n",
    "var_train = variance(y_hat_train)\n",
    "var_test = variance(y_hat_test)\n",
    "\n",
    "RMSE_train = np.sqrt(mean_squared_error(y_train, y_hat_train))\n",
    "z_score_train = RMSE/np.std(y_train)\n",
    "R_squared_train = linreg.score(X_train, y_train)\n",
    "\n",
    "RMSE = np.sqrt(mean_squared_error(y_test, y_hat_test))\n",
    "z_score = RMSE/np.std(y_test)\n",
    "R_squared = linreg.score(X_test, y_test)\n",
    "\n",
    "f, (ax1, ax2) = plt.subplots(1, 2, sharey=True, figsize = (15,5))\n",
    "\n",
    "ax1.set_title(\"Polynomial y_hat_train vs y_train\", fontsize = 16)\n",
    "ax1.set_xlabel(\"y_train\",fontsize = 14, color = \"#073A5A\")\n",
    "ax1.set_ylabel(\"y_hat_train\",fontsize = 14, color = \"#073A5A\")\n",
    "ax1.scatter(y_train, y_hat_train, color = \"blue\", label='Actual Data')\n",
    "ax1.plot(y_train, y_train, color = \"red\", label='Model')\n",
    "\n",
    "R2_patch = mpatches.Patch(color='#aaff80', label=\"R_squared_train = {}\".format(round(R_squared_train, 3)))\n",
    "RMSE_patch = mpatches.Patch(color='#ffd480', label=\"RMSE_train = {}\".format(round(RMSE_train, 3)))\n",
    "z_patch = mpatches.Patch(color='#00cccc', label=\"z_score_train = {}\".format(round(z_score_train, 3)))\n",
    "Bias_patch = mpatches.Patch(color='#670000', label=\"Bias_train = {}\".format(round(bias_train, 20)))\n",
    "Variance_patch = mpatches.Patch(color='#7A9A01', label=\"Var_train = {}\".format(round(var_train, 3)))\n",
    "\n",
    "ax1.legend(handles=[R2_patch, RMSE_patch, z_patch, Bias_patch, Variance_patch])\n",
    "\n",
    "ax2.set_title(\"Polynomial y_hat_test vs y_test\", fontsize = 16)\n",
    "ax2.set_xlabel(\"y_test\", fontsize = 14, color = \"#073A5A\")\n",
    "ax2.set_ylabel(\"y_hat_test\", fontsize = 14, color = \"#073A5A\")\n",
    "ax2.scatter(y_test, y_hat_test, color = \"blue\")\n",
    "ax2.plot(y_test, y_test, color = \"red\")\n",
    "\n",
    "R2_patch = mpatches.Patch(color='#aaff80', label=\"R_squared = {}\".format(round(R_squared, 3)))\n",
    "RMSE_patch = mpatches.Patch(color='#ffd480', label=\"RMSE = {}\".format(round(RMSE, 3)))\n",
    "z_patch = mpatches.Patch(color='#00cccc', label=\"z_score = {}\".format(round(z_score, 3)))\n",
    "Bias_patch = mpatches.Patch(color='#670000', label=\"Bias = {}\".format(round(bias_test, 3)))\n",
    "Variance_patch = mpatches.Patch(color='#7A9A01', label=\"Var = {}\".format(round(var_test, 3)))\n",
    "\n",
    "ax2.legend(handles=[R2_patch, RMSE_patch, z_patch,  Bias_patch, Variance_patch], loc = \"upper left\")\n",
    "plt.savefig('Cost_Reg_Ply_Models', bbox_inches = 'tight')\n",
    "plt.show"
   ]
  },
  {
   "cell_type": "code",
   "execution_count": null,
   "metadata": {},
   "outputs": [],
   "source": [
    "test = list(zip(linreg.coef_, selected_columns))\n",
    "combined = [str(round(item[0], 2)) + \"*\" +item[1] for item in test]\n",
    "one_string = \"  +  \".join(combined)\n",
    "equation = one_string.replace(\"+  -\", \"-  \")"
   ]
  },
  {
   "cell_type": "code",
   "execution_count": null,
   "metadata": {},
   "outputs": [],
   "source": [
    "print(\"y = {} + {}\".format(round(linreg.intercept_, 2), equation))"
   ]
  },
  {
   "cell_type": "code",
   "execution_count": null,
   "metadata": {},
   "outputs": [],
   "source": [
    "coefs = [item[0] for item in test]\n",
    "varias = [item[1] for item in test]\n",
    "plt.figure(figsize = (9,7))\n",
    "plt.title(\"Independent Variables Chart\", fontsize = 30, color = \"#535355\")\n",
    "plt.xlabel(\"Independent Variable\", fontsize = 18, color = \"#050594\")\n",
    "plt.ylabel(\"Coefficient Size\", fontsize = 18, color = \"#050594\")\n",
    "plt.xticks(rotation=90)\n",
    "plt.bar(varias, coefs)"
   ]
  },
  {
   "cell_type": "markdown",
   "metadata": {},
   "source": [
    "## Classifier Test"
   ]
  },
  {
   "cell_type": "code",
   "execution_count": 85,
   "metadata": {},
   "outputs": [
    {
     "data": {
      "text/html": [
       "<div>\n",
       "<style scoped>\n",
       "    .dataframe tbody tr th:only-of-type {\n",
       "        vertical-align: middle;\n",
       "    }\n",
       "\n",
       "    .dataframe tbody tr th {\n",
       "        vertical-align: top;\n",
       "    }\n",
       "\n",
       "    .dataframe thead th {\n",
       "        text-align: right;\n",
       "    }\n",
       "</style>\n",
       "<table border=\"1\" class=\"dataframe\">\n",
       "  <thead>\n",
       "    <tr style=\"text-align: right;\">\n",
       "      <th></th>\n",
       "      <th>Income</th>\n",
       "      <th>Credit Ranges</th>\n",
       "      <th>age</th>\n",
       "      <th>Number of Children</th>\n",
       "      <th>FSV Services Count</th>\n",
       "      <th>Total Cost</th>\n",
       "    </tr>\n",
       "    <tr>\n",
       "      <th>Household Key</th>\n",
       "      <th></th>\n",
       "      <th></th>\n",
       "      <th></th>\n",
       "      <th></th>\n",
       "      <th></th>\n",
       "      <th></th>\n",
       "    </tr>\n",
       "  </thead>\n",
       "  <tbody>\n",
       "    <tr>\n",
       "      <th>969.0</th>\n",
       "      <td>95.000000</td>\n",
       "      <td>708.333333</td>\n",
       "      <td>75.500000</td>\n",
       "      <td>0.0</td>\n",
       "      <td>0</td>\n",
       "      <td>226.10</td>\n",
       "    </tr>\n",
       "    <tr>\n",
       "      <th>3338.0</th>\n",
       "      <td>15.000000</td>\n",
       "      <td>675.000000</td>\n",
       "      <td>89.000000</td>\n",
       "      <td>1.0</td>\n",
       "      <td>0</td>\n",
       "      <td>0.00</td>\n",
       "    </tr>\n",
       "    <tr>\n",
       "      <th>8718.0</th>\n",
       "      <td>55.000000</td>\n",
       "      <td>737.500000</td>\n",
       "      <td>68.000000</td>\n",
       "      <td>0.0</td>\n",
       "      <td>0</td>\n",
       "      <td>0.00</td>\n",
       "    </tr>\n",
       "    <tr>\n",
       "      <th>11524.0</th>\n",
       "      <td>157.857143</td>\n",
       "      <td>753.571429</td>\n",
       "      <td>49.000000</td>\n",
       "      <td>8.0</td>\n",
       "      <td>0</td>\n",
       "      <td>294.25</td>\n",
       "    </tr>\n",
       "    <tr>\n",
       "      <th>13422.0</th>\n",
       "      <td>95.000000</td>\n",
       "      <td>668.750000</td>\n",
       "      <td>69.333333</td>\n",
       "      <td>0.0</td>\n",
       "      <td>0</td>\n",
       "      <td>118.85</td>\n",
       "    </tr>\n",
       "  </tbody>\n",
       "</table>\n",
       "</div>"
      ],
      "text/plain": [
       "                   Income  Credit Ranges        age  Number of Children  \\\n",
       "Household Key                                                             \n",
       "969.0           95.000000     708.333333  75.500000                 0.0   \n",
       "3338.0          15.000000     675.000000  89.000000                 1.0   \n",
       "8718.0          55.000000     737.500000  68.000000                 0.0   \n",
       "11524.0        157.857143     753.571429  49.000000                 8.0   \n",
       "13422.0         95.000000     668.750000  69.333333                 0.0   \n",
       "\n",
       "               FSV Services Count  Total Cost  \n",
       "Household Key                                  \n",
       "969.0                           0      226.10  \n",
       "3338.0                          0        0.00  \n",
       "8718.0                          0        0.00  \n",
       "11524.0                         0      294.25  \n",
       "13422.0                         0      118.85  "
      ]
     },
     "execution_count": 85,
     "metadata": {},
     "output_type": "execute_result"
    }
   ],
   "source": [
    "class_df = pd.read_csv('grouped.csv')\n",
    "class_df = class_df.set_index('Household Key')\n",
    "class_df.head()"
   ]
  },
  {
   "cell_type": "code",
   "execution_count": 86,
   "metadata": {},
   "outputs": [
    {
     "data": {
      "text/plain": [
       "(3273, 6)"
      ]
     },
     "execution_count": 86,
     "metadata": {},
     "output_type": "execute_result"
    }
   ],
   "source": [
    "class_df.shape"
   ]
  },
  {
   "cell_type": "code",
   "execution_count": 87,
   "metadata": {},
   "outputs": [],
   "source": [
    "import scikitplot as skplt"
   ]
  },
  {
   "cell_type": "code",
   "execution_count": 88,
   "metadata": {},
   "outputs": [],
   "source": [
    "a = np.array(class_df['FSV Services Count'])\n",
    "class_df['FSV Bought'] = np.where(a ==0, a, 1)"
   ]
  },
  {
   "cell_type": "code",
   "execution_count": 89,
   "metadata": {},
   "outputs": [
    {
     "data": {
      "text/plain": [
       "0    2408\n",
       "1     865\n",
       "Name: FSV Bought, dtype: int64"
      ]
     },
     "execution_count": 89,
     "metadata": {},
     "output_type": "execute_result"
    }
   ],
   "source": [
    "class_df['FSV Bought'].value_counts()"
   ]
  },
  {
   "cell_type": "code",
   "execution_count": 90,
   "metadata": {
    "scrolled": true
   },
   "outputs": [
    {
     "data": {
      "text/html": [
       "<div>\n",
       "<style scoped>\n",
       "    .dataframe tbody tr th:only-of-type {\n",
       "        vertical-align: middle;\n",
       "    }\n",
       "\n",
       "    .dataframe tbody tr th {\n",
       "        vertical-align: top;\n",
       "    }\n",
       "\n",
       "    .dataframe thead th {\n",
       "        text-align: right;\n",
       "    }\n",
       "</style>\n",
       "<table border=\"1\" class=\"dataframe\">\n",
       "  <thead>\n",
       "    <tr style=\"text-align: right;\">\n",
       "      <th></th>\n",
       "      <th>Income</th>\n",
       "      <th>Credit Ranges</th>\n",
       "      <th>age</th>\n",
       "      <th>Number of Children</th>\n",
       "      <th>FSV Services Count</th>\n",
       "      <th>Total Cost</th>\n",
       "      <th>FSV Bought</th>\n",
       "    </tr>\n",
       "    <tr>\n",
       "      <th>Household Key</th>\n",
       "      <th></th>\n",
       "      <th></th>\n",
       "      <th></th>\n",
       "      <th></th>\n",
       "      <th></th>\n",
       "      <th></th>\n",
       "      <th></th>\n",
       "    </tr>\n",
       "  </thead>\n",
       "  <tbody>\n",
       "    <tr>\n",
       "      <th>969.0</th>\n",
       "      <td>95.000000</td>\n",
       "      <td>708.333333</td>\n",
       "      <td>75.500000</td>\n",
       "      <td>0.0</td>\n",
       "      <td>0</td>\n",
       "      <td>226.10</td>\n",
       "      <td>0</td>\n",
       "    </tr>\n",
       "    <tr>\n",
       "      <th>3338.0</th>\n",
       "      <td>15.000000</td>\n",
       "      <td>675.000000</td>\n",
       "      <td>89.000000</td>\n",
       "      <td>1.0</td>\n",
       "      <td>0</td>\n",
       "      <td>0.00</td>\n",
       "      <td>0</td>\n",
       "    </tr>\n",
       "    <tr>\n",
       "      <th>8718.0</th>\n",
       "      <td>55.000000</td>\n",
       "      <td>737.500000</td>\n",
       "      <td>68.000000</td>\n",
       "      <td>0.0</td>\n",
       "      <td>0</td>\n",
       "      <td>0.00</td>\n",
       "      <td>0</td>\n",
       "    </tr>\n",
       "    <tr>\n",
       "      <th>11524.0</th>\n",
       "      <td>157.857143</td>\n",
       "      <td>753.571429</td>\n",
       "      <td>49.000000</td>\n",
       "      <td>8.0</td>\n",
       "      <td>0</td>\n",
       "      <td>294.25</td>\n",
       "      <td>0</td>\n",
       "    </tr>\n",
       "    <tr>\n",
       "      <th>13422.0</th>\n",
       "      <td>95.000000</td>\n",
       "      <td>668.750000</td>\n",
       "      <td>69.333333</td>\n",
       "      <td>0.0</td>\n",
       "      <td>0</td>\n",
       "      <td>118.85</td>\n",
       "      <td>0</td>\n",
       "    </tr>\n",
       "  </tbody>\n",
       "</table>\n",
       "</div>"
      ],
      "text/plain": [
       "                   Income  Credit Ranges        age  Number of Children  \\\n",
       "Household Key                                                             \n",
       "969.0           95.000000     708.333333  75.500000                 0.0   \n",
       "3338.0          15.000000     675.000000  89.000000                 1.0   \n",
       "8718.0          55.000000     737.500000  68.000000                 0.0   \n",
       "11524.0        157.857143     753.571429  49.000000                 8.0   \n",
       "13422.0         95.000000     668.750000  69.333333                 0.0   \n",
       "\n",
       "               FSV Services Count  Total Cost  FSV Bought  \n",
       "Household Key                                              \n",
       "969.0                           0      226.10           0  \n",
       "3338.0                          0        0.00           0  \n",
       "8718.0                          0        0.00           0  \n",
       "11524.0                         0      294.25           0  \n",
       "13422.0                         0      118.85           0  "
      ]
     },
     "execution_count": 90,
     "metadata": {},
     "output_type": "execute_result"
    }
   ],
   "source": [
    "class_df.head()"
   ]
  },
  {
   "cell_type": "code",
   "execution_count": 91,
   "metadata": {},
   "outputs": [],
   "source": [
    "df2 = class_df.pop('FSV Bought')\n",
    "class_df['FSV Bought'] = df2"
   ]
  },
  {
   "cell_type": "code",
   "execution_count": 94,
   "metadata": {},
   "outputs": [],
   "source": [
    "class_df.drop('FSV Services Count', axis =1, inplace = True)"
   ]
  },
  {
   "cell_type": "code",
   "execution_count": null,
   "metadata": {},
   "outputs": [],
   "source": [
    "class_df.shape"
   ]
  },
  {
   "cell_type": "code",
   "execution_count": null,
   "metadata": {
    "scrolled": true
   },
   "outputs": [],
   "source": [
    "class_df.head()"
   ]
  },
  {
   "cell_type": "code",
   "execution_count": 92,
   "metadata": {},
   "outputs": [],
   "source": [
    "y = class_df.pop('FSV Bought')\n",
    "X = class_df"
   ]
  },
  {
   "cell_type": "code",
   "execution_count": 101,
   "metadata": {},
   "outputs": [],
   "source": [
    "X_train, X_test, y_train, y_test = train_test_split(X,y, random_state = 18)"
   ]
  },
  {
   "cell_type": "code",
   "execution_count": 97,
   "metadata": {},
   "outputs": [
    {
     "data": {
      "text/html": [
       "<div>\n",
       "<style scoped>\n",
       "    .dataframe tbody tr th:only-of-type {\n",
       "        vertical-align: middle;\n",
       "    }\n",
       "\n",
       "    .dataframe tbody tr th {\n",
       "        vertical-align: top;\n",
       "    }\n",
       "\n",
       "    .dataframe thead th {\n",
       "        text-align: right;\n",
       "    }\n",
       "</style>\n",
       "<table border=\"1\" class=\"dataframe\">\n",
       "  <thead>\n",
       "    <tr style=\"text-align: right;\">\n",
       "      <th></th>\n",
       "      <th>Income</th>\n",
       "      <th>Credit Ranges</th>\n",
       "      <th>age</th>\n",
       "      <th>Number of Children</th>\n",
       "      <th>Total Cost</th>\n",
       "    </tr>\n",
       "    <tr>\n",
       "      <th>Household Key</th>\n",
       "      <th></th>\n",
       "      <th></th>\n",
       "      <th></th>\n",
       "      <th></th>\n",
       "      <th></th>\n",
       "    </tr>\n",
       "  </thead>\n",
       "  <tbody>\n",
       "    <tr>\n",
       "      <th>969.0</th>\n",
       "      <td>95.000000</td>\n",
       "      <td>708.333333</td>\n",
       "      <td>75.500000</td>\n",
       "      <td>0.0</td>\n",
       "      <td>226.10</td>\n",
       "    </tr>\n",
       "    <tr>\n",
       "      <th>3338.0</th>\n",
       "      <td>15.000000</td>\n",
       "      <td>675.000000</td>\n",
       "      <td>89.000000</td>\n",
       "      <td>1.0</td>\n",
       "      <td>0.00</td>\n",
       "    </tr>\n",
       "    <tr>\n",
       "      <th>8718.0</th>\n",
       "      <td>55.000000</td>\n",
       "      <td>737.500000</td>\n",
       "      <td>68.000000</td>\n",
       "      <td>0.0</td>\n",
       "      <td>0.00</td>\n",
       "    </tr>\n",
       "    <tr>\n",
       "      <th>11524.0</th>\n",
       "      <td>157.857143</td>\n",
       "      <td>753.571429</td>\n",
       "      <td>49.000000</td>\n",
       "      <td>8.0</td>\n",
       "      <td>294.25</td>\n",
       "    </tr>\n",
       "    <tr>\n",
       "      <th>13422.0</th>\n",
       "      <td>95.000000</td>\n",
       "      <td>668.750000</td>\n",
       "      <td>69.333333</td>\n",
       "      <td>0.0</td>\n",
       "      <td>118.85</td>\n",
       "    </tr>\n",
       "  </tbody>\n",
       "</table>\n",
       "</div>"
      ],
      "text/plain": [
       "                   Income  Credit Ranges        age  Number of Children  \\\n",
       "Household Key                                                             \n",
       "969.0           95.000000     708.333333  75.500000                 0.0   \n",
       "3338.0          15.000000     675.000000  89.000000                 1.0   \n",
       "8718.0          55.000000     737.500000  68.000000                 0.0   \n",
       "11524.0        157.857143     753.571429  49.000000                 8.0   \n",
       "13422.0         95.000000     668.750000  69.333333                 0.0   \n",
       "\n",
       "               Total Cost  \n",
       "Household Key              \n",
       "969.0              226.10  \n",
       "3338.0               0.00  \n",
       "8718.0               0.00  \n",
       "11524.0            294.25  \n",
       "13422.0            118.85  "
      ]
     },
     "execution_count": 97,
     "metadata": {},
     "output_type": "execute_result"
    }
   ],
   "source": [
    "X.head()"
   ]
  },
  {
   "cell_type": "code",
   "execution_count": 95,
   "metadata": {
    "scrolled": true
   },
   "outputs": [
    {
     "data": {
      "text/plain": [
       "Household Key\n",
       "969.0      0\n",
       "3338.0     0\n",
       "8718.0     0\n",
       "11524.0    0\n",
       "13422.0    0\n",
       "Name: FSV Bought, dtype: int64"
      ]
     },
     "execution_count": 95,
     "metadata": {},
     "output_type": "execute_result"
    }
   ],
   "source": [
    "y.head()"
   ]
  },
  {
   "cell_type": "code",
   "execution_count": 96,
   "metadata": {},
   "outputs": [
    {
     "data": {
      "text/html": [
       "<div>\n",
       "<style scoped>\n",
       "    .dataframe tbody tr th:only-of-type {\n",
       "        vertical-align: middle;\n",
       "    }\n",
       "\n",
       "    .dataframe tbody tr th {\n",
       "        vertical-align: top;\n",
       "    }\n",
       "\n",
       "    .dataframe thead th {\n",
       "        text-align: right;\n",
       "    }\n",
       "</style>\n",
       "<table border=\"1\" class=\"dataframe\">\n",
       "  <thead>\n",
       "    <tr style=\"text-align: right;\">\n",
       "      <th></th>\n",
       "      <th>Income</th>\n",
       "      <th>Credit Ranges</th>\n",
       "      <th>age</th>\n",
       "      <th>Number of Children</th>\n",
       "      <th>Total Cost</th>\n",
       "    </tr>\n",
       "    <tr>\n",
       "      <th>Household Key</th>\n",
       "      <th></th>\n",
       "      <th></th>\n",
       "      <th></th>\n",
       "      <th></th>\n",
       "      <th></th>\n",
       "    </tr>\n",
       "  </thead>\n",
       "  <tbody>\n",
       "    <tr>\n",
       "      <th>969.0</th>\n",
       "      <td>95.000000</td>\n",
       "      <td>708.333333</td>\n",
       "      <td>75.500000</td>\n",
       "      <td>0.0</td>\n",
       "      <td>226.10</td>\n",
       "    </tr>\n",
       "    <tr>\n",
       "      <th>3338.0</th>\n",
       "      <td>15.000000</td>\n",
       "      <td>675.000000</td>\n",
       "      <td>89.000000</td>\n",
       "      <td>1.0</td>\n",
       "      <td>0.00</td>\n",
       "    </tr>\n",
       "    <tr>\n",
       "      <th>8718.0</th>\n",
       "      <td>55.000000</td>\n",
       "      <td>737.500000</td>\n",
       "      <td>68.000000</td>\n",
       "      <td>0.0</td>\n",
       "      <td>0.00</td>\n",
       "    </tr>\n",
       "    <tr>\n",
       "      <th>11524.0</th>\n",
       "      <td>157.857143</td>\n",
       "      <td>753.571429</td>\n",
       "      <td>49.000000</td>\n",
       "      <td>8.0</td>\n",
       "      <td>294.25</td>\n",
       "    </tr>\n",
       "    <tr>\n",
       "      <th>13422.0</th>\n",
       "      <td>95.000000</td>\n",
       "      <td>668.750000</td>\n",
       "      <td>69.333333</td>\n",
       "      <td>0.0</td>\n",
       "      <td>118.85</td>\n",
       "    </tr>\n",
       "  </tbody>\n",
       "</table>\n",
       "</div>"
      ],
      "text/plain": [
       "                   Income  Credit Ranges        age  Number of Children  \\\n",
       "Household Key                                                             \n",
       "969.0           95.000000     708.333333  75.500000                 0.0   \n",
       "3338.0          15.000000     675.000000  89.000000                 1.0   \n",
       "8718.0          55.000000     737.500000  68.000000                 0.0   \n",
       "11524.0        157.857143     753.571429  49.000000                 8.0   \n",
       "13422.0         95.000000     668.750000  69.333333                 0.0   \n",
       "\n",
       "               Total Cost  \n",
       "Household Key              \n",
       "969.0              226.10  \n",
       "3338.0               0.00  \n",
       "8718.0               0.00  \n",
       "11524.0            294.25  \n",
       "13422.0            118.85  "
      ]
     },
     "execution_count": 96,
     "metadata": {},
     "output_type": "execute_result"
    }
   ],
   "source": [
    "class_df.head()"
   ]
  },
  {
   "cell_type": "code",
   "execution_count": 108,
   "metadata": {},
   "outputs": [],
   "source": [
    "log = LogisticRegression()\n",
    "forest = RandomForestClassifier(max_depth=3)"
   ]
  },
  {
   "cell_type": "code",
   "execution_count": 109,
   "metadata": {},
   "outputs": [
    {
     "data": {
      "text/plain": [
       "RandomForestClassifier(bootstrap=True, ccp_alpha=0.0, class_weight=None,\n",
       "                       criterion='gini', max_depth=3, max_features='auto',\n",
       "                       max_leaf_nodes=None, max_samples=None,\n",
       "                       min_impurity_decrease=0.0, min_impurity_split=None,\n",
       "                       min_samples_leaf=1, min_samples_split=2,\n",
       "                       min_weight_fraction_leaf=0.0, n_estimators=100,\n",
       "                       n_jobs=None, oob_score=False, random_state=None,\n",
       "                       verbose=0, warm_start=False)"
      ]
     },
     "execution_count": 109,
     "metadata": {},
     "output_type": "execute_result"
    }
   ],
   "source": [
    "log.fit(X_train, y_train)\n",
    "forest.fit(X_train, y_train)"
   ]
  },
  {
   "cell_type": "code",
   "execution_count": 110,
   "metadata": {},
   "outputs": [
    {
     "data": {
      "text/plain": [
       "0.7509157509157509"
      ]
     },
     "execution_count": 110,
     "metadata": {},
     "output_type": "execute_result"
    }
   ],
   "source": [
    "log.score(X_test, y_test)"
   ]
  },
  {
   "cell_type": "code",
   "execution_count": 111,
   "metadata": {},
   "outputs": [
    {
     "data": {
      "text/plain": [
       "0    0.750916\n",
       "1    0.249084\n",
       "Name: FSV Bought, dtype: float64"
      ]
     },
     "execution_count": 111,
     "metadata": {},
     "output_type": "execute_result"
    }
   ],
   "source": [
    "y_test.value_counts(normalize = True)"
   ]
  },
  {
   "cell_type": "code",
   "execution_count": 112,
   "metadata": {},
   "outputs": [
    {
     "data": {
      "text/plain": [
       "0.7509157509157509"
      ]
     },
     "execution_count": 112,
     "metadata": {},
     "output_type": "execute_result"
    }
   ],
   "source": [
    "forest.score(X_test, y_test)"
   ]
  },
  {
   "cell_type": "markdown",
   "metadata": {},
   "source": [
    "### Evaluate Performance with scikitplot Viz for Classifiers"
   ]
  },
  {
   "cell_type": "code",
   "execution_count": 114,
   "metadata": {
    "scrolled": true
   },
   "outputs": [
    {
     "name": "stderr",
     "output_type": "stream",
     "text": [
      "/anaconda3/lib/python3.7/site-packages/matplotlib/cbook/__init__.py:424: MatplotlibDeprecationWarning: \n",
      "Passing one of 'on', 'true', 'off', 'false' as a boolean is deprecated; use an actual boolean (True/False) instead.\n",
      "  warn_deprecated(\"2.2\", \"Passing one of 'on', 'true', 'off', 'false' as a \"\n"
     ]
    },
    {
     "data": {
      "text/plain": [
       "<matplotlib.axes._subplots.AxesSubplot at 0x1a2d6978d0>"
      ]
     },
     "execution_count": 114,
     "metadata": {},
     "output_type": "execute_result"
    },
    {
     "data": {
      "image/png": "[encoded data removed]",
      "text/plain": [
       "<Figure size 432x288 with 1 Axes>"
      ]
     },
     "metadata": {
      "needs_background": "light"
     },
     "output_type": "display_data"
    }
   ],
   "source": [
    "skplt.metrics.plot_cumulative_gain(y_test, log.predict_proba(X_test))"
   ]
  },
  {
   "cell_type": "markdown",
   "metadata": {},
   "source": [
    "#### For both graphs we can see that if we sampled 20-30% of our USers, we would start doing better than average and after 60-70% we are maximizing our performance"
   ]
  },
  {
   "cell_type": "code",
   "execution_count": 115,
   "metadata": {
    "scrolled": true
   },
   "outputs": [
    {
     "name": "stderr",
     "output_type": "stream",
     "text": [
      "/anaconda3/lib/python3.7/site-packages/matplotlib/cbook/__init__.py:424: MatplotlibDeprecationWarning: \n",
      "Passing one of 'on', 'true', 'off', 'false' as a boolean is deprecated; use an actual boolean (True/False) instead.\n",
      "  warn_deprecated(\"2.2\", \"Passing one of 'on', 'true', 'off', 'false' as a \"\n"
     ]
    },
    {
     "data": {
      "text/plain": [
       "<matplotlib.axes._subplots.AxesSubplot at 0x1a2d882438>"
      ]
     },
     "execution_count": 115,
     "metadata": {},
     "output_type": "execute_result"
    },
    {
     "data": {
      "image/png": "[encoded data removed]",
      "text/plain": [
       "<Figure size 432x288 with 1 Axes>"
      ]
     },
     "metadata": {
      "needs_background": "light"
     },
     "output_type": "display_data"
    }
   ],
   "source": [
    "skplt.metrics.plot_cumulative_gain(y_test, forest.predict_proba(X_test))"
   ]
  },
  {
   "cell_type": "markdown",
   "metadata": {},
   "source": [
    "### If we are able to isolate those 60% of people that we have high confidence for Lift, we will see an imporvement in productivity when trying to increase purchase of  FSV Services"
   ]
  },
  {
   "cell_type": "code",
   "execution_count": 118,
   "metadata": {},
   "outputs": [
    {
     "name": "stderr",
     "output_type": "stream",
     "text": [
      "/anaconda3/lib/python3.7/site-packages/matplotlib/cbook/__init__.py:424: MatplotlibDeprecationWarning: \n",
      "Passing one of 'on', 'true', 'off', 'false' as a boolean is deprecated; use an actual boolean (True/False) instead.\n",
      "  warn_deprecated(\"2.2\", \"Passing one of 'on', 'true', 'off', 'false' as a \"\n"
     ]
    },
    {
     "data": {
      "text/plain": [
       "<matplotlib.axes._subplots.AxesSubplot at 0x1a2d8b7be0>"
      ]
     },
     "execution_count": 118,
     "metadata": {},
     "output_type": "execute_result"
    },
    {
     "data": {
      "image/png": "[encoded data removed]",
      "text/plain": [
       "<Figure size 432x288 with 1 Axes>"
      ]
     },
     "metadata": {
      "needs_background": "light"
     },
     "output_type": "display_data"
    }
   ],
   "source": [
    "skplt.metrics.plot_lift_curve(y_test, forest.predict_proba(X_test))"
   ]
  },
  {
   "cell_type": "markdown",
   "metadata": {},
   "source": [
    "### Using PCA and other dimentionality reduction techniques can improve model performance, but can hurt interpretability for business insights"
   ]
  },
  {
   "cell_type": "code",
   "execution_count": 137,
   "metadata": {},
   "outputs": [
    {
     "data": {
      "text/plain": [
       "<matplotlib.axes._subplots.AxesSubplot at 0x1a2e37b710>"
      ]
     },
     "execution_count": 137,
     "metadata": {},
     "output_type": "execute_result"
    },
    {
     "data": {
      "image/png": "[encoded data removed]",
      "text/plain": [
       "<Figure size 432x288 with 2 Axes>"
      ]
     },
     "metadata": {
      "needs_background": "light"
     },
     "output_type": "display_data"
    }
   ],
   "source": [
    "sns.heatmap(class_df.corr()[['Total Cost']], annot = True)"
   ]
  },
  {
   "cell_type": "markdown",
   "metadata": {},
   "source": [
    "### Clustering Model"
   ]
  },
  {
   "cell_type": "code",
   "execution_count": 138,
   "metadata": {},
   "outputs": [],
   "source": [
    "from sklearn.cluster import KMeans, SpectralClustering"
   ]
  },
  {
   "cell_type": "code",
   "execution_count": 142,
   "metadata": {},
   "outputs": [
    {
     "data": {
      "text/html": [
       "<div>\n",
       "<style scoped>\n",
       "    .dataframe tbody tr th:only-of-type {\n",
       "        vertical-align: middle;\n",
       "    }\n",
       "\n",
       "    .dataframe tbody tr th {\n",
       "        vertical-align: top;\n",
       "    }\n",
       "\n",
       "    .dataframe thead th {\n",
       "        text-align: right;\n",
       "    }\n",
       "</style>\n",
       "<table border=\"1\" class=\"dataframe\">\n",
       "  <thead>\n",
       "    <tr style=\"text-align: right;\">\n",
       "      <th></th>\n",
       "      <th>Income</th>\n",
       "      <th>Credit Ranges</th>\n",
       "      <th>age</th>\n",
       "      <th>Number of Children</th>\n",
       "      <th>FSV Services Count</th>\n",
       "      <th>Total Cost</th>\n",
       "    </tr>\n",
       "    <tr>\n",
       "      <th>Household Key</th>\n",
       "      <th></th>\n",
       "      <th></th>\n",
       "      <th></th>\n",
       "      <th></th>\n",
       "      <th></th>\n",
       "      <th></th>\n",
       "    </tr>\n",
       "  </thead>\n",
       "  <tbody>\n",
       "    <tr>\n",
       "      <th>969.0</th>\n",
       "      <td>95.000000</td>\n",
       "      <td>708.333333</td>\n",
       "      <td>75.500000</td>\n",
       "      <td>0.0</td>\n",
       "      <td>0</td>\n",
       "      <td>226.10</td>\n",
       "    </tr>\n",
       "    <tr>\n",
       "      <th>3338.0</th>\n",
       "      <td>15.000000</td>\n",
       "      <td>675.000000</td>\n",
       "      <td>89.000000</td>\n",
       "      <td>1.0</td>\n",
       "      <td>0</td>\n",
       "      <td>0.00</td>\n",
       "    </tr>\n",
       "    <tr>\n",
       "      <th>8718.0</th>\n",
       "      <td>55.000000</td>\n",
       "      <td>737.500000</td>\n",
       "      <td>68.000000</td>\n",
       "      <td>0.0</td>\n",
       "      <td>0</td>\n",
       "      <td>0.00</td>\n",
       "    </tr>\n",
       "    <tr>\n",
       "      <th>11524.0</th>\n",
       "      <td>157.857143</td>\n",
       "      <td>753.571429</td>\n",
       "      <td>49.000000</td>\n",
       "      <td>8.0</td>\n",
       "      <td>0</td>\n",
       "      <td>294.25</td>\n",
       "    </tr>\n",
       "    <tr>\n",
       "      <th>13422.0</th>\n",
       "      <td>95.000000</td>\n",
       "      <td>668.750000</td>\n",
       "      <td>69.333333</td>\n",
       "      <td>0.0</td>\n",
       "      <td>0</td>\n",
       "      <td>118.85</td>\n",
       "    </tr>\n",
       "  </tbody>\n",
       "</table>\n",
       "</div>"
      ],
      "text/plain": [
       "                   Income  Credit Ranges        age  Number of Children  \\\n",
       "Household Key                                                             \n",
       "969.0           95.000000     708.333333  75.500000                 0.0   \n",
       "3338.0          15.000000     675.000000  89.000000                 1.0   \n",
       "8718.0          55.000000     737.500000  68.000000                 0.0   \n",
       "11524.0        157.857143     753.571429  49.000000                 8.0   \n",
       "13422.0         95.000000     668.750000  69.333333                 0.0   \n",
       "\n",
       "               FSV Services Count  Total Cost  \n",
       "Household Key                                  \n",
       "969.0                           0      226.10  \n",
       "3338.0                          0        0.00  \n",
       "8718.0                          0        0.00  \n",
       "11524.0                         0      294.25  \n",
       "13422.0                         0      118.85  "
      ]
     },
     "execution_count": 142,
     "metadata": {},
     "output_type": "execute_result"
    }
   ],
   "source": [
    "cluster_df = pd.read_csv('grouped.csv')\n",
    "cluster_df = cluster_df.set_index('Household Key')\n",
    "cluster_df.head()"
   ]
  },
  {
   "cell_type": "code",
   "execution_count": 144,
   "metadata": {},
   "outputs": [
    {
     "data": {
      "text/plain": [
       "Income                0\n",
       "Credit Ranges         0\n",
       "age                   0\n",
       "Number of Children    0\n",
       "FSV Services Count    0\n",
       "Total Cost            0\n",
       "dtype: int64"
      ]
     },
     "execution_count": 144,
     "metadata": {},
     "output_type": "execute_result"
    }
   ],
   "source": [
    "cluster_df.isna().sum()"
   ]
  },
  {
   "cell_type": "code",
   "execution_count": 145,
   "metadata": {},
   "outputs": [],
   "source": [
    "X = cluster_df"
   ]
  },
  {
   "cell_type": "code",
   "execution_count": 146,
   "metadata": {},
   "outputs": [
    {
     "data": {
      "text/plain": [
       "KMeans(algorithm='auto', copy_x=True, init='k-means++', max_iter=300,\n",
       "       n_clusters=4, n_init=10, n_jobs=None, precompute_distances='auto',\n",
       "       random_state=None, tol=0.0001, verbose=0)"
      ]
     },
     "execution_count": 146,
     "metadata": {},
     "output_type": "execute_result"
    }
   ],
   "source": [
    "kmeans = KMeans(n_clusters = 4)\n",
    "kmeans.fit(X)"
   ]
  },
  {
   "cell_type": "code",
   "execution_count": 147,
   "metadata": {},
   "outputs": [
    {
     "data": {
      "text/plain": [
       "array([2, 0, 0, ..., 0, 2, 1], dtype=int32)"
      ]
     },
     "execution_count": 147,
     "metadata": {},
     "output_type": "execute_result"
    }
   ],
   "source": [
    "kmeans.labels_"
   ]
  },
  {
   "cell_type": "code",
   "execution_count": 152,
   "metadata": {},
   "outputs": [
    {
     "data": {
      "text/html": [
       "<div>\n",
       "<style scoped>\n",
       "    .dataframe tbody tr th:only-of-type {\n",
       "        vertical-align: middle;\n",
       "    }\n",
       "\n",
       "    .dataframe tbody tr th {\n",
       "        vertical-align: top;\n",
       "    }\n",
       "\n",
       "    .dataframe thead th {\n",
       "        text-align: right;\n",
       "    }\n",
       "</style>\n",
       "<table border=\"1\" class=\"dataframe\">\n",
       "  <thead>\n",
       "    <tr style=\"text-align: right;\">\n",
       "      <th></th>\n",
       "      <th>Income</th>\n",
       "      <th>Credit Ranges</th>\n",
       "      <th>age</th>\n",
       "      <th>Number of Children</th>\n",
       "      <th>FSV Services Count</th>\n",
       "      <th>Total Cost</th>\n",
       "      <th>cluster</th>\n",
       "    </tr>\n",
       "    <tr>\n",
       "      <th>Household Key</th>\n",
       "      <th></th>\n",
       "      <th></th>\n",
       "      <th></th>\n",
       "      <th></th>\n",
       "      <th></th>\n",
       "      <th></th>\n",
       "      <th></th>\n",
       "    </tr>\n",
       "  </thead>\n",
       "  <tbody>\n",
       "    <tr>\n",
       "      <th>969.0</th>\n",
       "      <td>95.000000</td>\n",
       "      <td>708.333333</td>\n",
       "      <td>75.500000</td>\n",
       "      <td>0.0</td>\n",
       "      <td>0</td>\n",
       "      <td>226.10</td>\n",
       "      <td>2</td>\n",
       "    </tr>\n",
       "    <tr>\n",
       "      <th>3338.0</th>\n",
       "      <td>15.000000</td>\n",
       "      <td>675.000000</td>\n",
       "      <td>89.000000</td>\n",
       "      <td>1.0</td>\n",
       "      <td>0</td>\n",
       "      <td>0.00</td>\n",
       "      <td>0</td>\n",
       "    </tr>\n",
       "    <tr>\n",
       "      <th>8718.0</th>\n",
       "      <td>55.000000</td>\n",
       "      <td>737.500000</td>\n",
       "      <td>68.000000</td>\n",
       "      <td>0.0</td>\n",
       "      <td>0</td>\n",
       "      <td>0.00</td>\n",
       "      <td>0</td>\n",
       "    </tr>\n",
       "    <tr>\n",
       "      <th>11524.0</th>\n",
       "      <td>157.857143</td>\n",
       "      <td>753.571429</td>\n",
       "      <td>49.000000</td>\n",
       "      <td>8.0</td>\n",
       "      <td>0</td>\n",
       "      <td>294.25</td>\n",
       "      <td>2</td>\n",
       "    </tr>\n",
       "    <tr>\n",
       "      <th>13422.0</th>\n",
       "      <td>95.000000</td>\n",
       "      <td>668.750000</td>\n",
       "      <td>69.333333</td>\n",
       "      <td>0.0</td>\n",
       "      <td>0</td>\n",
       "      <td>118.85</td>\n",
       "      <td>0</td>\n",
       "    </tr>\n",
       "  </tbody>\n",
       "</table>\n",
       "</div>"
      ],
      "text/plain": [
       "                   Income  Credit Ranges        age  Number of Children  \\\n",
       "Household Key                                                             \n",
       "969.0           95.000000     708.333333  75.500000                 0.0   \n",
       "3338.0          15.000000     675.000000  89.000000                 1.0   \n",
       "8718.0          55.000000     737.500000  68.000000                 0.0   \n",
       "11524.0        157.857143     753.571429  49.000000                 8.0   \n",
       "13422.0         95.000000     668.750000  69.333333                 0.0   \n",
       "\n",
       "               FSV Services Count  Total Cost  cluster  \n",
       "Household Key                                           \n",
       "969.0                           0      226.10        2  \n",
       "3338.0                          0        0.00        0  \n",
       "8718.0                          0        0.00        0  \n",
       "11524.0                         0      294.25        2  \n",
       "13422.0                         0      118.85        0  "
      ]
     },
     "execution_count": 152,
     "metadata": {},
     "output_type": "execute_result"
    }
   ],
   "source": [
    "cluster_df['cluster'] = kmeans.labels_\n",
    "cluster_df.head()"
   ]
  },
  {
   "cell_type": "code",
   "execution_count": 151,
   "metadata": {},
   "outputs": [
    {
     "data": {
      "text/plain": [
       "0    1999\n",
       "2     893\n",
       "1     311\n",
       "3      70\n",
       "Name: cluster, dtype: int64"
      ]
     },
     "execution_count": 151,
     "metadata": {},
     "output_type": "execute_result"
    }
   ],
   "source": [
    "cluster_df['cluster'].value_counts()"
   ]
  },
  {
   "cell_type": "code",
   "execution_count": 180,
   "metadata": {},
   "outputs": [
    {
     "data": {
      "text/plain": [
       "<function matplotlib.pyplot.show(*args, **kw)>"
      ]
     },
     "execution_count": 180,
     "metadata": {},
     "output_type": "execute_result"
    },
    {
     "data": {
      "image/png": "[encoded data removed]",
      "text/plain": [
       "<Figure size 432x288 with 1 Axes>"
      ]
     },
     "metadata": {},
     "output_type": "display_data"
    }
   ],
   "source": [
    "X = cluster_df['cluster']\n",
    "\n",
    "# plt.hist(X, bins = 10)\n",
    "sns.set_context(\"talk\", font_scale=0.8)\n",
    "# sns.set(style=\"white\")\n",
    "sns.countplot(X)\n",
    "plt.ylabel('Household Count', fontsize = 16, color = '#073997')\n",
    "plt.xlabel('Cluster Type', fontsize = 16, color = '#073997')\n",
    "plt.xticks( fontsize =10, color = '#073997')\n",
    "plt.title('Cluster Distribution', fontsize = 20, color = '#073997')\n",
    "plt.savefig('Cluster_Hist', bbox_inches = 'tight')\n",
    "plt.show"
   ]
  },
  {
   "cell_type": "code",
   "execution_count": 183,
   "metadata": {},
   "outputs": [
    {
     "data": {
      "text/plain": [
       "cluster\n",
       "0     1.341171\n",
       "1     8.594855\n",
       "2     4.038074\n",
       "3    18.042857\n",
       "Name: Number of Children, dtype: float64"
      ]
     },
     "execution_count": 183,
     "metadata": {},
     "output_type": "execute_result"
    }
   ],
   "source": [
    "cluster_df.groupby('cluster')['Number of Children'].mean()"
   ]
  },
  {
   "cell_type": "code",
   "execution_count": 191,
   "metadata": {},
   "outputs": [],
   "source": [
    "C0 = cluster_df[cluster_df.cluster == 0]\n",
    "C1 = cluster_df[cluster_df.cluster == 1]\n",
    "C2 = cluster_df[cluster_df.cluster == 2]\n",
    "C3 = cluster_df[cluster_df.cluster == 3]"
   ]
  },
  {
   "cell_type": "code",
   "execution_count": 193,
   "metadata": {},
   "outputs": [
    {
     "data": {
      "text/html": [
       "<div>\n",
       "<style scoped>\n",
       "    .dataframe tbody tr th:only-of-type {\n",
       "        vertical-align: middle;\n",
       "    }\n",
       "\n",
       "    .dataframe tbody tr th {\n",
       "        vertical-align: top;\n",
       "    }\n",
       "\n",
       "    .dataframe thead th {\n",
       "        text-align: right;\n",
       "    }\n",
       "</style>\n",
       "<table border=\"1\" class=\"dataframe\">\n",
       "  <thead>\n",
       "    <tr style=\"text-align: right;\">\n",
       "      <th></th>\n",
       "      <th>Income</th>\n",
       "      <th>Credit Ranges</th>\n",
       "      <th>age</th>\n",
       "      <th>Number of Children</th>\n",
       "      <th>FSV Services Count</th>\n",
       "      <th>Total Cost</th>\n",
       "      <th>cluster</th>\n",
       "    </tr>\n",
       "  </thead>\n",
       "  <tbody>\n",
       "    <tr>\n",
       "      <th>count</th>\n",
       "      <td>1999.000000</td>\n",
       "      <td>1999.000000</td>\n",
       "      <td>1999.000000</td>\n",
       "      <td>1999.000000</td>\n",
       "      <td>1999.000000</td>\n",
       "      <td>1999.000000</td>\n",
       "      <td>1999.0</td>\n",
       "    </tr>\n",
       "    <tr>\n",
       "      <th>mean</th>\n",
       "      <td>85.635383</td>\n",
       "      <td>713.938047</td>\n",
       "      <td>74.978183</td>\n",
       "      <td>1.341171</td>\n",
       "      <td>0.372186</td>\n",
       "      <td>42.292076</td>\n",
       "      <td>0.0</td>\n",
       "    </tr>\n",
       "    <tr>\n",
       "      <th>std</th>\n",
       "      <td>51.358641</td>\n",
       "      <td>56.074275</td>\n",
       "      <td>13.042623</td>\n",
       "      <td>2.324449</td>\n",
       "      <td>0.761003</td>\n",
       "      <td>41.416152</td>\n",
       "      <td>0.0</td>\n",
       "    </tr>\n",
       "    <tr>\n",
       "      <th>min</th>\n",
       "      <td>10.000000</td>\n",
       "      <td>524.000000</td>\n",
       "      <td>25.000000</td>\n",
       "      <td>0.000000</td>\n",
       "      <td>0.000000</td>\n",
       "      <td>0.000000</td>\n",
       "      <td>0.0</td>\n",
       "    </tr>\n",
       "    <tr>\n",
       "      <th>25%</th>\n",
       "      <td>50.000000</td>\n",
       "      <td>675.000000</td>\n",
       "      <td>68.500000</td>\n",
       "      <td>0.000000</td>\n",
       "      <td>0.000000</td>\n",
       "      <td>0.000000</td>\n",
       "      <td>0.0</td>\n",
       "    </tr>\n",
       "    <tr>\n",
       "      <th>50%</th>\n",
       "      <td>95.000000</td>\n",
       "      <td>712.500000</td>\n",
       "      <td>75.000000</td>\n",
       "      <td>0.000000</td>\n",
       "      <td>0.000000</td>\n",
       "      <td>34.000000</td>\n",
       "      <td>0.0</td>\n",
       "    </tr>\n",
       "    <tr>\n",
       "      <th>75%</th>\n",
       "      <td>105.000000</td>\n",
       "      <td>757.738095</td>\n",
       "      <td>84.833333</td>\n",
       "      <td>2.000000</td>\n",
       "      <td>0.000000</td>\n",
       "      <td>68.250000</td>\n",
       "      <td>0.0</td>\n",
       "    </tr>\n",
       "    <tr>\n",
       "      <th>max</th>\n",
       "      <td>250.000000</td>\n",
       "      <td>825.000000</td>\n",
       "      <td>100.000000</td>\n",
       "      <td>22.000000</td>\n",
       "      <td>6.000000</td>\n",
       "      <td>138.500000</td>\n",
       "      <td>0.0</td>\n",
       "    </tr>\n",
       "  </tbody>\n",
       "</table>\n",
       "</div>"
      ],
      "text/plain": [
       "            Income  Credit Ranges          age  Number of Children  \\\n",
       "count  1999.000000    1999.000000  1999.000000         1999.000000   \n",
       "mean     85.635383     713.938047    74.978183            1.341171   \n",
       "std      51.358641      56.074275    13.042623            2.324449   \n",
       "min      10.000000     524.000000    25.000000            0.000000   \n",
       "25%      50.000000     675.000000    68.500000            0.000000   \n",
       "50%      95.000000     712.500000    75.000000            0.000000   \n",
       "75%     105.000000     757.738095    84.833333            2.000000   \n",
       "max     250.000000     825.000000   100.000000           22.000000   \n",
       "\n",
       "       FSV Services Count   Total Cost  cluster  \n",
       "count         1999.000000  1999.000000   1999.0  \n",
       "mean             0.372186    42.292076      0.0  \n",
       "std              0.761003    41.416152      0.0  \n",
       "min              0.000000     0.000000      0.0  \n",
       "25%              0.000000     0.000000      0.0  \n",
       "50%              0.000000    34.000000      0.0  \n",
       "75%              0.000000    68.250000      0.0  \n",
       "max              6.000000   138.500000      0.0  "
      ]
     },
     "execution_count": 193,
     "metadata": {},
     "output_type": "execute_result"
    }
   ],
   "source": [
    "C0.describe()"
   ]
  },
  {
   "cell_type": "code",
   "execution_count": 194,
   "metadata": {},
   "outputs": [
    {
     "data": {
      "text/html": [
       "<div>\n",
       "<style scoped>\n",
       "    .dataframe tbody tr th:only-of-type {\n",
       "        vertical-align: middle;\n",
       "    }\n",
       "\n",
       "    .dataframe tbody tr th {\n",
       "        vertical-align: top;\n",
       "    }\n",
       "\n",
       "    .dataframe thead th {\n",
       "        text-align: right;\n",
       "    }\n",
       "</style>\n",
       "<table border=\"1\" class=\"dataframe\">\n",
       "  <thead>\n",
       "    <tr style=\"text-align: right;\">\n",
       "      <th></th>\n",
       "      <th>Income</th>\n",
       "      <th>Credit Ranges</th>\n",
       "      <th>age</th>\n",
       "      <th>Number of Children</th>\n",
       "      <th>FSV Services Count</th>\n",
       "      <th>Total Cost</th>\n",
       "      <th>cluster</th>\n",
       "    </tr>\n",
       "  </thead>\n",
       "  <tbody>\n",
       "    <tr>\n",
       "      <th>count</th>\n",
       "      <td>311.000000</td>\n",
       "      <td>311.000000</td>\n",
       "      <td>311.000000</td>\n",
       "      <td>311.000000</td>\n",
       "      <td>311.000000</td>\n",
       "      <td>311.000000</td>\n",
       "      <td>311.0</td>\n",
       "    </tr>\n",
       "    <tr>\n",
       "      <th>mean</th>\n",
       "      <td>91.356424</td>\n",
       "      <td>708.927240</td>\n",
       "      <td>67.172059</td>\n",
       "      <td>8.594855</td>\n",
       "      <td>1.636656</td>\n",
       "      <td>487.603666</td>\n",
       "      <td>1.0</td>\n",
       "    </tr>\n",
       "    <tr>\n",
       "      <th>std</th>\n",
       "      <td>49.434170</td>\n",
       "      <td>57.018531</td>\n",
       "      <td>14.806699</td>\n",
       "      <td>11.245494</td>\n",
       "      <td>3.159186</td>\n",
       "      <td>103.198646</td>\n",
       "      <td>0.0</td>\n",
       "    </tr>\n",
       "    <tr>\n",
       "      <th>min</th>\n",
       "      <td>10.000000</td>\n",
       "      <td>538.888889</td>\n",
       "      <td>24.571429</td>\n",
       "      <td>0.000000</td>\n",
       "      <td>0.000000</td>\n",
       "      <td>353.280000</td>\n",
       "      <td>1.0</td>\n",
       "    </tr>\n",
       "    <tr>\n",
       "      <th>25%</th>\n",
       "      <td>55.000000</td>\n",
       "      <td>670.000000</td>\n",
       "      <td>57.564103</td>\n",
       "      <td>0.000000</td>\n",
       "      <td>0.000000</td>\n",
       "      <td>398.000000</td>\n",
       "      <td>1.0</td>\n",
       "    </tr>\n",
       "    <tr>\n",
       "      <th>50%</th>\n",
       "      <td>95.000000</td>\n",
       "      <td>705.555556</td>\n",
       "      <td>68.000000</td>\n",
       "      <td>5.000000</td>\n",
       "      <td>0.000000</td>\n",
       "      <td>465.500000</td>\n",
       "      <td>1.0</td>\n",
       "    </tr>\n",
       "    <tr>\n",
       "      <th>75%</th>\n",
       "      <td>105.000000</td>\n",
       "      <td>756.071429</td>\n",
       "      <td>78.500000</td>\n",
       "      <td>12.000000</td>\n",
       "      <td>1.000000</td>\n",
       "      <td>557.275000</td>\n",
       "      <td>1.0</td>\n",
       "    </tr>\n",
       "    <tr>\n",
       "      <th>max</th>\n",
       "      <td>250.000000</td>\n",
       "      <td>825.000000</td>\n",
       "      <td>97.727273</td>\n",
       "      <td>72.000000</td>\n",
       "      <td>18.000000</td>\n",
       "      <td>747.000000</td>\n",
       "      <td>1.0</td>\n",
       "    </tr>\n",
       "  </tbody>\n",
       "</table>\n",
       "</div>"
      ],
      "text/plain": [
       "           Income  Credit Ranges         age  Number of Children  \\\n",
       "count  311.000000     311.000000  311.000000          311.000000   \n",
       "mean    91.356424     708.927240   67.172059            8.594855   \n",
       "std     49.434170      57.018531   14.806699           11.245494   \n",
       "min     10.000000     538.888889   24.571429            0.000000   \n",
       "25%     55.000000     670.000000   57.564103            0.000000   \n",
       "50%     95.000000     705.555556   68.000000            5.000000   \n",
       "75%    105.000000     756.071429   78.500000           12.000000   \n",
       "max    250.000000     825.000000   97.727273           72.000000   \n",
       "\n",
       "       FSV Services Count  Total Cost  cluster  \n",
       "count          311.000000  311.000000    311.0  \n",
       "mean             1.636656  487.603666      1.0  \n",
       "std              3.159186  103.198646      0.0  \n",
       "min              0.000000  353.280000      1.0  \n",
       "25%              0.000000  398.000000      1.0  \n",
       "50%              0.000000  465.500000      1.0  \n",
       "75%              1.000000  557.275000      1.0  \n",
       "max             18.000000  747.000000      1.0  "
      ]
     },
     "execution_count": 194,
     "metadata": {},
     "output_type": "execute_result"
    }
   ],
   "source": [
    "C1.describe()"
   ]
  },
  {
   "cell_type": "code",
   "execution_count": 195,
   "metadata": {},
   "outputs": [
    {
     "data": {
      "text/html": [
       "<div>\n",
       "<style scoped>\n",
       "    .dataframe tbody tr th:only-of-type {\n",
       "        vertical-align: middle;\n",
       "    }\n",
       "\n",
       "    .dataframe tbody tr th {\n",
       "        vertical-align: top;\n",
       "    }\n",
       "\n",
       "    .dataframe thead th {\n",
       "        text-align: right;\n",
       "    }\n",
       "</style>\n",
       "<table border=\"1\" class=\"dataframe\">\n",
       "  <thead>\n",
       "    <tr style=\"text-align: right;\">\n",
       "      <th></th>\n",
       "      <th>Income</th>\n",
       "      <th>Credit Ranges</th>\n",
       "      <th>age</th>\n",
       "      <th>Number of Children</th>\n",
       "      <th>FSV Services Count</th>\n",
       "      <th>Total Cost</th>\n",
       "      <th>cluster</th>\n",
       "    </tr>\n",
       "  </thead>\n",
       "  <tbody>\n",
       "    <tr>\n",
       "      <th>count</th>\n",
       "      <td>893.000000</td>\n",
       "      <td>893.000000</td>\n",
       "      <td>893.000000</td>\n",
       "      <td>893.000000</td>\n",
       "      <td>893.000000</td>\n",
       "      <td>893.000000</td>\n",
       "      <td>893.0</td>\n",
       "    </tr>\n",
       "    <tr>\n",
       "      <th>mean</th>\n",
       "      <td>95.578375</td>\n",
       "      <td>719.544404</td>\n",
       "      <td>70.904719</td>\n",
       "      <td>4.038074</td>\n",
       "      <td>0.884658</td>\n",
       "      <td>219.079306</td>\n",
       "      <td>2.0</td>\n",
       "    </tr>\n",
       "    <tr>\n",
       "      <th>std</th>\n",
       "      <td>54.130770</td>\n",
       "      <td>56.606492</td>\n",
       "      <td>14.131072</td>\n",
       "      <td>5.620740</td>\n",
       "      <td>1.832419</td>\n",
       "      <td>62.324141</td>\n",
       "      <td>0.0</td>\n",
       "    </tr>\n",
       "    <tr>\n",
       "      <th>min</th>\n",
       "      <td>10.000000</td>\n",
       "      <td>524.000000</td>\n",
       "      <td>22.000000</td>\n",
       "      <td>0.000000</td>\n",
       "      <td>0.000000</td>\n",
       "      <td>121.500000</td>\n",
       "      <td>2.0</td>\n",
       "    </tr>\n",
       "    <tr>\n",
       "      <th>25%</th>\n",
       "      <td>55.000000</td>\n",
       "      <td>675.000000</td>\n",
       "      <td>62.750000</td>\n",
       "      <td>0.000000</td>\n",
       "      <td>0.000000</td>\n",
       "      <td>164.430000</td>\n",
       "      <td>2.0</td>\n",
       "    </tr>\n",
       "    <tr>\n",
       "      <th>50%</th>\n",
       "      <td>95.000000</td>\n",
       "      <td>725.000000</td>\n",
       "      <td>72.000000</td>\n",
       "      <td>2.000000</td>\n",
       "      <td>0.000000</td>\n",
       "      <td>212.000000</td>\n",
       "      <td>2.0</td>\n",
       "    </tr>\n",
       "    <tr>\n",
       "      <th>75%</th>\n",
       "      <td>105.000000</td>\n",
       "      <td>768.750000</td>\n",
       "      <td>81.000000</td>\n",
       "      <td>6.000000</td>\n",
       "      <td>1.000000</td>\n",
       "      <td>268.000000</td>\n",
       "      <td>2.0</td>\n",
       "    </tr>\n",
       "    <tr>\n",
       "      <th>max</th>\n",
       "      <td>250.000000</td>\n",
       "      <td>825.000000</td>\n",
       "      <td>99.000000</td>\n",
       "      <td>36.000000</td>\n",
       "      <td>12.000000</td>\n",
       "      <td>357.000000</td>\n",
       "      <td>2.0</td>\n",
       "    </tr>\n",
       "  </tbody>\n",
       "</table>\n",
       "</div>"
      ],
      "text/plain": [
       "           Income  Credit Ranges         age  Number of Children  \\\n",
       "count  893.000000     893.000000  893.000000          893.000000   \n",
       "mean    95.578375     719.544404   70.904719            4.038074   \n",
       "std     54.130770      56.606492   14.131072            5.620740   \n",
       "min     10.000000     524.000000   22.000000            0.000000   \n",
       "25%     55.000000     675.000000   62.750000            0.000000   \n",
       "50%     95.000000     725.000000   72.000000            2.000000   \n",
       "75%    105.000000     768.750000   81.000000            6.000000   \n",
       "max    250.000000     825.000000   99.000000           36.000000   \n",
       "\n",
       "       FSV Services Count  Total Cost  cluster  \n",
       "count          893.000000  893.000000    893.0  \n",
       "mean             0.884658  219.079306      2.0  \n",
       "std              1.832419   62.324141      0.0  \n",
       "min              0.000000  121.500000      2.0  \n",
       "25%              0.000000  164.430000      2.0  \n",
       "50%              0.000000  212.000000      2.0  \n",
       "75%              1.000000  268.000000      2.0  \n",
       "max             12.000000  357.000000      2.0  "
      ]
     },
     "execution_count": 195,
     "metadata": {},
     "output_type": "execute_result"
    }
   ],
   "source": [
    "C2.describe()"
   ]
  },
  {
   "cell_type": "code",
   "execution_count": 196,
   "metadata": {},
   "outputs": [
    {
     "data": {
      "text/html": [
       "<div>\n",
       "<style scoped>\n",
       "    .dataframe tbody tr th:only-of-type {\n",
       "        vertical-align: middle;\n",
       "    }\n",
       "\n",
       "    .dataframe tbody tr th {\n",
       "        vertical-align: top;\n",
       "    }\n",
       "\n",
       "    .dataframe thead th {\n",
       "        text-align: right;\n",
       "    }\n",
       "</style>\n",
       "<table border=\"1\" class=\"dataframe\">\n",
       "  <thead>\n",
       "    <tr style=\"text-align: right;\">\n",
       "      <th></th>\n",
       "      <th>Income</th>\n",
       "      <th>Credit Ranges</th>\n",
       "      <th>age</th>\n",
       "      <th>Number of Children</th>\n",
       "      <th>FSV Services Count</th>\n",
       "      <th>Total Cost</th>\n",
       "      <th>cluster</th>\n",
       "    </tr>\n",
       "  </thead>\n",
       "  <tbody>\n",
       "    <tr>\n",
       "      <th>count</th>\n",
       "      <td>70.000000</td>\n",
       "      <td>70.000000</td>\n",
       "      <td>70.000000</td>\n",
       "      <td>70.000000</td>\n",
       "      <td>70.000000</td>\n",
       "      <td>70.000000</td>\n",
       "      <td>70.0</td>\n",
       "    </tr>\n",
       "    <tr>\n",
       "      <th>mean</th>\n",
       "      <td>94.595249</td>\n",
       "      <td>707.402129</td>\n",
       "      <td>57.542034</td>\n",
       "      <td>18.042857</td>\n",
       "      <td>3.185714</td>\n",
       "      <td>1008.699714</td>\n",
       "      <td>3.0</td>\n",
       "    </tr>\n",
       "    <tr>\n",
       "      <th>std</th>\n",
       "      <td>59.775244</td>\n",
       "      <td>63.324886</td>\n",
       "      <td>16.268343</td>\n",
       "      <td>18.221214</td>\n",
       "      <td>5.446160</td>\n",
       "      <td>263.235827</td>\n",
       "      <td>0.0</td>\n",
       "    </tr>\n",
       "    <tr>\n",
       "      <th>min</th>\n",
       "      <td>10.555556</td>\n",
       "      <td>575.000000</td>\n",
       "      <td>25.000000</td>\n",
       "      <td>0.000000</td>\n",
       "      <td>0.000000</td>\n",
       "      <td>755.850000</td>\n",
       "      <td>3.0</td>\n",
       "    </tr>\n",
       "    <tr>\n",
       "      <th>25%</th>\n",
       "      <td>57.017544</td>\n",
       "      <td>666.832386</td>\n",
       "      <td>43.975000</td>\n",
       "      <td>2.250000</td>\n",
       "      <td>0.000000</td>\n",
       "      <td>807.750000</td>\n",
       "      <td>3.0</td>\n",
       "    </tr>\n",
       "    <tr>\n",
       "      <th>50%</th>\n",
       "      <td>85.267857</td>\n",
       "      <td>689.855072</td>\n",
       "      <td>59.669683</td>\n",
       "      <td>14.500000</td>\n",
       "      <td>0.000000</td>\n",
       "      <td>915.475000</td>\n",
       "      <td>3.0</td>\n",
       "    </tr>\n",
       "    <tr>\n",
       "      <th>75%</th>\n",
       "      <td>105.000000</td>\n",
       "      <td>760.507246</td>\n",
       "      <td>68.812500</td>\n",
       "      <td>24.750000</td>\n",
       "      <td>4.750000</td>\n",
       "      <td>1078.587500</td>\n",
       "      <td>3.0</td>\n",
       "    </tr>\n",
       "    <tr>\n",
       "      <th>max</th>\n",
       "      <td>250.000000</td>\n",
       "      <td>825.000000</td>\n",
       "      <td>90.000000</td>\n",
       "      <td>74.000000</td>\n",
       "      <td>24.000000</td>\n",
       "      <td>1763.700000</td>\n",
       "      <td>3.0</td>\n",
       "    </tr>\n",
       "  </tbody>\n",
       "</table>\n",
       "</div>"
      ],
      "text/plain": [
       "           Income  Credit Ranges        age  Number of Children  \\\n",
       "count   70.000000      70.000000  70.000000           70.000000   \n",
       "mean    94.595249     707.402129  57.542034           18.042857   \n",
       "std     59.775244      63.324886  16.268343           18.221214   \n",
       "min     10.555556     575.000000  25.000000            0.000000   \n",
       "25%     57.017544     666.832386  43.975000            2.250000   \n",
       "50%     85.267857     689.855072  59.669683           14.500000   \n",
       "75%    105.000000     760.507246  68.812500           24.750000   \n",
       "max    250.000000     825.000000  90.000000           74.000000   \n",
       "\n",
       "       FSV Services Count   Total Cost  cluster  \n",
       "count           70.000000    70.000000     70.0  \n",
       "mean             3.185714  1008.699714      3.0  \n",
       "std              5.446160   263.235827      0.0  \n",
       "min              0.000000   755.850000      3.0  \n",
       "25%              0.000000   807.750000      3.0  \n",
       "50%              0.000000   915.475000      3.0  \n",
       "75%              4.750000  1078.587500      3.0  \n",
       "max             24.000000  1763.700000      3.0  "
      ]
     },
     "execution_count": 196,
     "metadata": {},
     "output_type": "execute_result"
    }
   ],
   "source": [
    "C3.describe()"
   ]
  },
  {
   "cell_type": "code",
   "execution_count": 197,
   "metadata": {},
   "outputs": [
    {
     "data": {
      "text/plain": [
       "<matplotlib.axes._subplots.AxesSubplot at 0x1a2f39d240>"
      ]
     },
     "execution_count": 197,
     "metadata": {},
     "output_type": "execute_result"
    },
    {
     "data": {
      "image/png": "[encoded data removed]",
      "text/plain": [
       "<Figure size 432x288 with 1 Axes>"
      ]
     },
     "metadata": {},
     "output_type": "display_data"
    }
   ],
   "source": [
    "skplt.metrics.plot_silhouette(cluster_df, cluster_df['cluster'])"
   ]
  }
 ],
 "metadata": {
  "kernelspec": {
   "display_name": "Python 3",
   "language": "python",
   "name": "python3"
  },
  "language_info": {
   "codemirror_mode": {
    "name": "ipython",
    "version": 3
   },
   "file_extension": ".py",
   "mimetype": "text/x-python",
   "name": "python",
   "nbconvert_exporter": "python",
   "pygments_lexer": "ipython3",
   "version": "3.7.3"
  }
 },
 "nbformat": 4,
 "nbformat_minor": 2
}
