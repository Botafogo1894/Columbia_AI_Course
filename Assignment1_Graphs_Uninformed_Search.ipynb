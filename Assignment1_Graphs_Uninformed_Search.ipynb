{
 "cells": [
  {
   "cell_type": "markdown",
   "metadata": {
    "deletable": false,
    "editable": false,
    "nbgrader": {
     "grade": false,
     "locked": true,
     "solution": false
    }
   },
   "source": [
    "# Introduction to Artificial Intelligence\n",
    "\n",
    "------------  \n",
    "\n",
    "_Authors: Jacob Koehler, Dhavide Aruliah_\n",
    "\n",
    "\n",
    "## Representing and Visualizing Graphs with Python\n",
    "\n",
    "This assignment prefaces later work with graph traversal problems. As preparation, you will cover ways to represent basic graphs and trees using base Python and then the [**networkx**](https://networkx.github.io/) library.  The main goals in this portion of the assignment are:\n",
    "\n",
    "- to apply Python idioms for representing graphs & trees;\n",
    "- to apply Python idioms for manipulating graphs & trees;\n",
    "- to use Python to visualize graphs and trees;\n",
    "- to apply Python for uniformed search in graphs."
   ]
  },
  {
   "cell_type": "markdown",
   "metadata": {
    "deletable": false,
    "editable": false,
    "nbgrader": {
     "grade": false,
     "locked": true,
     "solution": false
    }
   },
   "source": [
    "<a id=\"questions\"></a>\n",
    "## Questions\n",
    "\n",
    "+ [**Question 01: Build a Graph as a `dict`**](#q01)\n",
    "+ [**Question 02: Construct & Visualize a Graph object**](#q02)\n",
    "+ [**Question 03: Interrogating Graph Properties**](#q03)\n",
    "+ [**Question 04: Determining Graph Connectedness**](#q04)\n",
    "+ [**Question 05: Representing Network of Airports as a Graph**](#q05)\n",
    "+ [**Question 06: Finding Paths in a Graph**](#q06)\n",
    "+ [**Question 07: Building a Tree**](#q07)\n",
    "+ [**Question 08: Using Trees for Mathematical Formulas**](#q08)\n",
    "+ [**Question 09: Using a `Tree` class**](#q09)\n",
    "+ [**Question 10: Traversing a Tree using In-order Traversal**](#q10)\n",
    "+ [**Question 11: Finding paths between all vertices with `shortest_path`**](#q11)\n",
    "+ [**Question 12: Determining a Traversal using DFS**](#q12)\n",
    "+ [**Question 13: Determining Paths using DFS**](#q13)\n",
    "+ [**Question 14: Determining a Traversal using BFS**](#q14)\n",
    "+ [**Question 15: Determining Paths using BFS**](#q15)\n",
    "+ [**Question 16: Using `networkx` for DFS and BFS**](#q16)"
   ]
  },
  {
   "cell_type": "markdown",
   "metadata": {
    "deletable": false,
    "editable": false,
    "nbgrader": {
     "grade": false,
     "locked": true,
     "solution": false
    }
   },
   "source": [
    "## Graphs in Python\n",
    "\n",
    "In discrete mathematics, [a **graph**](https://en.wikipedia.org/wiki/Graph_(discrete_mathematics)) is a collection of *vertices* (or *nodes*) and *edges* (which are connections between vertices). Graphs are typically visualized with labelled circles for vertices and lines connecting the circles for edges.\n",
    "\n",
    "![](https://upload.wikimedia.org/wikipedia/commons/thumb/5/5b/6n-graf.svg/440px-6n-graf.svg.png)\n",
    "\n",
    "Notes:\n",
    "+ If the edges are arrows (implying a connection *from* one vertex *to* another), the graph is a *directed graph*. Otherwise, the graph is *undirected*.\n",
    "+ An edge that is goes from one vertex to itself is a *loop*\n",
    "+ A graph that permits multiple edges connecting one vertex to another is a *multigraph*. For example, if the vertices represent airports, then multiple edges connecting two distinct airports would represent multiple flights between those two airports.\n",
    "\n",
    "Graphs are ubiquitous in computer science due to their tremendous utility in applications:\n",
    "+ transportation networks (e.g., roads between cities, flights between airports, etc.)\n",
    "+ communication networks (e.g., physical cables between computers, wired or wireless connections between devices, etc.)\n",
    "+ social networks (e.g., relationships between individuals)\n",
    "\n",
    "A non-graphical way to represent graphs is more useful for programmatic exploration in Python (or any other programming language). One strategy is to use the *adjacency* information (i.e., how vertices are connected by edges) to describe a graph. This approach describes a graph explicitly and unambiguously in a manner suitable for manipulating programmatically.\n",
    "\n",
    "For example, the graph displayed above has six vertices. You can describe this graph completely without a drawing by summarizing its adjacency information in a table:\n",
    "\n",
    "| Vertex | Adjacencies |\n",
    "| :------: | :-----------: |\n",
    "| 1     |  2, 5    |\n",
    "| 2     |  1, 5, 3 |\n",
    "| 3     |  2, 4    |\n",
    "| 4     |  3, 5, 6  |\n",
    "| 5     |  1, 2, 4   |\n",
    "|  6   |   4   |\n",
    "\n",
    "Observe there is some redundancy in the preceding table (e.g., vertex 1 is adjacent to vertex 5 and vertex 5 is adjacent to vertex 1).\n",
    "\n",
    "The preceding table can be represented in Python using a dictionary with vertex labels as keys and lists of adjacent vertex labels as values."
   ]
  },
  {
   "cell_type": "code",
   "execution_count": 1,
   "metadata": {
    "collapsed": true,
    "deletable": false,
    "editable": false,
    "nbgrader": {
     "grade": false,
     "locked": true,
     "solution": false
    }
   },
   "outputs": [],
   "source": [
    "graph_int_labels = {\n",
    "     1: [2, 5],\n",
    "     2: [1, 3, 5],\n",
    "     3: [2, 4],\n",
    "     4: [3, 5, 6],\n",
    "     5: [1, 2, 4],\n",
    "     6: [4]\n",
    "}"
   ]
  },
  {
   "cell_type": "markdown",
   "metadata": {
    "deletable": false,
    "editable": false,
    "nbgrader": {
     "grade": false,
     "locked": true,
     "solution": false
    }
   },
   "source": [
    "This [dictionary-based approach](https://www.python.org/doc/essays/graphs/) was suggested by Guido van Rossum, the creator of the Python language. You will use this article as a guide to write some basic algorithms for traveling around on a graph.\n",
    "\n",
    "Usually, you don't want integer values as keys in Python dictionaries, so instead you can change to representing the graph with strings (in the case above, replacing the numerals `1` through `6` with the letters `A` through `F` respectively)."
   ]
  },
  {
   "cell_type": "code",
   "execution_count": 2,
   "metadata": {
    "collapsed": true,
    "deletable": false,
    "editable": false,
    "nbgrader": {
     "grade": false,
     "locked": true,
     "solution": false
    }
   },
   "outputs": [],
   "source": [
    "graph_str_labels = {\n",
    "     'A': ['B', 'E'],\n",
    "     'B': ['A', 'C', 'E'],\n",
    "     'C': ['B', 'D'],\n",
    "     'D': ['C', 'E', 'F'],\n",
    "     'E': ['A', 'B', 'D'],\n",
    "     'F': ['D']\n",
    "}"
   ]
  },
  {
   "cell_type": "markdown",
   "metadata": {
    "deletable": false,
    "editable": false,
    "nbgrader": {
     "grade": false,
     "locked": true,
     "solution": false
    }
   },
   "source": [
    "### Plotting Graphs\n",
    "\n",
    "[Networkx](https://networkx.github.io/) is a Python library working with graphs.\n",
    "From the [`networkx` documentation]():\n",
    "\n",
    "> NetworkX is a Python package for the creation, manipulation, and study of the structure, dynamics, and functions of complex networks.\n",
    "\n",
    "When using `networkx`, you can construct an object of class `networkx.classes.graph.Graph` (or `Graph` from hereon). This has the advantage that many utilities for working with graphs have been built into `networkx` for you.\n",
    "\n",
    "If you start from a graph representation as a dictionary with lists of adjacencies, the `networkx` function `from_dict_of_lists` can construct a `Graph` object; simply pass in a dictionary of lists with the adjacency information. Once you've created the `Graph` object, you can extract information about the graph such as vertices and edges and adjacency.  You can also visualize the graph using the function `draw_networkx`.  "
   ]
  },
  {
   "cell_type": "code",
   "execution_count": 3,
   "metadata": {
    "collapsed": true,
    "deletable": false,
    "editable": false,
    "nbgrader": {
     "grade": false,
     "locked": true,
     "solution": false
    }
   },
   "outputs": [],
   "source": [
    "%matplotlib inline\n",
    "import networkx as nx # \"nx\" is a conventional alias for \"networkx\" when importing\n",
    "import pandas as pd\n",
    "import warnings\n",
    "warnings.filterwarnings(\"ignore\") # To suppress matplotlib warning messages"
   ]
  },
  {
   "cell_type": "code",
   "execution_count": 4,
   "metadata": {},
   "outputs": [
    {
     "name": "stdout",
     "output_type": "stream",
     "text": [
      "<class 'networkx.classes.graph.Graph'>\n"
     ]
    }
   ],
   "source": [
    "G = nx.from_dict_of_lists(graph_str_labels)\n",
    "print(type(G))"
   ]
  },
  {
   "cell_type": "code",
   "execution_count": 5,
   "metadata": {},
   "outputs": [
    {
     "data": {
      "image/png": "[encoded data removed]",
      "text/plain": [
       "<Figure size 432x288 with 1 Axes>"
      ]
     },
     "metadata": {},
     "output_type": "display_data"
    }
   ],
   "source": [
    "nx.draw_networkx(G, with_labels=True, node_color='cyan', node_size=500)\n",
    "# see help(nx.draw_networkx for more optional keyword arguments)"
   ]
  },
  {
   "cell_type": "markdown",
   "metadata": {
    "deletable": false,
    "editable": false,
    "nbgrader": {
     "grade": false,
     "locked": true,
     "solution": false
    }
   },
   "source": [
    "#### Graphs from Data\n",
    "\n",
    "Rather than constructing a graph from a dictionary, you may be using a dataset in the form of a data file (which is more useful for a graph of a reasonable size that would arise in any application).  Here, you can experiment with an example dataset from the [*Stanford Large Network Dataset Collection* on Facebook social circles](https://snap.stanford.edu/data/index.html):\n",
    "\n",
    "Here is the description of the data from the source:\n",
    "\n",
    "\n",
    ">This dataset consists of 'circles' (or 'friends lists') from Facebook. \n",
    "Facebook data was collected from survey participants using this Facebook app. The dataset includes node features (profiles), circles, and ego networks.\n",
    ">\n",
    "> Facebook data has been anonymized by replacing the Facebook-internal ids for each user with a new value. Also, while feature vectors from this dataset have been provided, the interpretation of those features has been obscured. For instance, where the original dataset may have contained a feature \"political=Democratic Party\", the new data would simply contain \"political=anonymized feature 1\". Thus, using the anonymized data it is possible to determine whether two users have the same political affiliations, but not what their individual political affiliations represent.\n",
    "\n",
    "We easily read in the data using the [Pandas](https://pandas.pydata.org) function `read_csv` to produce a Pandas DataFrame. The rows of the DataFrame `facebook` created below correspond to edges in a graph (i.e., an edge connecting the node from column `A` to the node from column `B`). The DataFrame `facebook` is then in a suitable form to pass to the `networkx` function `from_pandas_edgelist` to create a `Graph` object."
   ]
  },
  {
   "cell_type": "code",
   "execution_count": 6,
   "metadata": {
    "collapsed": true,
    "deletable": false,
    "editable": false,
    "nbgrader": {
     "grade": false,
     "locked": true,
     "solution": false
    }
   },
   "outputs": [],
   "source": [
    "FACEBOOK_PATH = './resource/asnlib/publicdata/facebook_combined.txt'\n",
    "facebook = pd.read_csv(FACEBOOK_PATH, sep=' ', names=['A', 'B'])"
   ]
  },
  {
   "cell_type": "code",
   "execution_count": 7,
   "metadata": {},
   "outputs": [
    {
     "name": "stdout",
     "output_type": "stream",
     "text": [
      "<class 'pandas.core.frame.DataFrame'>\n",
      "RangeIndex: 88234 entries, 0 to 88233\n",
      "Data columns (total 2 columns):\n",
      "A    88234 non-null int64\n",
      "B    88234 non-null int64\n",
      "dtypes: int64(2)\n",
      "memory usage: 1.3 MB\n",
      "None\n"
     ]
    },
    {
     "data": {
      "text/html": [
       "<div>\n",
       "<style scoped>\n",
       "    .dataframe tbody tr th:only-of-type {\n",
       "        vertical-align: middle;\n",
       "    }\n",
       "\n",
       "    .dataframe tbody tr th {\n",
       "        vertical-align: top;\n",
       "    }\n",
       "\n",
       "    .dataframe thead th {\n",
       "        text-align: right;\n",
       "    }\n",
       "</style>\n",
       "<table border=\"1\" class=\"dataframe\">\n",
       "  <thead>\n",
       "    <tr style=\"text-align: right;\">\n",
       "      <th></th>\n",
       "      <th>A</th>\n",
       "      <th>B</th>\n",
       "    </tr>\n",
       "  </thead>\n",
       "  <tbody>\n",
       "    <tr>\n",
       "      <th>0</th>\n",
       "      <td>0</td>\n",
       "      <td>1</td>\n",
       "    </tr>\n",
       "    <tr>\n",
       "      <th>1</th>\n",
       "      <td>0</td>\n",
       "      <td>2</td>\n",
       "    </tr>\n",
       "    <tr>\n",
       "      <th>2</th>\n",
       "      <td>0</td>\n",
       "      <td>3</td>\n",
       "    </tr>\n",
       "    <tr>\n",
       "      <th>3</th>\n",
       "      <td>0</td>\n",
       "      <td>4</td>\n",
       "    </tr>\n",
       "    <tr>\n",
       "      <th>4</th>\n",
       "      <td>0</td>\n",
       "      <td>5</td>\n",
       "    </tr>\n",
       "  </tbody>\n",
       "</table>\n",
       "</div>"
      ],
      "text/plain": [
       "   A  B\n",
       "0  0  1\n",
       "1  0  2\n",
       "2  0  3\n",
       "3  0  4\n",
       "4  0  5"
      ]
     },
     "execution_count": 7,
     "metadata": {},
     "output_type": "execute_result"
    }
   ],
   "source": [
    "print(facebook.info())\n",
    "facebook.head()"
   ]
  },
  {
   "cell_type": "code",
   "execution_count": 8,
   "metadata": {
    "collapsed": true
   },
   "outputs": [],
   "source": [
    "# Construct a networkx Graph object from a Pandas DataFrame\n",
    "G = nx.from_pandas_edgelist(facebook, 'A', 'B')"
   ]
  },
  {
   "cell_type": "markdown",
   "metadata": {
    "deletable": false,
    "editable": false,
    "nbgrader": {
     "grade": false,
     "locked": true,
     "solution": false
    }
   },
   "source": [
    "A `networkx` Graph object can be visualized with the `networkx` function `draw_networkx`. In the case of the Faceboook data set, this would be created as below (but you won't execute this code here because it takes a while to run for this many nodes & edges; the result is the plot shown here).\n",
    "\n",
    "```python\n",
    "nx.draw_networkx(G) # this takes a long time.\n",
    "```\n",
    "![](./resource/asnlib/publicdata/facebook_graph.png)"
   ]
  },
  {
   "cell_type": "markdown",
   "metadata": {
    "deletable": false,
    "editable": false,
    "nbgrader": {
     "grade": false,
     "locked": true,
     "solution": false
    }
   },
   "source": [
    "<a id=\"q01\"></a>\n",
    "[Return to top](#questions)"
   ]
  },
  {
   "cell_type": "markdown",
   "metadata": {
    "deletable": false,
    "editable": false,
    "nbgrader": {
     "grade": false,
     "locked": true,
     "solution": false
    }
   },
   "source": [
    "### Question 01: Build a Graph as a `dict`\n",
    "\n",
    "![](./resource/asnlib/publicdata/graphh.png)\n",
    "\n",
    "Your task here is to construct a `dict` with the strings `'A'` through `'H'` as keys (vertices) and lists of adjacent vertices as values.\n",
    "\n",
    "+ Do *not* use a `networkx` Graph object (that construction comes in the next question).\n",
    "+ Assign the resulting `dict` to `ans_1`.\n",
    "+ The precise sequence of vertices in your adjacency lists is not important, as long as all adjacent vertices are listed."
   ]
  },
  {
   "cell_type": "code",
   "execution_count": 30,
   "metadata": {
    "collapsed": true
   },
   "outputs": [],
   "source": [
    "### GRADED\n",
    "### QUESTION 01:\n",
    "### Construct a dictionary of lists of strings that represents\n",
    "### the graph in the diagram above.\n",
    "### Bind the resulting dict to the identifier ans_1.\n",
    "ans_1 = {\n",
    "     'A': ['B', 'H', 'G'],\n",
    "     'B': ['A', 'C', 'D'],\n",
    "     'C': ['B', 'D', 'E'],\n",
    "     'D': ['C', 'E', 'F', 'B', 'H', 'G'],\n",
    "     'E': ['C', 'F', 'D'],\n",
    "     'F': ['D', 'E', 'G'],\n",
    "     'G': ['D', 'F', 'H', 'A'],\n",
    "     'H': ['A', 'D', 'G']\n",
    "}\n"
   ]
  },
  {
   "cell_type": "code",
   "execution_count": 10,
   "metadata": {
    "collapsed": true,
    "deletable": false,
    "editable": false,
    "nbgrader": {
     "grade": true,
     "grade_id": "Question 01",
     "locked": true,
     "points": "10",
     "solution": false
    }
   },
   "outputs": [],
   "source": [
    "###\n",
    "### AUTOGRADER TEST - DO NOT REMOVE\n",
    "###\n"
   ]
  },
  {
   "cell_type": "markdown",
   "metadata": {
    "deletable": false,
    "editable": false,
    "nbgrader": {
     "grade": false,
     "locked": true,
     "solution": false
    }
   },
   "source": [
    "<a id=\"q02\"></a>\n",
    "[Return to top](#questions)"
   ]
  },
  {
   "cell_type": "markdown",
   "metadata": {
    "deletable": false,
    "editable": false,
    "nbgrader": {
     "grade": false,
     "locked": true,
     "solution": false
    }
   },
   "source": [
    "### Question 02: Construct & Visualize a Graph object\n",
    "\n",
    "You can now create a `networkx` Graph object from `ans_1` and produce a plot.\n",
    "+ To do instantiate the Graph object, use the `networkx` function `from_dict_of_lists`.\n",
    "+ To produce a plot, use the `networkx` function `draw_networkx` (using the `with_labels` keyword argument labels the vertices)."
   ]
  },
  {
   "cell_type": "code",
   "execution_count": 31,
   "metadata": {},
   "outputs": [
    {
     "data": {
      "image/png": "[encoded data removed]",
      "text/plain": [
       "<Figure size 432x288 with 1 Axes>"
      ]
     },
     "metadata": {},
     "output_type": "display_data"
    }
   ],
   "source": [
    "### GRADED\n",
    "### QUESTION 02\n",
    "### Create a networkx graph using ans_1 (your dictionary of lists of vertices from Question 01).\n",
    "### Save this Graph object as ans_2 and use the nx.draw_networkx function to visualize it.\n",
    "ans_2 = nx.from_dict_of_lists(ans_1)\n",
    "# print(type(ans_2 ))\n",
    "nx.draw_networkx(ans_2, with_labels=True, node_color='cyan', node_size=500)\n"
   ]
  },
  {
   "cell_type": "code",
   "execution_count": 14,
   "metadata": {
    "collapsed": true,
    "deletable": false,
    "editable": false,
    "nbgrader": {
     "grade": true,
     "grade_id": "Question 02",
     "locked": true,
     "points": "10",
     "solution": false
    }
   },
   "outputs": [],
   "source": [
    "###\n",
    "### AUTOGRADER TEST - DO NOT REMOVE\n",
    "###\n"
   ]
  },
  {
   "cell_type": "markdown",
   "metadata": {
    "deletable": false,
    "editable": false,
    "nbgrader": {
     "grade": false,
     "locked": true,
     "solution": false
    }
   },
   "source": [
    "<a id=\"q03\"></a>\n",
    "[Return to top](#questions)"
   ]
  },
  {
   "cell_type": "markdown",
   "metadata": {
    "deletable": false,
    "editable": false,
    "nbgrader": {
     "grade": false,
     "locked": true,
     "solution": false
    }
   },
   "source": [
    "### Question 03: Interrogating Graph Properties\n",
    "\n",
    "A principal reason to use `networkx` is that it has numerous functions, classes, and methods that simplify working with graphs. For instance, you can access the total number of **vertices** and **edges** in a graph object using two useful methods: `number_of_nodes` (remember, nodes is an equivalent term for *vertices* in a graph) and `number_of_edges` respectively.\n",
    "\n",
    "+ Assign the number of vertices to `ans_3_nodes` & the number of edges to `ans_3_edges` respectively.\n",
    "+ Remember, these are accessor methods so you'll invoke them as functions. Consult the [`networkx` documentation](https://networkx.github.io/documentation/stable/reference/classes/graph.html#methods) if you need to."
   ]
  },
  {
   "cell_type": "code",
   "execution_count": 12,
   "metadata": {},
   "outputs": [
    {
     "data": {
      "text/plain": [
       "14"
      ]
     },
     "execution_count": 12,
     "metadata": {},
     "output_type": "execute_result"
    }
   ],
   "source": [
    "ans_2.number_of_edges()"
   ]
  },
  {
   "cell_type": "code",
   "execution_count": 13,
   "metadata": {},
   "outputs": [
    {
     "name": "stdout",
     "output_type": "stream",
     "text": [
      "The graph ans_2 has 8 vertices.\n",
      "The graph ans_2 has 14 edges.\n"
     ]
    }
   ],
   "source": [
    "### GRADED\n",
    "### QUESTION 03\n",
    "##  Determine the number of edges\n",
    "## and vertices in your graph from above \n",
    "## and save the results to ans_3_edges and \n",
    "## ans_3_verts below\n",
    "ans_3_edges = ans_2.number_of_edges()\n",
    "ans_3_verts = ans_2.number_of_nodes()\n",
    "print('The graph ans_2 has {} vertices.'.format(ans_3_verts))\n",
    "print('The graph ans_2 has {} edges.'.format(ans_3_edges))"
   ]
  },
  {
   "cell_type": "code",
   "execution_count": 17,
   "metadata": {
    "collapsed": true,
    "deletable": false,
    "editable": false,
    "nbgrader": {
     "grade": true,
     "grade_id": "Question 03",
     "locked": true,
     "points": "10",
     "solution": false
    }
   },
   "outputs": [],
   "source": [
    "###\n",
    "### AUTOGRADER TEST - DO NOT REMOVE\n",
    "###\n"
   ]
  },
  {
   "cell_type": "markdown",
   "metadata": {
    "deletable": false,
    "editable": false,
    "nbgrader": {
     "grade": false,
     "locked": true,
     "solution": false
    }
   },
   "source": [
    "### Paths and Graph Connectedness\n",
    "\n",
    "Given any nonempty graph, a *path* is an ordered sequence of at least two vertices each of which is connected to its immediate predecessor by at least one edge. Think of vertices as cities in a land-locked country and think of edges as roads connecting cities; in that case, a path represents a route from one city to another (even if the two vertices are not adjacent in the graph).\n",
    "\n",
    "Per [Wikipedia](https://en.wikipedia.org/wiki/Connectivity_(graph_theory)]), here is a definition of a *connected* graph:\n",
    "\n",
    ">  An undirected graph is connected when it has at least one vertex and there is a path between every pair of vertices.\n",
    "\n",
    "The graph shown here is an example of a graph that is not connected or *disconnected*; it does have three connected components.\n",
    "\n",
    "![](./resource/asnlib/publicdata/disconnected_graph.png)"
   ]
  },
  {
   "cell_type": "markdown",
   "metadata": {
    "deletable": false,
    "editable": false,
    "nbgrader": {
     "grade": false,
     "locked": true,
     "solution": false
    }
   },
   "source": [
    "<a id=\"q04\"></a>\n",
    "[Return to top](#questions)"
   ]
  },
  {
   "cell_type": "markdown",
   "metadata": {
    "deletable": false,
    "editable": false,
    "nbgrader": {
     "grade": false,
     "locked": true,
     "solution": false
    }
   },
   "source": [
    "### Question 04: Determining Graph Connectedness\n",
    "\n",
    "Your task here is to use `networkx` to check that the graph displayed above is not connected.\n",
    "\n",
    "+ Create a `networkx` Graph object `ans_4` that corresponds to the diagram above (i.e., with nodes `A` through `G` and the same disconnected components).\n",
    "+ You can invoke the function `nx.is_connected` to assess whether a graph is connected (code provided for you).\n",
    "\n",
    "You can also use the function `nx.connected_components` to determine the nodes of the connected subgraphs if the original graph is itself not connected."
   ]
  },
  {
   "cell_type": "code",
   "execution_count": 14,
   "metadata": {},
   "outputs": [
    {
     "name": "stdout",
     "output_type": "stream",
     "text": [
      "Is ans_4 a connected graph: False.\n",
      "The components of ans_4 are:\n",
      "\t{'C', 'B', 'A'}\n",
      "\t{'D'}\n",
      "\t{'E', 'F', 'G'}\n"
     ]
    }
   ],
   "source": [
    "### GRADED\n",
    "### QUESTION 04\n",
    "###  Construct a disconnected networkx Graph object that corresponds\n",
    "###  to the diagram above.\n",
    "###  Save your graph object to ans_4 below.\n",
    "###  You can test your solution with nx.is_connected()\n",
    "\n",
    "g4 = {\n",
    "     'A': ['B', 'C'],\n",
    "     'B': ['A', 'C'],\n",
    "     'C': ['B', 'A'],\n",
    "     'D': [],\n",
    "     'E': ['F', 'G'],\n",
    "     'F': ['E', 'G'],\n",
    "     'G': ['E', 'F']\n",
    "}\n",
    "\n",
    "\n",
    "ans_4 = nx.from_dict_of_lists(g4)\n",
    "print('Is ans_4 a connected graph: {}.'.format(nx.is_connected(ans_4)))\n",
    "print('The components of ans_4 are:')\n",
    "for subgraph in nx.connected_components(ans_4):\n",
    "    print('\\t{}'.format(subgraph)) # print sets of vertices"
   ]
  },
  {
   "cell_type": "code",
   "execution_count": 19,
   "metadata": {
    "collapsed": true,
    "deletable": false,
    "editable": false,
    "nbgrader": {
     "grade": true,
     "grade_id": "Question 04",
     "locked": true,
     "points": "10",
     "solution": false
    }
   },
   "outputs": [],
   "source": [
    "###\n",
    "### AUTOGRADER TEST - DO NOT REMOVE\n",
    "###\n"
   ]
  },
  {
   "cell_type": "markdown",
   "metadata": {
    "deletable": false,
    "editable": false,
    "nbgrader": {
     "grade": false,
     "locked": true,
     "solution": false
    }
   },
   "source": [
    "### A Graph to represent airport connections\n",
    "\n",
    "Below, you will use a dataset containing information about airline flights between airports.  In the next two questions, you will import the data into a `networkx` `Graph` object and identify paths in the graph.  To begin, you need to examine the structure the data.\n",
    "\n",
    "This is what the data  file `air_routes.csv` looks like: \n",
    "\n",
    "```\n",
    ",source,dest,count\n",
    "0,AAE,ALG,1\n",
    "1,AAE,CDG,1\n",
    "```\n",
    "$\\qquad\\vdots,\\ \\vdots\\ ,\\ \\vdots\\ , \\vdots$\n",
    "```\n",
    "37593,ZYI,XMN,1\n",
    "37594,ZYL,DAC,4\n",
    "```\n",
    "There are slightly more than 37,500 rows with the row number, departure (`source`) airport, arrival (`dest`) airport, and number of flights (`count`) as columns. The airports are represented using three-letter [IATA](http://www.iata.org/publications/Pages/code-search.aspx) codes. \n",
    "\n",
    "Here, you can load the data into a Pandas `DataFrame` and display the first few rows. "
   ]
  },
  {
   "cell_type": "code",
   "execution_count": 15,
   "metadata": {
    "deletable": false,
    "editable": false,
    "nbgrader": {
     "grade": false,
     "locked": true,
     "solution": false
    },
    "scrolled": false
   },
   "outputs": [
    {
     "data": {
      "text/html": [
       "<div>\n",
       "<style scoped>\n",
       "    .dataframe tbody tr th:only-of-type {\n",
       "        vertical-align: middle;\n",
       "    }\n",
       "\n",
       "    .dataframe tbody tr th {\n",
       "        vertical-align: top;\n",
       "    }\n",
       "\n",
       "    .dataframe thead th {\n",
       "        text-align: right;\n",
       "    }\n",
       "</style>\n",
       "<table border=\"1\" class=\"dataframe\">\n",
       "  <thead>\n",
       "    <tr style=\"text-align: right;\">\n",
       "      <th></th>\n",
       "      <th>source</th>\n",
       "      <th>dest</th>\n",
       "      <th>count</th>\n",
       "    </tr>\n",
       "  </thead>\n",
       "  <tbody>\n",
       "    <tr>\n",
       "      <th>0</th>\n",
       "      <td>AAE</td>\n",
       "      <td>ALG</td>\n",
       "      <td>1</td>\n",
       "    </tr>\n",
       "    <tr>\n",
       "      <th>1</th>\n",
       "      <td>AAE</td>\n",
       "      <td>CDG</td>\n",
       "      <td>1</td>\n",
       "    </tr>\n",
       "    <tr>\n",
       "      <th>2</th>\n",
       "      <td>AAE</td>\n",
       "      <td>IST</td>\n",
       "      <td>1</td>\n",
       "    </tr>\n",
       "    <tr>\n",
       "      <th>3</th>\n",
       "      <td>AAE</td>\n",
       "      <td>LYS</td>\n",
       "      <td>1</td>\n",
       "    </tr>\n",
       "    <tr>\n",
       "      <th>4</th>\n",
       "      <td>AAE</td>\n",
       "      <td>MRS</td>\n",
       "      <td>2</td>\n",
       "    </tr>\n",
       "  </tbody>\n",
       "</table>\n",
       "</div>"
      ],
      "text/plain": [
       "  source dest  count\n",
       "0    AAE  ALG      1\n",
       "1    AAE  CDG      1\n",
       "2    AAE  IST      1\n",
       "3    AAE  LYS      1\n",
       "4    AAE  MRS      2"
      ]
     },
     "execution_count": 15,
     "metadata": {},
     "output_type": "execute_result"
    }
   ],
   "source": [
    "ROUTES_PATH = './resource/asnlib/publicdata/air_routes.csv'\n",
    "routes = pd.read_csv(ROUTES_PATH, usecols=['source','dest','count'])\n",
    "\n",
    "routes.head()"
   ]
  },
  {
   "cell_type": "code",
   "execution_count": 35,
   "metadata": {},
   "outputs": [
    {
     "data": {
      "text/plain": [
       "(37595, 3)"
      ]
     },
     "execution_count": 35,
     "metadata": {},
     "output_type": "execute_result"
    }
   ],
   "source": [
    "routes.shape"
   ]
  },
  {
   "cell_type": "code",
   "execution_count": 42,
   "metadata": {
    "scrolled": true
   },
   "outputs": [],
   "source": [
    "routes[(routes.source == 'ATL') & (routes.dest == 'SFO')]\n",
    "alldata_balance = routes[(routes.source == 'ATL') & (routes.dest == 'SFO')]"
   ]
  },
  {
   "cell_type": "code",
   "execution_count": 43,
   "metadata": {},
   "outputs": [
    {
     "data": {
      "text/html": [
       "<div>\n",
       "<style scoped>\n",
       "    .dataframe tbody tr th:only-of-type {\n",
       "        vertical-align: middle;\n",
       "    }\n",
       "\n",
       "    .dataframe tbody tr th {\n",
       "        vertical-align: top;\n",
       "    }\n",
       "\n",
       "    .dataframe thead th {\n",
       "        text-align: right;\n",
       "    }\n",
       "</style>\n",
       "<table border=\"1\" class=\"dataframe\">\n",
       "  <thead>\n",
       "    <tr style=\"text-align: right;\">\n",
       "      <th></th>\n",
       "      <th>source</th>\n",
       "      <th>dest</th>\n",
       "      <th>count</th>\n",
       "    </tr>\n",
       "  </thead>\n",
       "  <tbody>\n",
       "    <tr>\n",
       "      <th>2072</th>\n",
       "      <td>ATL</td>\n",
       "      <td>SFO</td>\n",
       "      <td>9</td>\n",
       "    </tr>\n",
       "  </tbody>\n",
       "</table>\n",
       "</div>"
      ],
      "text/plain": [
       "     source dest  count\n",
       "2072    ATL  SFO      9"
      ]
     },
     "execution_count": 43,
     "metadata": {},
     "output_type": "execute_result"
    }
   ],
   "source": [
    "alldata_balance"
   ]
  },
  {
   "cell_type": "markdown",
   "metadata": {
    "deletable": false,
    "editable": false,
    "nbgrader": {
     "grade": false,
     "locked": true,
     "solution": false
    }
   },
   "source": [
    "<a id=\"q05\"></a>\n",
    "[Return to top](#questions)"
   ]
  },
  {
   "cell_type": "markdown",
   "metadata": {
    "deletable": false,
    "editable": false,
    "nbgrader": {
     "grade": false,
     "locked": true,
     "solution": false
    }
   },
   "source": [
    "### Question 05: Representing a Network of Airports as a Graph\n",
    "\n",
    "Your task here is to construct a Graph object from the Pandas DataFrame `routes` containing the airline data from the file `air_routes.csv` (`routes` has already been constructed for you). The DataFrame is formatted as an *edgelist* (because each row corresponds to an edge in the graph). In addition, because there are multiple flights between each pair of airports recorded in the `count` column (the number of connecting flights), you want to retain this information in your graph by associating an *edge attribute* (`count`) with each edge.\n",
    "\n",
    "TO summarize, your goal is to construct a `Graph` from `routes` using the `source` and `dest` columns with the `count` column as an edge attribute.\n",
    "\n",
    "+ You can use the `networkx` function `from_pandas_edgelist` (as you did earlier with Facebook data).\n",
    "+ This time, use the optional keyword argument `edge_attr` to obtain a `Graph` object with *weighted* edges (the weights being the contents of the `count` column, i.e., the number of distinct flights connecting two given airports). You can use the [`networkx` documentation for `from_pandas_edgelist`](https://networkx.github.io/documentation/stable/reference/convert.html) for clarification.\n",
    "+ Assign the resulting object to `ans_5`."
   ]
  },
  {
   "cell_type": "code",
   "execution_count": 44,
   "metadata": {
    "collapsed": true
   },
   "outputs": [],
   "source": [
    "### GRADED\n",
    "### QUESTION 05\n",
    "### Create a graph ans_5 from the dataframe routes using \"nx.from_pandas_edgelist\".\n",
    "###    Regard each row as an edge between the \"source\" and \"dest\" columns.\n",
    "###    Use the count column as an attribute for each edge (using the \"edge_attr\" keyword).\n",
    "###    Save your graph object to ans_5 below.\n",
    "AIR = nx.from_pandas_edgelist(routes, 'source', 'dest', edge_attr = 'count')\n",
    "ans_5 = AIR\n",
    "\n"
   ]
  },
  {
   "cell_type": "code",
   "execution_count": 22,
   "metadata": {
    "collapsed": true,
    "deletable": false,
    "editable": false,
    "nbgrader": {
     "grade": true,
     "grade_id": "Question 05",
     "locked": true,
     "points": "10",
     "solution": false
    }
   },
   "outputs": [],
   "source": [
    "###\n",
    "### AUTOGRADER TEST - DO NOT REMOVE\n",
    "###\n"
   ]
  },
  {
   "cell_type": "markdown",
   "metadata": {
    "deletable": false,
    "editable": false,
    "nbgrader": {
     "grade": false,
     "locked": true,
     "solution": false
    }
   },
   "source": [
    "<a id=\"q06\"></a>\n",
    "[Return to top](#questions)"
   ]
  },
  {
   "cell_type": "markdown",
   "metadata": {
    "deletable": false,
    "editable": false,
    "nbgrader": {
     "grade": false,
     "locked": true,
     "solution": false
    }
   },
   "source": [
    "### Question 06: Finding Paths in a Graph\n",
    "\n",
    "Once you have a graph representation of connected airports, you can use built-in algorithms in `networkx` to determine paths from one airport to another.  For example, the airports located in Albany, New York and San Francisco, California are coded as `ALB` and `SFO` respectively. You can determine the shortest paths between the two airports using the `nx.shortest_paths.all_shortest_paths` function.\n",
    "\n",
    "Your task here is to obtain *all* the shortest paths from `ALB` to `SFO` (there are more than one).\n",
    "\n",
    "+ Use `all_shortest_paths` from the submodule `networkx.shortest_paths` to compute all the paths required.\n",
    "+ Assign the result to `ans_6a` after converting it to a list (the result returned by `all_shortest_paths` is a Python generator to permit [lazy evaluation](https://en.wikipedia.org/wiki/Lazy_evaluation)).\n",
    "+ Assign the length of the shortest path to the identifier `ans_6b`. Notice that each path is a list of nodes including the initial and terminal node.\n",
    "+ Assign the number of shortest paths to the identifier `ans_6c`.\n",
    "\n",
    "Notice that this graph model does *not* include *geographical distances between airports*. As such, the use of the adjective \"shortest\" is somewhat counter-intuitive (especially if you have any sense of the relative geographical locations of these airports). In this example, \"the shortest path\" refers to \"the path involving the fewest connecting flights\" (i.e., edges) irrespective of geographical distance. If precise coordinates for each airport had been included with the input data, you could have used the geographical distance as an edge attribute for each edge (in which case, the \"shortest path\" can be computed in the more conventional sense)."
   ]
  },
  {
   "cell_type": "code",
   "execution_count": 51,
   "metadata": {
    "collapsed": true
   },
   "outputs": [],
   "source": [
    "paths = nx.shortest_paths.all_shortest_paths(ans_5,'ALB', 'SFO')"
   ]
  },
  {
   "cell_type": "code",
   "execution_count": 52,
   "metadata": {},
   "outputs": [
    {
     "data": {
      "text/plain": [
       "[['ALB', 'ATL', 'SFO'],\n",
       " ['ALB', 'BOS', 'SFO'],\n",
       " ['ALB', 'BWI', 'SFO'],\n",
       " ['ALB', 'CLE', 'SFO'],\n",
       " ['ALB', 'CLT', 'SFO'],\n",
       " ['ALB', 'DCA', 'SFO'],\n",
       " ['ALB', 'DTW', 'SFO'],\n",
       " ['ALB', 'EWR', 'SFO'],\n",
       " ['ALB', 'FLL', 'SFO'],\n",
       " ['ALB', 'IAD', 'SFO'],\n",
       " ['ALB', 'LAS', 'SFO'],\n",
       " ['ALB', 'MCO', 'SFO'],\n",
       " ['ALB', 'MDW', 'SFO'],\n",
       " ['ALB', 'MSP', 'SFO'],\n",
       " ['ALB', 'ORD', 'SFO'],\n",
       " ['ALB', 'PHL', 'SFO']]"
      ]
     },
     "execution_count": 52,
     "metadata": {},
     "output_type": "execute_result"
    }
   ],
   "source": [
    "hm = list(paths)\n",
    "hm"
   ]
  },
  {
   "cell_type": "code",
   "execution_count": 53,
   "metadata": {},
   "outputs": [
    {
     "data": {
      "text/plain": [
       "16"
      ]
     },
     "execution_count": 53,
     "metadata": {},
     "output_type": "execute_result"
    }
   ],
   "source": [
    "len(hm)"
   ]
  },
  {
   "cell_type": "code",
   "execution_count": 58,
   "metadata": {},
   "outputs": [
    {
     "name": "stdout",
     "output_type": "stream",
     "text": [
      "Length of any shortest path from ALB to SFO: 2\n",
      "Number of shortest paths from ALB to SFO: 16\n",
      "\n",
      "Shortest paths from ALB to SFO:\n",
      "===============================\n",
      "['ALB', 'ATL', 'SFO']\n",
      "['ALB', 'BOS', 'SFO']\n",
      "['ALB', 'BWI', 'SFO']\n",
      "['ALB', 'CLE', 'SFO']\n",
      "['ALB', 'CLT', 'SFO']\n",
      "['ALB', 'DCA', 'SFO']\n",
      "['ALB', 'DTW', 'SFO']\n",
      "['ALB', 'EWR', 'SFO']\n",
      "['ALB', 'FLL', 'SFO']\n",
      "['ALB', 'IAD', 'SFO']\n",
      "['ALB', 'LAS', 'SFO']\n",
      "['ALB', 'MCO', 'SFO']\n",
      "['ALB', 'MDW', 'SFO']\n",
      "['ALB', 'MSP', 'SFO']\n",
      "['ALB', 'ORD', 'SFO']\n",
      "['ALB', 'PHL', 'SFO']\n"
     ]
    }
   ],
   "source": [
    "### GRADED\n",
    "### QUESTION 06\n",
    "### Assign the list of all shortest paths between the airports in\n",
    "###    Albany, NY (ALB) and San Francisco, CA (SFO) to ans_6a.\n",
    "### Assign the length of any of the shortest paths from ALB to SFO to ans_6b.\n",
    "### Assign the number of shortest paths from ALB to SFO to ans_6c.\n",
    "\n",
    "paths = nx.shortest_paths.all_shortest_paths(ans_5,'ALB', 'SFO')\n",
    "this = list(paths)\n",
    "\n",
    "ans_6a = this # Default value is incorrect\n",
    "ans_6b = len(ans_6a[0]) - 1 # Default value is incorrect\n",
    "ans_6c = len(ans_6a) # Default value is incorrect\n",
    "# Verification:\n",
    "print('Length of any shortest path from ALB to SFO: {}'.format(ans_6b))\n",
    "print('Number of shortest paths from ALB to SFO: {}'.format(ans_6c))\n",
    "print('\\nShortest paths from ALB to SFO:\\n' + (31*'='))\n",
    "for path in ans_6a:\n",
    "    print(path)"
   ]
  },
  {
   "cell_type": "code",
   "execution_count": 57,
   "metadata": {
    "collapsed": true,
    "deletable": false,
    "editable": false,
    "nbgrader": {
     "grade": true,
     "grade_id": "Question 06",
     "locked": true,
     "points": "10",
     "solution": false
    }
   },
   "outputs": [],
   "source": [
    "###\n",
    "### AUTOGRADER TEST - DO NOT REMOVE\n",
    "###\n"
   ]
  },
  {
   "cell_type": "markdown",
   "metadata": {
    "deletable": false,
    "editable": false,
    "nbgrader": {
     "grade": false,
     "locked": true,
     "solution": false
    }
   },
   "source": [
    "## Trees\n",
    "\n",
    "A *tree* is a special kind of a graph.  Any *acyclic* graph (i.e., one that does not contain a *cycle*) is a tree.  The diagram below is one such example.\n",
    "\n",
    "![](https://s3.amazonaws.com/hr-assets/0/1527626183-88c8070977-isitBSTSample0.png)"
   ]
  },
  {
   "cell_type": "markdown",
   "metadata": {
    "deletable": false,
    "editable": false,
    "nbgrader": {
     "grade": false,
     "locked": true,
     "solution": false
    }
   },
   "source": [
    "<a id=\"q07\"></a>\n",
    "[Return to top](#questions)"
   ]
  },
  {
   "cell_type": "markdown",
   "metadata": {
    "deletable": false,
    "editable": false,
    "nbgrader": {
     "grade": false,
     "locked": true,
     "solution": false
    }
   },
   "source": [
    "### Question 07: Building a Tree\n",
    "\n",
    "You can represent trees just as you did with more general graphs with `networkx`. Moreover, you can use the `is_tree()` function to check if a graph is in fact a tree.  "
   ]
  },
  {
   "cell_type": "code",
   "execution_count": 25,
   "metadata": {},
   "outputs": [
    {
     "name": "stdout",
     "output_type": "stream",
     "text": [
      "Is ans_7 a tree: True\n"
     ]
    },
    {
     "data": {
      "image/png": "[encoded data removed]",
      "text/plain": [
       "<Figure size 432x288 with 1 Axes>"
      ]
     },
     "metadata": {},
     "output_type": "display_data"
    }
   ],
   "source": [
    "### GRADED\n",
    "## Build a graph with networkx to \n",
    "## represent the tree above.\n",
    "## Save your graph to ans_7 below.\n",
    "\n",
    "tree = {\n",
    "     '4': ['2', '6'],\n",
    "     '2': ['1', '3'],\n",
    "     '6': ['5', '7']\n",
    "}\n",
    "ans_7 = nx.from_dict_of_lists(tree)\n",
    "print('Is ans_7 a tree: {}'.format(nx.is_tree(ans_7)))\n",
    "nx.draw_networkx(ans_7, node_color='magenta')"
   ]
  },
  {
   "cell_type": "code",
   "execution_count": 26,
   "metadata": {
    "collapsed": true,
    "deletable": false,
    "editable": false,
    "nbgrader": {
     "grade": true,
     "grade_id": "Question 07",
     "locked": true,
     "points": "5",
     "solution": false
    }
   },
   "outputs": [],
   "source": [
    "###\n",
    "### AUTOGRADER TEST - DO NOT REMOVE\n",
    "###\n"
   ]
  },
  {
   "cell_type": "markdown",
   "metadata": {
    "deletable": false,
    "editable": false,
    "nbgrader": {
     "grade": false,
     "locked": true,
     "solution": false
    }
   },
   "source": [
    "<a id=\"q08\"></a>\n",
    "[Return to top](#questions)"
   ]
  },
  {
   "cell_type": "markdown",
   "metadata": {
    "deletable": false,
    "editable": false,
    "nbgrader": {
     "grade": false,
     "locked": true,
     "solution": false
    }
   },
   "source": [
    "### Question 08: Using Trees for Mathematical Formulas\n",
    "\n",
    "One application of a simple binary tree is for representing mathematical expressions or formulas. For example, let's consider the arithmetic expression\n",
    "\n",
    "$$9\\times(2+3)+7.$$"
   ]
  },
  {
   "cell_type": "code",
   "execution_count": 27,
   "metadata": {},
   "outputs": [
    {
     "name": "stdout",
     "output_type": "stream",
     "text": [
      "The numerical value of the expression \"9*(2+3)+7\" is 52.\n"
     ]
    }
   ],
   "source": [
    "### GRADED\n",
    "### QUESTION 08\n",
    "### What is the numerical value of the expression above when evaluated?\n",
    "###   Save your answer as ans_8 below.\n",
    "ans_8 = 52\n",
    "# Verification:\n",
    "print('The numerical value of the expression \"9*(2+3)+7\" is {}.'.format(ans_8))"
   ]
  },
  {
   "cell_type": "code",
   "execution_count": 28,
   "metadata": {
    "collapsed": true,
    "deletable": false,
    "editable": false,
    "nbgrader": {
     "grade": true,
     "grade_id": "Question 08",
     "locked": true,
     "points": "5",
     "solution": false
    }
   },
   "outputs": [],
   "source": [
    "###\n",
    "### AUTOGRADER TEST - DO NOT REMOVE\n",
    "###\n"
   ]
  },
  {
   "cell_type": "markdown",
   "metadata": {
    "deletable": false,
    "editable": false,
    "nbgrader": {
     "grade": false,
     "locked": true,
     "solution": false
    }
   },
   "source": [
    "The formula $9\\times(2+3)+7$ is associated with a particular *expression tree* with nodes labelled with the arithmetic operators and operands (numbers or algebraic variables):\n",
    "\n",
    "![](./resource/asnlib/publicdata/expr_tree_1.png)\n",
    "\n",
    "When calculators or computer programs parse formulas like this, an expression tree is built up to carry out the computation. Notice this expression tree is in fact a *binary* tree (i.e., one with at most two outgoing edges from each node) and it is a *directed acyclic graph (DAG)*: it is not only a tree (an acyclic graph) but also the edges are directional. Notice also that the leaves of the tree (the nodes without any outgoing edges) have numerical values as labels; the internal nodes labeled with operators have a left child and a right child corresponding to the operands of the binary operators (which may be another subtree or a leaf)."
   ]
  },
  {
   "cell_type": "markdown",
   "metadata": {
    "deletable": false,
    "editable": false,
    "nbgrader": {
     "grade": false,
     "locked": true,
     "solution": false
    }
   },
   "source": [
    "Here is a standard implementation of a binary tree as a class `Tree`. This example makes use of standard Python object-oriented program idioms to define functions for the standard *magic methods* `__init__`, `__str__`, & `__repr__` (see the [Python tutorial](https://docs.python.org/3.7/tutorial/classes.html) for further explanation)."
   ]
  },
  {
   "cell_type": "code",
   "execution_count": 29,
   "metadata": {
    "collapsed": true,
    "deletable": false,
    "editable": false,
    "nbgrader": {
     "grade": false,
     "locked": true,
     "solution": false
    }
   },
   "outputs": [],
   "source": [
    "class Tree:\n",
    "    'A simple implementation of a binary tree'\n",
    "    def __init__(self, val, left_child = None, right_child = None):\n",
    "        self.val = val\n",
    "        self.left = left_child\n",
    "        self.right = right_child\n",
    "    def __str__(self):\n",
    "        if self.left is None and self.right is None:\n",
    "            return '%s(%s)' % (self.__class__.__name__, str(self.val))\n",
    "        else:\n",
    "            return '%s(%s, %s, %s)' % (self.__class__.__name__, self.val, self.left, self.right)\n",
    "    def __repr__(self):\n",
    "        if self.left is None and self.right is None:\n",
    "            return '%s(%s)' % (self.__class__.__name__, repr(self.val))\n",
    "        else:\n",
    "            return '%s(%r, %r, %r)' % (self.__class__.__name__, self.val, self.left, self.right)"
   ]
  },
  {
   "cell_type": "markdown",
   "metadata": {
    "deletable": false,
    "editable": false,
    "nbgrader": {
     "grade": false,
     "locked": true,
     "solution": false
    }
   },
   "source": [
    "Notice:\n",
    "\n",
    "+ We essentially are defining a node and its children which themselves can be trees.\n",
    "+ The edges are in principle *directed* in this definition of a `Tree` class because edges connect *parent* nodes to their *left* and *right* *children*.\n",
    "+ The `val` attribute is some kind of data or object associated with each node. It does not need to be unique, i.e., numerous nodes can have the same `val` attribute.\n",
    "\n",
    "With the preceding class definition, the expression tree for the formula $9\\times(2+3)+7$ is encoded as an object as follows:"
   ]
  },
  {
   "cell_type": "code",
   "execution_count": 30,
   "metadata": {},
   "outputs": [
    {
     "data": {
      "text/plain": [
       "Tree('+', Tree('*', Tree(9), Tree('+', Tree(2), Tree(3))), Tree(7))"
      ]
     },
     "execution_count": 30,
     "metadata": {},
     "output_type": "execute_result"
    }
   ],
   "source": [
    "# Encoding 9*(2+3)+7 with the Tree class\n",
    "expr_tree = Tree('+', Tree('*', Tree(9), Tree('+', Tree(2), Tree(3))), Tree(7))\n",
    "expr_tree"
   ]
  },
  {
   "cell_type": "markdown",
   "metadata": {
    "deletable": false,
    "editable": false,
    "nbgrader": {
     "grade": false,
     "locked": true,
     "solution": false
    }
   },
   "source": [
    "<a id=\"q09\"></a>\n",
    "[Return to top](#questions)"
   ]
  },
  {
   "cell_type": "markdown",
   "metadata": {
    "deletable": false,
    "editable": false,
    "nbgrader": {
     "grade": false,
     "locked": true,
     "solution": false
    }
   },
   "source": [
    "### Question 09: Using a `Tree` class\n",
    "\n",
    "Your task is to express a different arithmetic formula, namely $$3+((4\\times5)-(9+6)),$$ as an expression tree using the `Tree` class. The resulting tree, when visualized, looks like this:\n",
    "\n",
    "![](./resource/asnlib/publicdata/expr_tree_2.png)\n",
    "\n",
    "+ Use the `Tree` class to express the formula $3+((4\\times5)-(9+6))$ as a (nested) `Tree` object.\n",
    "+ Use Python strings for the arithmetic operators (with `'*'` for multiplication and `'/'` for division) and integers for the operands.\n",
    "+ You can ignore the parentheses (other than to help determine the order of operations for binding operands to operators).\n",
    "+ Assign the result to `ans_9`."
   ]
  },
  {
   "cell_type": "code",
   "execution_count": 31,
   "metadata": {
    "collapsed": true
   },
   "outputs": [],
   "source": [
    "### GRADED\n",
    "### QUESTION 09\n",
    "### Use the Tree class above to build the given expression tree for the formula\n",
    "###    3 + ((4*5)-(9+6))\n",
    "### with Python strings for the operators & integers for the operands.\n",
    "### Save your tree to ans_9 below.\n",
    "\n",
    "new_tree = Tree('+', Tree(3), Tree('-', Tree('*', Tree(4), Tree(5)), Tree('+', Tree(9), Tree(6))))\n",
    "ans_9 = new_tree\n"
   ]
  },
  {
   "cell_type": "code",
   "execution_count": 32,
   "metadata": {
    "collapsed": true,
    "deletable": false,
    "editable": false,
    "nbgrader": {
     "grade": true,
     "grade_id": "Question 09",
     "locked": true,
     "points": "10",
     "solution": false
    }
   },
   "outputs": [],
   "source": [
    "###\n",
    "### AUTOGRADER TEST - DO NOT REMOVE\n",
    "###\n"
   ]
  },
  {
   "cell_type": "markdown",
   "metadata": {
    "deletable": false,
    "editable": false,
    "nbgrader": {
     "grade": false,
     "locked": true,
     "solution": false
    }
   },
   "source": [
    "# Tree Traversals\n",
    "\n",
    "In this next questions, you'll explore [tree traversal](https://en.wikipedia.org/wiki/Tree_traversal), the problem of visiting each & every node in a tree (usually to operate on some data associated with the nodes) exactly once under constraints imposed by the edges (i.e., that you must traverse from one node to one of its neighbors).\n",
    "\n",
    "You can try this out with the `Tree` class representations of expression trees from the preceding question (which is what is involved in numerically evaluating the expression).  As an example, the function `print_tree` below prints the nodes of an expression tree by first printing its `val` attribute, then recursively traversing its *left* branch, and then recursively traversing its *right* branch."
   ]
  },
  {
   "cell_type": "code",
   "execution_count": 33,
   "metadata": {
    "collapsed": true,
    "deletable": false,
    "editable": false,
    "nbgrader": {
     "grade": false,
     "locked": true,
     "solution": false
    }
   },
   "outputs": [],
   "source": [
    "def print_tree(tree):\n",
    "    \"Process Tree to print node values\"\n",
    "    if tree is None: return\n",
    "    print(tree.val)\n",
    "    print_tree(tree.left)\n",
    "    print_tree(tree.right)"
   ]
  },
  {
   "cell_type": "code",
   "execution_count": 34,
   "metadata": {
    "scrolled": true
   },
   "outputs": [
    {
     "name": "stdout",
     "output_type": "stream",
     "text": [
      "The original representation: Tree(+, Tree(1), Tree(*, Tree(2), Tree(3)))\n",
      "\n",
      "The \"pre-order\" traversal:\n",
      "+\n",
      "1\n",
      "*\n",
      "2\n",
      "3\n"
     ]
    }
   ],
   "source": [
    "tree = Tree('+', Tree(1), Tree('*', Tree(2), Tree(3)))\n",
    "print('The original representation: {}\\n\\nThe \"pre-order\" traversal:'.format(tree))\n",
    "print_tree(tree)"
   ]
  },
  {
   "cell_type": "code",
   "execution_count": 35,
   "metadata": {
    "scrolled": true
   },
   "outputs": [
    {
     "name": "stdout",
     "output_type": "stream",
     "text": [
      "The original representation: Tree(+, Tree(*, Tree(9), Tree(+, Tree(2), Tree(3))), Tree(7))\n",
      "\n",
      "The \"pre-order\" traversal:\n",
      "+\n",
      "*\n",
      "9\n",
      "+\n",
      "2\n",
      "3\n",
      "7\n"
     ]
    }
   ],
   "source": [
    "# Try again using the expression tree for 9*(2+3)+7\n",
    "print('The original representation: {}\\n\\nThe \"pre-order\" traversal:'.format(expr_tree))\n",
    "print_tree(expr_tree)"
   ]
  },
  {
   "cell_type": "markdown",
   "metadata": {
    "deletable": false,
    "editable": false,
    "nbgrader": {
     "grade": false,
     "locked": true,
     "solution": false
    }
   },
   "source": [
    "<a id=\"q10\"></a>\n",
    "[Return to top](#questions)"
   ]
  },
  {
   "cell_type": "markdown",
   "metadata": {
    "deletable": false,
    "editable": false,
    "nbgrader": {
     "grade": false,
     "locked": true,
     "solution": false
    }
   },
   "source": [
    "### Question 10: Traversing a Tree using In-order Traversal\n",
    "\n",
    "The preceding function `print_tree` first prints the `val` attribute of a node, then visits the left child and the right child, printing their corresponding branches (sometimes called the [pre-order traversal](https://en.wikipedia.org/wiki/Tree_traversal#Pre-order_(NLR))). You can adjust this [tree traversal](https://en.wikipedia.org/wiki/Tree_traversal) to display the tree node labels in a different sequence. For example, an [*in-order traversal*](https://en.wikipedia.org/wiki/Tree_traversal#In-order_(LNR)) would process the left branch first, the node itself, and then the right branch of the tree (in this case, just processing a node means printing its `val` attribute or doing nothing if the node is `None`). So, for the expression tree `tree = Tree('+', Tree(1), Tree('*', Tree(2), Tree(3)))` representing the formula $1+(2\\times3)$, printing the node labels using an *in-order traversal* would yield\n",
    "\n",
    "```\n",
    "1\n",
    "+\n",
    "2\n",
    "*\n",
    "3\n",
    "```\n",
    "\n",
    "Your task, then, is to complete a function `print_tree_inorder` that displays the node labels for a binary expression tree using an in-order traversal.\n",
    "\n",
    "+ Complete the function `print_tree_inorder` as required.\n",
    "+ You can use the preceding function `print_tree` as a template.\n",
    "\n",
    "Notice the function `print_tree` does not have a return value; it simply prints the node labels to standard output as a side effect."
   ]
  },
  {
   "cell_type": "code",
   "execution_count": 36,
   "metadata": {
    "collapsed": true,
    "nbgrader": {
     "grade": false,
     "grade_id": "Question 10",
     "locked": false,
     "points": "10",
     "solution": false
    }
   },
   "outputs": [],
   "source": [
    "### GRADED\n",
    "### QUESTION 10\n",
    "###  Complete the function below to produce an in-order traversal of a tree.\n",
    "def print_tree_inorder(tree):\n",
    "    \"Process Tree to print node values using in-order traversal\"\n",
    "    if tree is None: return\n",
    "    print_tree_inorder(tree.left)\n",
    "    print(tree.val)\n",
    "    print_tree_inorder(tree.right)"
   ]
  },
  {
   "cell_type": "code",
   "execution_count": 37,
   "metadata": {
    "collapsed": true,
    "deletable": false,
    "editable": false,
    "nbgrader": {
     "grade": true,
     "grade_id": "Question 10",
     "locked": true,
     "points": "10",
     "solution": false
    }
   },
   "outputs": [],
   "source": [
    "###\n",
    "### AUTOGRADER TEST - DO NOT REMOVE\n",
    "###\n"
   ]
  },
  {
   "cell_type": "markdown",
   "metadata": {
    "deletable": false,
    "editable": false,
    "nbgrader": {
     "grade": false,
     "locked": true,
     "solution": false
    }
   },
   "source": [
    "For the next explorations, you will start with a representation of a graph as a dictionary containing adjacency lists. As a reminder, you can construct and visualize a simple graph, and then use `networkx` to find paths in the graph."
   ]
  },
  {
   "cell_type": "code",
   "execution_count": 38,
   "metadata": {
    "deletable": false,
    "editable": false,
    "nbgrader": {
     "grade": false,
     "locked": true,
     "solution": false
    }
   },
   "outputs": [
    {
     "data": {
      "image/png": "[encoded data removed]",
      "text/plain": [
       "<Figure size 432x288 with 1 Axes>"
      ]
     },
     "metadata": {},
     "output_type": "display_data"
    }
   ],
   "source": [
    "graph = {'A': ['B', 'C'],\n",
    "             'B': ['C', 'D'],\n",
    "             'C': ['D'],\n",
    "             'D': ['C'],\n",
    "             'E': ['F'],\n",
    "             'F': ['C']}\n",
    "graph_nx = nx.from_dict_of_lists(graph)\n",
    "nx.draw_networkx(graph_nx, with_labels=True, node_color='violet', node_size=500, alpha=0.75)"
   ]
  },
  {
   "cell_type": "markdown",
   "metadata": {
    "deletable": false,
    "editable": false,
    "nbgrader": {
     "grade": false,
     "locked": true,
     "solution": false
    }
   },
   "source": [
    "### Finding paths\n",
    "\n",
    "The `networkx` function `shortest_path` has the following signature (from the documentation):\n",
    "\n",
    "```\n",
    "nx.shortest_path(G, source=None, target=None, weight=None, method='dijkstra')\n",
    "\n",
    "Parameters\n",
    "----------\n",
    "G : NetworkX graph\n",
    "\n",
    "source : node, optional\n",
    "    Starting node for path. If not specified, compute shortest\n",
    "    paths for each possible starting node.\n",
    "\n",
    "target : node, optional\n",
    "    Ending node for path. If not specified, compute shortest\n",
    "    paths to all possible nodes.\n",
    "\n",
    "weight : None or string, optional (default = None)\n",
    "    If None, every edge has weight/distance/cost 1.\n",
    "    If a string, use this edge attribute as the edge weight.\n",
    "    Any edge attribute not present defaults to 1.\n",
    "```\n",
    "\n",
    "In particular, calling `nx.shortest_path(graph_nx)` yields the following output:"
   ]
  },
  {
   "cell_type": "code",
   "execution_count": 39,
   "metadata": {
    "scrolled": true
   },
   "outputs": [
    {
     "data": {
      "text/plain": [
       "{'A': {'A': ['A'],\n",
       "  'B': ['A', 'B'],\n",
       "  'C': ['A', 'C'],\n",
       "  'D': ['A', 'B', 'D'],\n",
       "  'F': ['A', 'C', 'F'],\n",
       "  'E': ['A', 'C', 'F', 'E']},\n",
       " 'B': {'B': ['B'],\n",
       "  'A': ['B', 'A'],\n",
       "  'C': ['B', 'C'],\n",
       "  'D': ['B', 'D'],\n",
       "  'F': ['B', 'C', 'F'],\n",
       "  'E': ['B', 'C', 'F', 'E']},\n",
       " 'C': {'C': ['C'],\n",
       "  'A': ['C', 'A'],\n",
       "  'B': ['C', 'B'],\n",
       "  'D': ['C', 'D'],\n",
       "  'F': ['C', 'F'],\n",
       "  'E': ['C', 'F', 'E']},\n",
       " 'D': {'D': ['D'],\n",
       "  'B': ['D', 'B'],\n",
       "  'C': ['D', 'C'],\n",
       "  'A': ['D', 'B', 'A'],\n",
       "  'F': ['D', 'C', 'F'],\n",
       "  'E': ['D', 'C', 'F', 'E']},\n",
       " 'E': {'E': ['E'],\n",
       "  'F': ['E', 'F'],\n",
       "  'C': ['E', 'F', 'C'],\n",
       "  'A': ['E', 'F', 'C', 'A'],\n",
       "  'B': ['E', 'F', 'C', 'B'],\n",
       "  'D': ['E', 'F', 'C', 'D']},\n",
       " 'F': {'F': ['F'],\n",
       "  'E': ['F', 'E'],\n",
       "  'C': ['F', 'C'],\n",
       "  'A': ['F', 'C', 'A'],\n",
       "  'B': ['F', 'C', 'B'],\n",
       "  'D': ['F', 'C', 'D']}}"
      ]
     },
     "execution_count": 39,
     "metadata": {},
     "output_type": "execute_result"
    }
   ],
   "source": [
    "nx.shortest_path(graph_nx)"
   ]
  },
  {
   "cell_type": "markdown",
   "metadata": {
    "deletable": false,
    "editable": false,
    "nbgrader": {
     "grade": false,
     "locked": true,
     "solution": false
    }
   },
   "source": [
    "<a id=\"q11\"></a>\n",
    "[Return to top](#questions)"
   ]
  },
  {
   "cell_type": "markdown",
   "metadata": {
    "deletable": false,
    "editable": false,
    "nbgrader": {
     "grade": false,
     "locked": true,
     "solution": false
    }
   },
   "source": [
    "### Question 11: Finding paths between all vertices with `shortest_path`\n",
    "\n",
    "Use the preceding output from `nx.shortest_path(graph_nx)` to identify two particular shortest paths:\n",
    "one from node `D` to node `A` & one from node `B` to node `E`.\n",
    "* Assign the results to `ans_11a` and `ans_11b` respectively.\n",
    "* Represent both paths as lists of strings (i.e., the vertex labels).\n",
    "* Include the initial and terminal vertices in the lists representing paths (so, e.g., a path specified by 4 vertex labels comprises 3 edges)."
   ]
  },
  {
   "cell_type": "code",
   "execution_count": 40,
   "metadata": {},
   "outputs": [
    {
     "name": "stdout",
     "output_type": "stream",
     "text": [
      "A shortest path from node D to node A: ['D', 'B', 'A']\n",
      "A shortest path from node B to node E: ['B', 'C', 'F', 'E']\n"
     ]
    }
   ],
   "source": [
    "### GRADED\n",
    "### QUESTION 11\n",
    "### For the graph graph_nx from above, identify:\n",
    "###    a shortest path from node D to node A (as ans_11a)\n",
    "###    a shortest path from node B to node E (as ans_11b)\n",
    "### Use lists of strings to represent both paths.\n",
    "### Include starting & ending vertices in the lists.\n",
    "### YOUR SOLUTION HERE:\n",
    "first = nx.shortest_path(graph_nx, 'D', 'A')\n",
    "second = nx.shortest_path(graph_nx, 'B', 'E')\n",
    "ans_11a = first\n",
    "ans_11b = second\n",
    "# To verify solutions:\n",
    "print('A shortest path from node D to node A: {}'.format(ans_11a))\n",
    "print('A shortest path from node B to node E: {}'.format(ans_11b))"
   ]
  },
  {
   "cell_type": "code",
   "execution_count": 41,
   "metadata": {
    "collapsed": true,
    "deletable": false,
    "editable": false,
    "nbgrader": {
     "grade": true,
     "grade_id": "Question 11",
     "locked": true,
     "points": "10",
     "solution": false
    }
   },
   "outputs": [],
   "source": [
    "###\n",
    "### AUTOGRADER TEST - DO NOT REMOVE\n",
    "###\n"
   ]
  },
  {
   "cell_type": "markdown",
   "metadata": {
    "deletable": false,
    "editable": false,
    "nbgrader": {
     "grade": false,
     "locked": true,
     "solution": false
    }
   },
   "source": [
    "## Uninformed Search Algorithms\n",
    "\n",
    "Now that you have some vocabulary and tools for working with graphs and trees, you can examine some basic approaches to **uninformed search** algorithms.  The main problem involves finding a path&mdash;a sequence of vertices connected by edges&mdash;from one vertex in a graph to another. In some circumstances, a shortest path may be desirable, but for the moment consider the problem of simply determining whether a connecting path between two distinct vertices exists at all.\n",
    "\n",
    "The qualifier \"uninformed\" refers to the fact that, while looking through the graph for a path, the only information available is the adjacency lists of nodes explored so far. Later, you will work with *informed* search in which other information (e.g., geographic distance between cities in a geographical path-finding application) is available beyond adjacency. With informed search, the sequence in which adjacent nodes are chosen differs due to the additional information which can improve search performance."
   ]
  },
  {
   "cell_type": "markdown",
   "metadata": {
    "deletable": false,
    "editable": false,
    "nbgrader": {
     "grade": false,
     "locked": true,
     "solution": false
    }
   },
   "source": [
    "### Depth-First Search (DFS)\n",
    "\n",
    "[Depth-First Search (DFS)](https://en.wikipedia.org/wiki/Depth-first_search) is a strategy for traversing or searching through a graph or a tree. The traversal/search begins at a prescribed vertex (called the *root*) and, \n",
    "after choosing a vertex adjacent to the root, exploration proceeds down each branch before backtracking. That is, DFS favors visiting undiscovered vertices sooner so the resulting search trees tend to be deep.\n",
    "\n",
    "It's likely easier to picture this using, for example, the animated GIF below (by [Steven Skeina](https://www3.cs.stonybrook.edu/~skiena/combinatorica/animations/search.html) using [Combinatorica](http://www.combinatorica.com/):\n",
    "\n",
    "![](./resource/asnlib/publicdata/dfs_combinatorica.gif)"
   ]
  },
  {
   "cell_type": "markdown",
   "metadata": {
    "deletable": false,
    "editable": false,
    "nbgrader": {
     "grade": false,
     "locked": true,
     "solution": false
    }
   },
   "source": [
    "DFS produces a sequence of vertices (starting at the root) by which the graph can be traversed (i.e., each node visited, assuming that the graph is connected). If specified with an initial root node as well as a terminal node, DFS can then yield a *path* between any two vertices in a connected graph.\n",
    "\n",
    "In the lectures, you were shown a pseudocode for DFS as below. The *goalTest* in practice, is often a terminal node or empty. In the former case, DFS can provide a path from the root to the terminal node (if possible); in the latter case, DFS provides a node sequence for traversing the entire graph (or at least the connected component containing the root).\n",
    "\n",
    "---\n",
    "\n",
    "__function__ DEPTH-FIRST-SEARCH(initialState, goalTest)<br>\n",
    "&emsp;_returns_ __SUCCESS__ or __FAILURE__<br>\n",
    "<br>\n",
    "&emsp;frontier = Stack.new()<br>\n",
    "&emsp;explored = Set.new()<br>\n",
    "<br>\n",
    "&emsp;__while__  __not__ frontier.isEmpty():<br>\n",
    "&emsp;&emsp;state = frontier.pop()<br>\n",
    "&emsp;&emsp;explored.add(state)<br>\n",
    "<br>\n",
    "&emsp;&emsp;__if__ goalTest(state):<br>\n",
    "&emsp;&emsp;&emsp;__return__ __SUCCESS__(state)<br>\n",
    "<br>\n",
    "&emsp;&emsp;__for__ neighbor __in__ state.neighbors():<br>\n",
    "&emsp;&emsp;&emsp;__if__ neighbor __not__ __in__ frontier $\\cup$ explored:<br>\n",
    "&emsp;&emsp;&emsp;&emsp;frontier.push(state)<br>\n",
    "<br>\n",
    "&emsp;__return__  __FAILURE__"
   ]
  },
  {
   "cell_type": "markdown",
   "metadata": {
    "deletable": false,
    "editable": false,
    "nbgrader": {
     "grade": false,
     "locked": true,
     "solution": false
    }
   },
   "source": [
    "DFS relies on a *stack* (sometimes called a *LIFO* for *Last-In-First-Out*) for maintaining the frontier. In Python, this is also easy to do with a list. To remove an item from the top of the stack `frontier`, simply use invoke the method `frontier.pop()`.\n",
    "\n",
    "The Python function `dfs` as implemented here (adapted from a post by [Edd Mann](https://eddmann.com/posts/depth-first-search-and-breadth-first-search-in-python/)) captures the essence of the preceding pseudocode with some differences:\n",
    "\n",
    "+ `explored` is implemented using a Python `list` rather than a `set` (so we can preserve the order in which nodes are visited).\n",
    "+ the value returned is the `list` `explored` (rather than **SUCCESS** or **FAILURE**)."
   ]
  },
  {
   "cell_type": "code",
   "execution_count": 42,
   "metadata": {
    "collapsed": true,
    "deletable": false,
    "editable": false,
    "nbgrader": {
     "grade": false,
     "locked": true,
     "solution": false
    }
   },
   "outputs": [],
   "source": [
    "def dfs(graph, initial):\n",
    "    explored, stack = list(), [initial]  # stack == frontier\n",
    "    while stack:\n",
    "        state = stack.pop()\n",
    "        if state not in explored:\n",
    "            explored.append(state)\n",
    "            stack.extend([neighbor for neighbor in graph[state]\n",
    "                          if not ((neighbor in stack) or (neighbor in explored))])\n",
    "    return explored"
   ]
  },
  {
   "cell_type": "markdown",
   "metadata": {
    "deletable": false,
    "editable": false,
    "nbgrader": {
     "grade": false,
     "locked": true,
     "solution": false
    }
   },
   "source": [
    "You can see how the function `dfs` works on this example graph (represented as a `dict` of `list`s)."
   ]
  },
  {
   "cell_type": "code",
   "execution_count": 43,
   "metadata": {
    "deletable": false,
    "editable": false,
    "nbgrader": {
     "grade": false,
     "locked": true,
     "solution": false
    }
   },
   "outputs": [
    {
     "name": "stdout",
     "output_type": "stream",
     "text": [
      "A DFS traversal starting from 'A': ['A', 'C', 'F', 'E', 'B', 'D']\n",
      "A DFS traversal starting from 'E': ['E', 'F', 'C', 'A', 'B', 'D']\n"
     ]
    }
   ],
   "source": [
    "graph_dict = {'A': (['B', 'C']),\n",
    "         'B': (['A', 'D', 'E']),\n",
    "         'C': (['A', 'F']),\n",
    "         'D': (['B']),\n",
    "         'E': (['B', 'F']),\n",
    "         'F': (['C', 'E'])}\n",
    "print(\"A DFS traversal starting from 'A': {}\".format(dfs(graph_dict, 'A')))\n",
    "print(\"A DFS traversal starting from 'E': {}\".format(dfs(graph_dict, 'E')))"
   ]
  },
  {
   "cell_type": "markdown",
   "metadata": {
    "deletable": false,
    "editable": false,
    "nbgrader": {
     "grade": false,
     "locked": true,
     "solution": false
    }
   },
   "source": [
    "The preceding function `dfs` can be tweaked to yield a recursive implementation to generate all possible paths between the initial and terminal vertex. A Python generator function (i.e., that uses `yield` instead of `return`) can construct all the paths."
   ]
  },
  {
   "cell_type": "code",
   "execution_count": 44,
   "metadata": {
    "collapsed": true,
    "deletable": false,
    "editable": false,
    "nbgrader": {
     "grade": false,
     "locked": true,
     "solution": false
    }
   },
   "outputs": [],
   "source": [
    "def dfs_paths(graph, initial, goal):\n",
    "    stack = [(initial, [initial])]\n",
    "    while stack:\n",
    "        (state, path) = stack.pop()\n",
    "        for neighbor in [v for v in graph[state] if not (v in path)]:\n",
    "            if neighbor == goal:\n",
    "                yield path + [neighbor]\n",
    "            else:\n",
    "                stack.append((neighbor, path + [neighbor]))"
   ]
  },
  {
   "cell_type": "markdown",
   "metadata": {
    "deletable": false,
    "editable": false,
    "nbgrader": {
     "grade": false,
     "locked": true,
     "solution": false
    }
   },
   "source": [
    "The default output of this implementation is a *generator* object. This has the advantage of using lazy evaluation (so as not to consume memory until required) but makes it difficult to examine. For small examples like this, it is okay to convert the generator to a list so you can examine it."
   ]
  },
  {
   "cell_type": "code",
   "execution_count": 45,
   "metadata": {},
   "outputs": [
    {
     "name": "stdout",
     "output_type": "stream",
     "text": [
      "type(paths): <class 'generator'>\n",
      "Paths from 'A' to 'D': [['A', 'C', 'F', 'E', 'B', 'D'], ['A', 'B', 'D']]\n"
     ]
    }
   ],
   "source": [
    "paths = dfs_paths(graph_dict,'A', 'D')\n",
    "print('type(paths): {}'.format(type(paths)))\n",
    "paths = list(paths) # Explicitly transform generator to a list\n",
    "print(\"Paths from 'A' to 'D': {}\".format(paths))"
   ]
  },
  {
   "cell_type": "markdown",
   "metadata": {
    "deletable": false,
    "editable": false,
    "nbgrader": {
     "grade": false,
     "locked": true,
     "solution": false
    }
   },
   "source": [
    "As a slightly larger and more compelling example, you can consider this Python `dict` describing cities of Romania connected by roads (as used extensively in Russell & Norvig's [*Artificial Intelligence: a Modern Approach*](http://aima.cs.berkeley.edu/):"
   ]
  },
  {
   "cell_type": "code",
   "execution_count": 46,
   "metadata": {
    "collapsed": true,
    "deletable": false,
    "editable": false,
    "nbgrader": {
     "grade": false,
     "locked": true,
     "solution": false
    }
   },
   "outputs": [],
   "source": [
    "romania_graph = {'Arad': ['Zerind', 'Sibiu', 'Timisoara'],\n",
    "               'Bucharest': ['Urziceni', 'Pitesti', 'Giurgiu', 'Fagaras'],\n",
    "               'Craiova': ['Drobeta', 'Rimnicu', 'Pitesti'],\n",
    "               'Drobeta': ['Craiova', 'Mehadia'],\n",
    "               'Eforie': ['Hirsova'],\n",
    "               'Fagaras': ['Bucharest', 'Sibiu'],\n",
    "               'Giurgiu': ['Bucharest'],\n",
    "               'Hirsova': ['Eforie', 'Urziceni'],\n",
    "               'Iasi': ['Vaslui', 'Neamt'],\n",
    "               'Lugoj': ['Timisoara', 'Mehadia'],\n",
    "               'Mehadia': ['Drobeta', 'Lugoj'],\n",
    "               'Neamt': ['Iasi'],\n",
    "               'Oradea': ['Zerind', 'Sibiu'],\n",
    "               'Pitesti': ['Bucharest', 'Craiova', 'Rimnicu'],\n",
    "               'Rimnicu': ['Craiova', 'Pitesti', 'Sibiu'],\n",
    "               'Sibiu': ['Arad', 'Fagaras', 'Oradea', 'Rimnicu'],\n",
    "               'Timisoara': ['Arad', 'Lugoj'],\n",
    "               'Urziceni': ['Bucharest', 'Hirsova', 'Vaslui'],\n",
    "               'Vaslui': ['Iasi', 'Urziceni'],\n",
    "               'Zerind': ['Arad', 'Oradea']}"
   ]
  },
  {
   "cell_type": "markdown",
   "metadata": {
    "deletable": false,
    "editable": false,
    "nbgrader": {
     "grade": false,
     "locked": true,
     "solution": false
    }
   },
   "source": [
    "The above `dict` describes roads between Romanian cites as in the image below (without distances; later, you'll use the distances as well with *informed* search algorithms in the next assignment).\n",
    "![](./resource/asnlib/publicdata/romania_map.png)"
   ]
  },
  {
   "cell_type": "markdown",
   "metadata": {
    "deletable": false,
    "editable": false,
    "nbgrader": {
     "grade": false,
     "locked": true,
     "solution": false
    }
   },
   "source": [
    "<a id=\"q12\"></a>\n",
    "[Return to top](#questions)"
   ]
  },
  {
   "cell_type": "code",
   "execution_count": 47,
   "metadata": {
    "collapsed": true
   },
   "outputs": [],
   "source": [
    "\n",
    "test = dfs(romania_graph, 'Giurgiu')"
   ]
  },
  {
   "cell_type": "code",
   "execution_count": 48,
   "metadata": {},
   "outputs": [
    {
     "data": {
      "text/plain": [
       "['Giurgiu',\n",
       " 'Bucharest',\n",
       " 'Fagaras',\n",
       " 'Sibiu',\n",
       " 'Rimnicu',\n",
       " 'Craiova',\n",
       " 'Drobeta',\n",
       " 'Mehadia',\n",
       " 'Lugoj',\n",
       " 'Timisoara',\n",
       " 'Oradea',\n",
       " 'Zerind',\n",
       " 'Arad',\n",
       " 'Pitesti',\n",
       " 'Urziceni',\n",
       " 'Vaslui',\n",
       " 'Iasi',\n",
       " 'Neamt',\n",
       " 'Hirsova',\n",
       " 'Eforie']"
      ]
     },
     "execution_count": 48,
     "metadata": {},
     "output_type": "execute_result"
    }
   ],
   "source": [
    "test"
   ]
  },
  {
   "cell_type": "markdown",
   "metadata": {
    "deletable": false,
    "editable": false,
    "nbgrader": {
     "grade": false,
     "locked": true,
     "solution": false
    }
   },
   "source": [
    "### Question 12: Determining a Traversal using DFS\n",
    "\n",
    "Use the Python implementation of Depth-First-Search `dfs` to determine the traversal order for the Romanian cities in `romania_graph` starting from `Giurgiu`.\n",
    "\n",
    "+ Assign your answer (a Python list of strings) to `ans_12`."
   ]
  },
  {
   "cell_type": "code",
   "execution_count": 49,
   "metadata": {},
   "outputs": [
    {
     "name": "stdout",
     "output_type": "stream",
     "text": [
      "A DFS traversal starting from 'Giurgiu':\n",
      "['Giurgiu', 'Bucharest', 'Fagaras', 'Sibiu', 'Rimnicu', 'Craiova', 'Drobeta', 'Mehadia', 'Lugoj', 'Timisoara', 'Oradea', 'Zerind', 'Arad', 'Pitesti', 'Urziceni', 'Vaslui', 'Iasi', 'Neamt', 'Hirsova', 'Eforie']\n"
     ]
    }
   ],
   "source": [
    "### GRADED\n",
    "### QUESTION 12\n",
    "### What traversal order does DFS yield for romania_graph starting at 'Giurgiu'?\n",
    "### Save your answer as ans_12\n",
    "ans_12 = dfs(romania_graph, 'Giurgiu')\n",
    "# Verifying solution\n",
    "print(\"A DFS traversal starting from 'Giurgiu':\\n{}\".format(ans_12))"
   ]
  },
  {
   "cell_type": "code",
   "execution_count": 50,
   "metadata": {
    "collapsed": true,
    "deletable": false,
    "editable": false,
    "nbgrader": {
     "grade": true,
     "grade_id": "Question 12",
     "locked": true,
     "points": "10",
     "solution": false
    }
   },
   "outputs": [],
   "source": [
    "### BEGIN HIDDEN TEST\n",
    "sol_12_ = dfs(romania_graph, 'Giurgiu')\n",
    "#\n",
    "#\n",
    "assert ans_12 == sol_12_\n",
    "### END HIDDEN TEST"
   ]
  },
  {
   "cell_type": "markdown",
   "metadata": {
    "deletable": false,
    "editable": false,
    "nbgrader": {
     "grade": false,
     "locked": true,
     "solution": false
    }
   },
   "source": [
    "<a id=\"q13\"></a>\n",
    "[Return to top](#questions)"
   ]
  },
  {
   "cell_type": "markdown",
   "metadata": {
    "deletable": false,
    "editable": false,
    "nbgrader": {
     "grade": false,
     "locked": true,
     "solution": false
    }
   },
   "source": [
    "### Question 13: Determining Paths using DFS\n",
    "\n",
    "Use the Python function `dfs_paths` to determine all paths in the Romanian cities in `romania_graph` ending at `Sibiu` & starting from `Giurgiu`.\n",
    "\n",
    "+ Provide your answer as a *list* (the default output of `dfs_paths` is a generator object, so you will have to explicitly convert it to a `list`).\n",
    "+ Assign the resulting `list` to `ans_13`."
   ]
  },
  {
   "cell_type": "code",
   "execution_count": 52,
   "metadata": {
    "scrolled": true
   },
   "outputs": [
    {
     "name": "stdout",
     "output_type": "stream",
     "text": [
      "['Giurgiu', 'Bucharest', 'Fagaras', 'Sibiu']\n",
      "['Giurgiu', 'Bucharest', 'Pitesti', 'Rimnicu', 'Sibiu']\n",
      "['Giurgiu', 'Bucharest', 'Pitesti', 'Rimnicu', 'Craiova', 'Drobeta', 'Mehadia', 'Lugoj', 'Timisoara', 'Arad', 'Sibiu']\n",
      "['Giurgiu', 'Bucharest', 'Pitesti', 'Rimnicu', 'Craiova', 'Drobeta', 'Mehadia', 'Lugoj', 'Timisoara', 'Arad', 'Zerind', 'Oradea', 'Sibiu']\n",
      "['Giurgiu', 'Bucharest', 'Pitesti', 'Craiova', 'Rimnicu', 'Sibiu']\n",
      "['Giurgiu', 'Bucharest', 'Pitesti', 'Craiova', 'Drobeta', 'Mehadia', 'Lugoj', 'Timisoara', 'Arad', 'Sibiu']\n",
      "['Giurgiu', 'Bucharest', 'Pitesti', 'Craiova', 'Drobeta', 'Mehadia', 'Lugoj', 'Timisoara', 'Arad', 'Zerind', 'Oradea', 'Sibiu']\n"
     ]
    }
   ],
   "source": [
    "### GRADED\n",
    "### QUESTION 13\n",
    "### What simple paths does DFS find in romania_graph between 'Giurgiu' & 'Sibiu'?\n",
    "### Save your answer as ans_13\n",
    "test = dfs_paths(romania_graph, 'Giurgiu', 'Sibiu')\n",
    "test = list(test)\n",
    "\n",
    "ans_13 = test \n",
    "# Verifying solution\n",
    "for path in ans_13:\n",
    "    print(path)"
   ]
  },
  {
   "cell_type": "code",
   "execution_count": null,
   "metadata": {
    "collapsed": true,
    "deletable": false,
    "editable": false,
    "nbgrader": {
     "grade": true,
     "grade_id": "Question 13",
     "locked": true,
     "points": "10",
     "solution": false
    }
   },
   "outputs": [],
   "source": [
    "### BEGIN HIDDEN TEST\n",
    "sol_13_ = list(dfs_paths(romania_graph, 'Giurgiu', 'Sibiu'))\n",
    "path0_ = sol_13_[0]\n",
    "#\n",
    "#\n",
    "assert len(ans_13) == len(sol_13_), \"Incorrect number of paths found\"\n",
    "for path in ans_13:\n",
    "    assert path[0] == path0_[0], \"Path has incorrect initial node\"\n",
    "    assert path[-1] == path0_[-1], \"Path has incorrect terminal node\"\n",
    "    assert path in sol_13_, \"Incorrect path found\"\n",
    "### END HIDDEN TEST"
   ]
  },
  {
   "cell_type": "markdown",
   "metadata": {
    "deletable": false,
    "editable": false,
    "nbgrader": {
     "grade": false,
     "locked": true,
     "solution": false
    }
   },
   "source": [
    "### Breadth-First Search (BFS)\n",
    "\n",
    "[Breadth-First Search (BFS)](https://en.wikipedia.org/wiki/Breadth-first_search) is an alternative strategy to DFS for traversing or searching through a graph. Again, the traversal/search begins at a prescribed *root* vertex; this time, it examines each of its neighbors, and then each of those neighbors, and so on. Intuitively, BFS radiates out from the root to visit vertices in order of their distance from the root (as measured by number of edges). Thus, vertices that are closer to the initial vertex get visited first.\n",
    "\n",
    "![](./resource/asnlib/publicdata/bfs_combinatorica.gif)"
   ]
  },
  {
   "cell_type": "markdown",
   "metadata": {
    "deletable": false,
    "editable": false,
    "nbgrader": {
     "grade": false,
     "locked": true,
     "solution": false
    }
   },
   "source": [
    "As with DFS, BFS can produce a sequence of vertices (starting at the root) by which the graph can be traversed (i.e., each node visited, assuming that the graph is connected). If specified with an initial root node as well as a terminal node, BFS can then yield a *path* between the two vertices.\n",
    "\n",
    "Here is a pseudocode for BFS as from the lectures:\n",
    "\n",
    "---\n",
    "\n",
    "__function__ BREADTH-FIRST-SEARCH(initialState, goalTest)<br>\n",
    "&emsp;_returns_ __SUCCESS__ or __FAILURE__<br>\n",
    "<br>\n",
    "&emsp;frontier = Queue.new(initialState)<br>\n",
    "&emsp;explored = Set.new()<br>\n",
    "<br>\n",
    "&emsp;__while__  __not__ frontier.isEmpty():<br>\n",
    "&emsp;&emsp;state = frontier.dequeue()<br>\n",
    "&emsp;&emsp;explored.add(state)<br>\n",
    "<br>\n",
    "&emsp;&emsp;__if__ goalTest(state):<br>\n",
    "&emsp;&emsp;&emsp;__return__ __SUCCESS__(state)<br>\n",
    "<br>\n",
    "&emsp;&emsp;__for__ neighbor __in__ state.neighbors():<br>\n",
    "&emsp;&emsp;&emsp;__if__ neighbor __not__ __in__ frontier $\\cup$ explored:<br>\n",
    "&emsp;&emsp;&emsp;&emsp;frontier.enqueue(state)<br>\n",
    "<br>\n",
    "&emsp;__return__  __FAILURE__"
   ]
  },
  {
   "cell_type": "markdown",
   "metadata": {
    "deletable": false,
    "editable": false,
    "nbgrader": {
     "grade": false,
     "locked": true,
     "solution": false
    }
   },
   "source": [
    "By contrast with DFS, BFS relies on a *queue* (sometimes called a *FIFO* for *First-In-First-Out*) for maintaining the frontier. In Python, this is also easy to do with a list. To remove an item from the front of the queue `frontier`, simply use invoke the method `frontier.pop(0)`.\n",
    "\n",
    "The Python function `bfs` as implemented here captures the essence of the preceding pseudocode with some differences:\n",
    "\n",
    "+ `explored` is implemented using a Python `list` rather than a `set` (so we can preserve the order in which nodes are visited).\n",
    "+ the value returned is the `list` `explored` (rather than **SUCCESS** or **FAILURE**)."
   ]
  },
  {
   "cell_type": "code",
   "execution_count": 53,
   "metadata": {
    "collapsed": true,
    "deletable": false,
    "editable": false,
    "nbgrader": {
     "grade": false,
     "locked": true,
     "solution": false
    }
   },
   "outputs": [],
   "source": [
    "def bfs(graph, initial):\n",
    "    explored, queue = list(), [initial]  # stack == frontier\n",
    "    while queue:\n",
    "        state = queue.pop(0)\n",
    "        if state not in explored:\n",
    "            explored.append(state)\n",
    "            queue.extend([neighbor for neighbor in graph[state]\n",
    "                          if not ((neighbor in queue) or (neighbor in explored))])\n",
    "    return explored"
   ]
  },
  {
   "cell_type": "markdown",
   "metadata": {
    "deletable": false,
    "editable": false,
    "nbgrader": {
     "grade": false,
     "locked": true,
     "solution": false
    }
   },
   "source": [
    "Here's an example of using the function `bfs` on the same toy graph from before."
   ]
  },
  {
   "cell_type": "code",
   "execution_count": 54,
   "metadata": {
    "deletable": false,
    "editable": false,
    "nbgrader": {
     "grade": false,
     "locked": true,
     "solution": false
    },
    "scrolled": true
   },
   "outputs": [
    {
     "name": "stdout",
     "output_type": "stream",
     "text": [
      "A BFS traversal starting from 'A': ['A', 'C', 'F', 'E', 'B', 'D']\n",
      "A BFS traversal starting from 'E': ['E', 'F', 'C', 'A', 'B', 'D']\n"
     ]
    }
   ],
   "source": [
    "graph_dict = {'A': (['B', 'C']),\n",
    "         'B': (['A', 'D', 'E']),\n",
    "         'C': (['A', 'F']),\n",
    "         'D': (['B']),\n",
    "         'E': (['B', 'F']),\n",
    "         'F': (['C', 'E'])}\n",
    "print(\"A BFS traversal starting from 'A': {}\".format(dfs(graph_dict, 'A')))\n",
    "print(\"A BFS traversal starting from 'E': {}\".format(dfs(graph_dict, 'E')))"
   ]
  },
  {
   "cell_type": "markdown",
   "metadata": {
    "deletable": false,
    "editable": false,
    "nbgrader": {
     "grade": false,
     "locked": true,
     "solution": false
    }
   },
   "source": [
    "As with DFS, BFS can construct paths from the initial to the terminal node by tweaking the implementation of `bfs` to yield a generator function `bfs_paths`. Notice that, with the breadth-first approach, BFS will identify shortest paths first (in the sense of fewest edges; they may not be shortest in a geographical sense)."
   ]
  },
  {
   "cell_type": "code",
   "execution_count": 55,
   "metadata": {
    "collapsed": true,
    "deletable": false,
    "editable": false,
    "nbgrader": {
     "grade": false,
     "locked": true,
     "solution": false
    }
   },
   "outputs": [],
   "source": [
    "def bfs_paths(graph, initial, goal):\n",
    "    queue = [(initial, [initial])]\n",
    "    while queue:\n",
    "        (state, path) = queue.pop(0)\n",
    "        for neighbor in [v for v in graph[state] if not (v in path)]:\n",
    "            if neighbor == goal:\n",
    "                yield path + [neighbor]\n",
    "            else:\n",
    "                queue.append((neighbor, path + [neighbor]))"
   ]
  },
  {
   "cell_type": "markdown",
   "metadata": {
    "deletable": false,
    "editable": false,
    "nbgrader": {
     "grade": false,
     "locked": true,
     "solution": false
    }
   },
   "source": [
    "Again, the default output of this implementation is a *generator* object so you'll convert the generator to a list for convenience (assuming the totality of paths is small enough to fit in memory easily."
   ]
  },
  {
   "cell_type": "code",
   "execution_count": 56,
   "metadata": {},
   "outputs": [
    {
     "name": "stdout",
     "output_type": "stream",
     "text": [
      "type(paths): <class 'generator'>\n",
      "BFS Paths from 'A' to 'D': [['A', 'B', 'D'], ['A', 'C', 'F', 'E', 'B', 'D']]\n"
     ]
    }
   ],
   "source": [
    "paths = bfs_paths(graph_dict,'A', 'D')\n",
    "print('type(paths): {}'.format(type(paths)))\n",
    "paths = list(paths) # Explicitly transform generator to a list\n",
    "print(\"BFS Paths from 'A' to 'D': {}\".format(paths))"
   ]
  },
  {
   "cell_type": "markdown",
   "metadata": {
    "deletable": false,
    "editable": false,
    "nbgrader": {
     "grade": false,
     "locked": true,
     "solution": false
    }
   },
   "source": [
    "Here is the map of the Romanian cities to assist you with Questions 14 & 15.\n",
    "![](./resource/asnlib/publicdata/romania_map.png)"
   ]
  },
  {
   "cell_type": "markdown",
   "metadata": {
    "deletable": false,
    "editable": false,
    "nbgrader": {
     "grade": false,
     "locked": true,
     "solution": false
    }
   },
   "source": [
    "<a id=\"q14\"></a>\n",
    "[Return to top](#questions)"
   ]
  },
  {
   "cell_type": "markdown",
   "metadata": {
    "deletable": false,
    "editable": false,
    "nbgrader": {
     "grade": false,
     "locked": true,
     "solution": false
    }
   },
   "source": [
    "### Question 14: Determining a Traversal using BFS\n",
    "\n",
    "Use the Python implementation of Breadth-First-Search `bfs` to determine the traversal order for the Romanian cities in `romania_graph` starting from `Giurgiu`.\n",
    "\n",
    "+ Assign your answer (a Python list of strings) to `ans_14`."
   ]
  },
  {
   "cell_type": "code",
   "execution_count": 57,
   "metadata": {},
   "outputs": [
    {
     "name": "stdout",
     "output_type": "stream",
     "text": [
      "A BFS traversal starting from 'Giurgiu':\n",
      "['Giurgiu', 'Bucharest', 'Urziceni', 'Pitesti', 'Fagaras', 'Hirsova', 'Vaslui', 'Craiova', 'Rimnicu', 'Sibiu', 'Eforie', 'Iasi', 'Drobeta', 'Arad', 'Oradea', 'Neamt', 'Mehadia', 'Zerind', 'Timisoara', 'Lugoj']\n"
     ]
    }
   ],
   "source": [
    "### GRADED\n",
    "### QUESTION 14\n",
    "### What traversal order does DFS yield for romania_graph starting at 'Giurgiu'?\n",
    "### Save your answer as ans_14\n",
    "\n",
    "BFF = bfs(romania_graph, 'Giurgiu')\n",
    "ans_14 = BFF\n",
    "# Verifying solution\n",
    "print(\"A BFS traversal starting from 'Giurgiu':\\n{}\".format(ans_14))"
   ]
  },
  {
   "cell_type": "code",
   "execution_count": 58,
   "metadata": {
    "collapsed": true,
    "deletable": false,
    "editable": false,
    "nbgrader": {
     "grade": true,
     "grade_id": "Question 14",
     "locked": true,
     "points": "10",
     "solution": false
    }
   },
   "outputs": [],
   "source": [
    "### BEGIN HIDDEN TEST\n",
    "sol_14_ = bfs(romania_graph, 'Giurgiu')\n",
    "#\n",
    "#\n",
    "assert ans_14 == sol_14_\n",
    "### END HIDDEN TEST"
   ]
  },
  {
   "cell_type": "markdown",
   "metadata": {
    "deletable": false,
    "editable": false,
    "nbgrader": {
     "grade": false,
     "locked": true,
     "solution": false
    }
   },
   "source": [
    "<a id=\"q15\"></a>\n",
    "[Return to top](#questions)"
   ]
  },
  {
   "cell_type": "markdown",
   "metadata": {
    "deletable": false,
    "editable": false,
    "nbgrader": {
     "grade": false,
     "locked": true,
     "solution": false
    }
   },
   "source": [
    "### Question 15: Determining Paths using DFS\n",
    "\n",
    "Use the Python function `bfs_paths` to determine all paths in the Romanian cities in `romania_graph` ending at `Sibiu` & starting from `Giurgiu`.\n",
    "\n",
    "+ Provide your answer as a *list* (the default output of `bfs_paths` is a generator object, so you will have to explicitly convert it to a `list`).\n",
    "+ Assign the resulting `list` to `ans_15`."
   ]
  },
  {
   "cell_type": "code",
   "execution_count": 59,
   "metadata": {
    "scrolled": true
   },
   "outputs": [
    {
     "name": "stdout",
     "output_type": "stream",
     "text": [
      "['Giurgiu', 'Bucharest', 'Fagaras', 'Sibiu']\n",
      "['Giurgiu', 'Bucharest', 'Pitesti', 'Rimnicu', 'Sibiu']\n",
      "['Giurgiu', 'Bucharest', 'Pitesti', 'Craiova', 'Rimnicu', 'Sibiu']\n",
      "['Giurgiu', 'Bucharest', 'Pitesti', 'Craiova', 'Drobeta', 'Mehadia', 'Lugoj', 'Timisoara', 'Arad', 'Sibiu']\n",
      "['Giurgiu', 'Bucharest', 'Pitesti', 'Rimnicu', 'Craiova', 'Drobeta', 'Mehadia', 'Lugoj', 'Timisoara', 'Arad', 'Sibiu']\n",
      "['Giurgiu', 'Bucharest', 'Pitesti', 'Craiova', 'Drobeta', 'Mehadia', 'Lugoj', 'Timisoara', 'Arad', 'Zerind', 'Oradea', 'Sibiu']\n",
      "['Giurgiu', 'Bucharest', 'Pitesti', 'Rimnicu', 'Craiova', 'Drobeta', 'Mehadia', 'Lugoj', 'Timisoara', 'Arad', 'Zerind', 'Oradea', 'Sibiu']\n"
     ]
    }
   ],
   "source": [
    "### GRADED\n",
    "### QUESTION 15\n",
    "### What simple paths does DFS find in romania_graph between 'Giurgiu' & 'Sibiu'?\n",
    "### Save your answer as ans_15\n",
    "\n",
    "BFF_paths = bfs_paths(romania_graph, 'Giurgiu', 'Sibiu')\n",
    "\n",
    "ans_15 = list(BFF_paths)\n",
    "# Verifying solution\n",
    "for path in ans_15:\n",
    "    print(path)"
   ]
  },
  {
   "cell_type": "code",
   "execution_count": 60,
   "metadata": {
    "collapsed": true,
    "deletable": false,
    "editable": false,
    "nbgrader": {
     "grade": true,
     "grade_id": "Question 15",
     "locked": true,
     "points": "10",
     "solution": false
    }
   },
   "outputs": [],
   "source": [
    "### BEGIN HIDDEN TEST\n",
    "sol_15_ = list(bfs_paths(romania_graph, 'Giurgiu', 'Sibiu'))\n",
    "path0_ = sol_15_[0]\n",
    "#\n",
    "#\n",
    "assert len(ans_15) == len(sol_15_), \"Incorrect number of paths found\"\n",
    "for path in ans_15:\n",
    "    assert path[0] == path0_[0], \"Path has incorrect initial node\"\n",
    "    assert path[-1] == path0_[-1], \"Path has incorrect terminal node\"\n",
    "    assert path in sol_15_, \"Incorrect path found\"\n",
    "### END HIDDEN TEST"
   ]
  },
  {
   "cell_type": "markdown",
   "metadata": {
    "deletable": false,
    "editable": false,
    "nbgrader": {
     "grade": false,
     "locked": true,
     "solution": false
    }
   },
   "source": [
    "## Graph Search Algorithms in `networkx`\n",
    "\n",
    "The implementations of Depth-First-Search & Breadth-First-Search developed here are fairly simple. NetworkX provides implementations of numerous graph algorithms including DFS and BFS.\n",
    "\n",
    "+ `dfs_edges` and `bfs_edges` produce the tree representation of the DFS & BFS traversals respectively\n",
    "+ `dfs_tree` and `bfs_tree` produce the tree representation of the DFS & BFS traversals respectively\n",
    "+ `dfs_successors` and `bfs_successors` produces a dict mapping nodes to lists of their successors of nodes starting from the root (using DFS & BFS respectively)\n"
   ]
  },
  {
   "cell_type": "code",
   "execution_count": 61,
   "metadata": {
    "collapsed": true
   },
   "outputs": [],
   "source": [
    "graph_dict = {'A': ['B', 'C'],\n",
    "         'B': ['A', 'C', 'D'],\n",
    "         'C': ['A', 'B', 'D', 'F'],\n",
    "         'D': ['B', 'C'],\n",
    "         'E': ['F'],\n",
    "         'F': ['C', 'E']}\n",
    "\n",
    "G = nx.from_dict_of_lists(graph_dict)"
   ]
  },
  {
   "cell_type": "code",
   "execution_count": 62,
   "metadata": {},
   "outputs": [
    {
     "data": {
      "text/plain": [
       "['A', 'B', 'C', 'D', 'F', 'E']"
      ]
     },
     "execution_count": 62,
     "metadata": {},
     "output_type": "execute_result"
    }
   ],
   "source": [
    "bfs(graph_dict, 'A')"
   ]
  },
  {
   "cell_type": "code",
   "execution_count": 63,
   "metadata": {},
   "outputs": [
    {
     "data": {
      "text/plain": [
       "['A', 'B', 'C', 'D', 'F', 'E']"
      ]
     },
     "execution_count": 63,
     "metadata": {},
     "output_type": "execute_result"
    }
   ],
   "source": [
    "# same result attained using networkx\n",
    "edges = nx.bfs_edges(G, 'A')\n",
    "nodes = ['A'] + [v for u, v in edges]\n",
    "nodes"
   ]
  },
  {
   "cell_type": "code",
   "execution_count": 64,
   "metadata": {
    "scrolled": true
   },
   "outputs": [
    {
     "data": {
      "text/plain": [
       "[('A', ['B', 'C']), ('B', ['D']), ('C', ['F']), ('F', ['E'])]"
      ]
     },
     "execution_count": 64,
     "metadata": {},
     "output_type": "execute_result"
    }
   ],
   "source": [
    "list(nx.bfs_successors(G, 'A')) # result of bfs_successors is a generator"
   ]
  },
  {
   "cell_type": "markdown",
   "metadata": {
    "deletable": false,
    "editable": false,
    "nbgrader": {
     "grade": false,
     "locked": true,
     "solution": false
    }
   },
   "source": [
    "<a id=\"q16\"></a>\n",
    "[Return to top](#questions)"
   ]
  },
  {
   "cell_type": "markdown",
   "metadata": {
    "deletable": false,
    "editable": false,
    "nbgrader": {
     "grade": false,
     "locked": true,
     "solution": false
    }
   },
   "source": [
    "### Question 16: Using `networkx` for DFS and BFS\n",
    "\n",
    "For this question, you'll work with the `networkx` representation of `romania_graph` (created for you here as `G_romania`)."
   ]
  },
  {
   "cell_type": "code",
   "execution_count": 65,
   "metadata": {
    "deletable": false,
    "editable": false,
    "nbgrader": {
     "grade": false,
     "locked": true,
     "solution": false
    }
   },
   "outputs": [
    {
     "data": {
      "image/png": "[encoded data removed]",
      "text/plain": [
       "<Figure size 432x288 with 1 Axes>"
      ]
     },
     "metadata": {},
     "output_type": "display_data"
    }
   ],
   "source": [
    "G_romania = nx.from_dict_of_lists(romania_graph)\n",
    "nx.draw_networkx(G_romania, with_labels=True, node_color='yellow')"
   ]
  },
  {
   "cell_type": "markdown",
   "metadata": {
    "deletable": false,
    "editable": false,
    "nbgrader": {
     "grade": false,
     "locked": true,
     "solution": false
    }
   },
   "source": [
    "Use the `networkx` functions `dfs_successors` & `bfs_successors` to determine two `dict`s mapping nodes to lists of their successors as found in a depth-first & a breadth-first traversal (respectively) starting from `Sibiu`.\n",
    "\n",
    "+ Assign the result of the DFS traversal to ans_16_dfs.\n",
    "+ Assign the result of the BFS traversal to ans_16_bfs.\n",
    "+ Make sure both results are `dict`s (you may have to explicitly cast them if the function returns a generator)."
   ]
  },
  {
   "cell_type": "code",
   "execution_count": 67,
   "metadata": {
    "collapsed": true
   },
   "outputs": [],
   "source": [
    "test = nx.bfs_successors(G_romania, 'Giurgiu')"
   ]
  },
  {
   "cell_type": "code",
   "execution_count": 69,
   "metadata": {
    "collapsed": true
   },
   "outputs": [],
   "source": [
    "hm = dict(test)"
   ]
  },
  {
   "cell_type": "code",
   "execution_count": 71,
   "metadata": {
    "scrolled": false
   },
   "outputs": [
    {
     "name": "stdout",
     "output_type": "stream",
     "text": [
      "DFS successors:\n",
      "{'Arad': ['Zerind', 'Timisoara'],\n",
      " 'Bucharest': ['Urziceni', 'Giurgiu', 'Fagaras'],\n",
      " 'Craiova': ['Rimnicu'],\n",
      " 'Drobeta': ['Craiova'],\n",
      " 'Hirsova': ['Eforie'],\n",
      " 'Iasi': ['Neamt'],\n",
      " 'Lugoj': ['Mehadia'],\n",
      " 'Mehadia': ['Drobeta'],\n",
      " 'Pitesti': ['Bucharest'],\n",
      " 'Rimnicu': ['Pitesti'],\n",
      " 'Sibiu': ['Arad'],\n",
      " 'Timisoara': ['Lugoj'],\n",
      " 'Urziceni': ['Hirsova', 'Vaslui'],\n",
      " 'Vaslui': ['Iasi'],\n",
      " 'Zerind': ['Oradea']}\n",
      "\n",
      "BFS successors:\n",
      "{'Arad': ['Zerind', 'Timisoara'],\n",
      " 'Bucharest': ['Urziceni', 'Giurgiu'],\n",
      " 'Craiova': ['Drobeta'],\n",
      " 'Fagaras': ['Bucharest'],\n",
      " 'Hirsova': ['Eforie'],\n",
      " 'Iasi': ['Neamt'],\n",
      " 'Lugoj': ['Mehadia'],\n",
      " 'Rimnicu': ['Craiova', 'Pitesti'],\n",
      " 'Sibiu': ['Arad', 'Fagaras', 'Oradea', 'Rimnicu'],\n",
      " 'Timisoara': ['Lugoj'],\n",
      " 'Urziceni': ['Hirsova', 'Vaslui'],\n",
      " 'Vaslui': ['Iasi']}\n"
     ]
    }
   ],
   "source": [
    "### GRADED\n",
    "### QUESTION 16\n",
    "### Save dicts to ans_16_dfs & ans_16_bfs that match vertices to their successors found in\n",
    "### a DFS or BFS traversal (respectively) initiated at 'Sibiu' in romania_graph\n",
    "### YOUR ANSWER HERE\n",
    "\n",
    "bfs_test = dict(nx.bfs_successors(G_romania, 'Sibiu'))\n",
    "dfs_test = dict(nx.dfs_successors(G_romania, 'Sibiu'))\n",
    "\n",
    "ans_16_dfs = dfs_test\n",
    "ans_16_bfs = bfs_test\n",
    "# For verification\n",
    "from pprint import pprint \n",
    "print('DFS successors:')\n",
    "pprint(ans_16_dfs)\n",
    "print('\\nBFS successors:')\n",
    "pprint(ans_16_bfs)"
   ]
  },
  {
   "cell_type": "code",
   "execution_count": null,
   "metadata": {
    "collapsed": true,
    "deletable": false,
    "editable": false,
    "nbgrader": {
     "grade": true,
     "grade_id": "Question 16",
     "locked": true,
     "points": "10",
     "solution": false
    }
   },
   "outputs": [],
   "source": [
    "###\n",
    "### AUTOGRADER TEST - DO NOT REMOVE\n",
    "###\n"
   ]
  }
 ],
 "metadata": {
  "celltoolbar": "Edit Metadata",
  "kernelspec": {
   "display_name": "Python 3 [3.6]",
   "language": "python",
   "name": "python3"
  },
  "language_info": {
   "codemirror_mode": {
    "name": "ipython",
    "version": 3
   },
   "file_extension": ".py",
   "mimetype": "text/x-python",
   "name": "python",
   "nbconvert_exporter": "python",
   "pygments_lexer": "ipython3",
   "version": "3.6.4"
  }
 },
 "nbformat": 4,
 "nbformat_minor": 4
}
