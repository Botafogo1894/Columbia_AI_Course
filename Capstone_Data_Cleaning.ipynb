{
 "cells": [
  {
   "cell_type": "markdown",
   "metadata": {},
   "source": [
    "#### Background\n",
    "\n",
    "AAA Northeast is one of the regional clubs comprising the American Automobile Association.  AAA Northeast covers Rhode Island, Connecticut, Massachusetts and portions of New York and New Jersey.  The American Automobile Association has 58 million members in the US and Canada.  They offer services such as roadside assistance, maps and various discounts as part of their services.  Roadside assistance is a costly benefit, particularly towing.  Members who frequently use roadside assistance are less desirable.\n",
    "\n",
    "AAA also offers other paid services at highly competitive prices.  They also offer insurance, travel and banking/loan products.  AAA would like to increase the penetration of these services.\n",
    "\n",
    "A member may have a standard membership or a premium membership covering themselves and optionally additional household members.  Many of AAA members typically have a long tenure with the club.\n",
    "\n",
    "#### Objectives\n",
    "\n",
    "Provide a market segmentation of AAA members (or member households) that allows AAA Northeast to better serve their members.  They would use this analysis to:\n",
    "\n",
    "    Better anticipate the needs of members\n",
    "    Customize communications and offering to various segments\n",
    "    Expend more effort driving acquisition and renewal of desirable members\n",
    "\n",
    "We'll work with the members at the household level.\n",
    "\n",
    "#### Methodology\n",
    "\n",
    "There are several dimensions of revenue as well as cost.\n",
    "\n",
    "#### Revenue:\n",
    "\n",
    "    Products Purchased\n",
    "    Tenure\n",
    "    Number of members in the household\n",
    "    Level of membership\n",
    "\n",
    "#### Cost:\n",
    "\n",
    "    Use of roadside service\n",
    "    Frequency of use\n",
    "    Cost to service\n",
    "\n",
    "Summarize data to the household level.\n",
    "\n",
    "Divide your data into training and validation sets.\n",
    "\n",
    "Develop a series of “look-alike” models to determine the probability of purchasing each product.  Validate your models.\n",
    "\n",
    "Develop models to predict the likelihood of using roadside service as well as the total cost of roadside usage.\n",
    "\n",
    "Join your training and validation sets. Score all the members that do not have the purchase of a product with the probability of purchase.  If they have purchased the product, score them a 1.  Score them on the likelihood of roadside usage and the expected cost (in the next 12 months).\n",
    "\n",
    "Use your model results to cluster/segment the members.  Use a small number of clusters (4-6).\n",
    "\n",
    "You may include tenure (length of membership), number of members in the household and the sum of your product probabilities in your clustering as well as each model score.  Be creative.  Any numeric variable can potentially be used.\n",
    "\n",
    "If you have performance issues you may subsample the data.\n",
    "\n",
    "#### Deliverables\n",
    "\n",
    "A slide deck describing your findings and the methodology that you used. \n",
    "\n",
    "You should describe your segments (clusters) in non-technical terms.  You should attempt to make recommendations as to how they might provide value to AAA Northeast."
   ]
  },
  {
   "cell_type": "markdown",
   "metadata": {},
   "source": [
    "### Ideas on how to tackle\n",
    "- try to calcualte Age from birthdate\n",
    "- count number of individuals in household\n",
    "- count num of children (makes people more prone to buy safety products)\n",
    "- drop columns which will not be useful and report with a markdown list\n",
    "- check out which services have been purachased more and correlate to revenue / membership level"
   ]
  },
  {
   "cell_type": "code",
   "execution_count": 95,
   "metadata": {},
   "outputs": [],
   "source": [
    "%matplotlib inline\n",
    "from pylab import rcParams\n",
    "rcParams['figure.figsize'] = 14, 8\n",
    "\n",
    "import missingno as msno\n",
    "import seaborn as sns\n",
    "import pandas as pd\n",
    "import numpy as np\n",
    "import matplotlib.pyplot as plt\n",
    "from datetime import date, datetime, timedelta"
   ]
  },
  {
   "cell_type": "code",
   "execution_count": 2,
   "metadata": {},
   "outputs": [],
   "source": [
    "data = pd.read_csv('member_sample.csv', index_col = 0)"
   ]
  },
  {
   "cell_type": "code",
   "execution_count": 3,
   "metadata": {
    "scrolled": false
   },
   "outputs": [
    {
     "data": {
      "text/html": [
       "<div>\n",
       "<style scoped>\n",
       "    .dataframe tbody tr th:only-of-type {\n",
       "        vertical-align: middle;\n",
       "    }\n",
       "\n",
       "    .dataframe tbody tr th {\n",
       "        vertical-align: top;\n",
       "    }\n",
       "\n",
       "    .dataframe thead th {\n",
       "        text-align: right;\n",
       "    }\n",
       "</style>\n",
       "<table border=\"1\" class=\"dataframe\">\n",
       "  <thead>\n",
       "    <tr style=\"text-align: right;\">\n",
       "      <th></th>\n",
       "      <th>Individual Key</th>\n",
       "      <th>Household Key</th>\n",
       "      <th>Member Flag</th>\n",
       "      <th>City</th>\n",
       "      <th>State - Grouped</th>\n",
       "      <th>ZIP5</th>\n",
       "      <th>ZIP9</th>\n",
       "      <th>FSV CMSI Flag</th>\n",
       "      <th>FSV Credit Card Flag</th>\n",
       "      <th>FSV Deposit Program Flag</th>\n",
       "      <th>...</th>\n",
       "      <th>SC Vehicle Manufacturer Name</th>\n",
       "      <th>SC Vehicle Model Name</th>\n",
       "      <th>SVC Facility Name</th>\n",
       "      <th>SVC Facility Type</th>\n",
       "      <th>Total Cost</th>\n",
       "      <th>Tow Destination Latitude</th>\n",
       "      <th>Tow Destination Longitude</th>\n",
       "      <th>Tow Destination Name</th>\n",
       "      <th>Was Duplicated</th>\n",
       "      <th>Was Towed To AAR Referral</th>\n",
       "    </tr>\n",
       "  </thead>\n",
       "  <tbody>\n",
       "    <tr>\n",
       "      <th>0</th>\n",
       "      <td>10000003.0</td>\n",
       "      <td>10462590.0</td>\n",
       "      <td>Y</td>\n",
       "      <td>NEW HAVEN</td>\n",
       "      <td>CT</td>\n",
       "      <td>6511.0</td>\n",
       "      <td>65111349.0</td>\n",
       "      <td>N</td>\n",
       "      <td>N</td>\n",
       "      <td>N</td>\n",
       "      <td>...</td>\n",
       "      <td>NaN</td>\n",
       "      <td>NaN</td>\n",
       "      <td>NaN</td>\n",
       "      <td>NaN</td>\n",
       "      <td>NaN</td>\n",
       "      <td>NaN</td>\n",
       "      <td>NaN</td>\n",
       "      <td>NaN</td>\n",
       "      <td>NaN</td>\n",
       "      <td>NaN</td>\n",
       "    </tr>\n",
       "    <tr>\n",
       "      <th>1</th>\n",
       "      <td>52211550.0</td>\n",
       "      <td>4500791.0</td>\n",
       "      <td>Y</td>\n",
       "      <td>WEST WARWICK</td>\n",
       "      <td>RI</td>\n",
       "      <td>2893.0</td>\n",
       "      <td>28933850.0</td>\n",
       "      <td>N</td>\n",
       "      <td>Y</td>\n",
       "      <td>N</td>\n",
       "      <td>...</td>\n",
       "      <td>TOYOTA</td>\n",
       "      <td>CAMRY</td>\n",
       "      <td>ASTRO WRECKER SERVICE</td>\n",
       "      <td>independent repair</td>\n",
       "      <td>32.5</td>\n",
       "      <td>41.0</td>\n",
       "      <td>-71.0</td>\n",
       "      <td>Aar / Johnson's Auto Service</td>\n",
       "      <td>0.0</td>\n",
       "      <td>1.0</td>\n",
       "    </tr>\n",
       "    <tr>\n",
       "      <th>2</th>\n",
       "      <td>52211550.0</td>\n",
       "      <td>4500791.0</td>\n",
       "      <td>Y</td>\n",
       "      <td>WEST WARWICK</td>\n",
       "      <td>RI</td>\n",
       "      <td>2893.0</td>\n",
       "      <td>28933850.0</td>\n",
       "      <td>N</td>\n",
       "      <td>Y</td>\n",
       "      <td>N</td>\n",
       "      <td>...</td>\n",
       "      <td>TOYOTA</td>\n",
       "      <td>CAMRY</td>\n",
       "      <td>Astro Wrecker Service</td>\n",
       "      <td>independent repair</td>\n",
       "      <td>30.0</td>\n",
       "      <td>0.0</td>\n",
       "      <td>0.0</td>\n",
       "      <td>NaN</td>\n",
       "      <td>0.0</td>\n",
       "      <td>0.0</td>\n",
       "    </tr>\n",
       "    <tr>\n",
       "      <th>3</th>\n",
       "      <td>52211550.0</td>\n",
       "      <td>4500791.0</td>\n",
       "      <td>Y</td>\n",
       "      <td>WEST WARWICK</td>\n",
       "      <td>RI</td>\n",
       "      <td>2893.0</td>\n",
       "      <td>28933850.0</td>\n",
       "      <td>N</td>\n",
       "      <td>Y</td>\n",
       "      <td>N</td>\n",
       "      <td>...</td>\n",
       "      <td>TOYOTA</td>\n",
       "      <td>CAMRY</td>\n",
       "      <td>ASTRO WRECKER SERVICE</td>\n",
       "      <td>independent repair</td>\n",
       "      <td>32.5</td>\n",
       "      <td>0.0</td>\n",
       "      <td>0.0</td>\n",
       "      <td>NaN</td>\n",
       "      <td>0.0</td>\n",
       "      <td>0.0</td>\n",
       "    </tr>\n",
       "    <tr>\n",
       "      <th>4</th>\n",
       "      <td>52211550.0</td>\n",
       "      <td>4500791.0</td>\n",
       "      <td>Y</td>\n",
       "      <td>WEST WARWICK</td>\n",
       "      <td>RI</td>\n",
       "      <td>2893.0</td>\n",
       "      <td>28933850.0</td>\n",
       "      <td>N</td>\n",
       "      <td>Y</td>\n",
       "      <td>N</td>\n",
       "      <td>...</td>\n",
       "      <td>TOYOTA</td>\n",
       "      <td>CAMRY</td>\n",
       "      <td>ASTRO WRECKER SERVICE</td>\n",
       "      <td>independent repair</td>\n",
       "      <td>30.0</td>\n",
       "      <td>0.0</td>\n",
       "      <td>0.0</td>\n",
       "      <td>NaN</td>\n",
       "      <td>0.0</td>\n",
       "      <td>0.0</td>\n",
       "    </tr>\n",
       "  </tbody>\n",
       "</table>\n",
       "<p>5 rows × 112 columns</p>\n",
       "</div>"
      ],
      "text/plain": [
       "   Individual Key  Household Key Member Flag          City State - Grouped  \\\n",
       "0      10000003.0     10462590.0           Y     NEW HAVEN              CT   \n",
       "1      52211550.0      4500791.0           Y  WEST WARWICK              RI   \n",
       "2      52211550.0      4500791.0           Y  WEST WARWICK              RI   \n",
       "3      52211550.0      4500791.0           Y  WEST WARWICK              RI   \n",
       "4      52211550.0      4500791.0           Y  WEST WARWICK              RI   \n",
       "\n",
       "     ZIP5        ZIP9 FSV CMSI Flag FSV Credit Card Flag  \\\n",
       "0  6511.0  65111349.0             N                    N   \n",
       "1  2893.0  28933850.0             N                    Y   \n",
       "2  2893.0  28933850.0             N                    Y   \n",
       "3  2893.0  28933850.0             N                    Y   \n",
       "4  2893.0  28933850.0             N                    Y   \n",
       "\n",
       "  FSV Deposit Program Flag  ... SC Vehicle Manufacturer Name  \\\n",
       "0                        N  ...                          NaN   \n",
       "1                        N  ...                       TOYOTA   \n",
       "2                        N  ...                       TOYOTA   \n",
       "3                        N  ...                       TOYOTA   \n",
       "4                        N  ...                       TOYOTA   \n",
       "\n",
       "  SC Vehicle Model Name      SVC Facility Name   SVC Facility Type Total Cost  \\\n",
       "0                   NaN                    NaN                 NaN        NaN   \n",
       "1                 CAMRY  ASTRO WRECKER SERVICE  independent repair       32.5   \n",
       "2                 CAMRY  Astro Wrecker Service  independent repair       30.0   \n",
       "3                 CAMRY  ASTRO WRECKER SERVICE  independent repair       32.5   \n",
       "4                 CAMRY  ASTRO WRECKER SERVICE  independent repair       30.0   \n",
       "\n",
       "  Tow Destination Latitude Tow Destination Longitude  \\\n",
       "0                      NaN                       NaN   \n",
       "1                     41.0                     -71.0   \n",
       "2                      0.0                       0.0   \n",
       "3                      0.0                       0.0   \n",
       "4                      0.0                       0.0   \n",
       "\n",
       "           Tow Destination Name  Was Duplicated Was Towed To AAR Referral  \n",
       "0                           NaN             NaN                       NaN  \n",
       "1  Aar / Johnson's Auto Service             0.0                       1.0  \n",
       "2                           NaN             0.0                       0.0  \n",
       "3                           NaN             0.0                       0.0  \n",
       "4                           NaN             0.0                       0.0  \n",
       "\n",
       "[5 rows x 112 columns]"
      ]
     },
     "execution_count": 3,
     "metadata": {},
     "output_type": "execute_result"
    }
   ],
   "source": [
    "data.head()"
   ]
  },
  {
   "cell_type": "code",
   "execution_count": 4,
   "metadata": {
    "scrolled": true
   },
   "outputs": [
    {
     "name": "stdout",
     "output_type": "stream",
     "text": [
      "<class 'pandas.core.frame.DataFrame'>\n",
      "Int64Index: 21344 entries, 0 to 99998\n",
      "Columns: 112 entries, Individual Key to Was Towed To AAR Referral\n",
      "dtypes: float64(35), object(77)\n",
      "memory usage: 18.4+ MB\n"
     ]
    }
   ],
   "source": [
    "data.info()"
   ]
  },
  {
   "cell_type": "code",
   "execution_count": 53,
   "metadata": {
    "scrolled": false
   },
   "outputs": [
    {
     "data": {
      "text/plain": [
       "Index(['Individual Key', 'Household Key', 'Member Flag', 'City',\n",
       "       'State - Grouped', 'ZIP5', 'ZIP9', 'FSV CMSI Flag',\n",
       "       'FSV Credit Card Flag', 'FSV Deposit Program Flag',\n",
       "       ...\n",
       "       'SC Vehicle Model Name', 'SVC Facility Name', 'SVC Facility Type',\n",
       "       'Total Cost', 'Tow Destination Latitude', 'Tow Destination Longitude',\n",
       "       'Tow Destination Name', 'Was Duplicated', 'Was Towed To AAR Referral',\n",
       "       'age'],\n",
       "      dtype='object', length=113)"
      ]
     },
     "execution_count": 53,
     "metadata": {},
     "output_type": "execute_result"
    }
   ],
   "source": [
    "data.columns"
   ]
  },
  {
   "cell_type": "markdown",
   "metadata": {},
   "source": [
    "### Check Null columns"
   ]
  },
  {
   "cell_type": "code",
   "execution_count": 73,
   "metadata": {
    "scrolled": true
   },
   "outputs": [
    {
     "data": {
      "text/plain": [
       "Individual Key                   0\n",
       "Household Key                    0\n",
       "Member Flag                      0\n",
       "City                             0\n",
       "State - Grouped                  0\n",
       "ZIP5                             0\n",
       "ZIP9                             0\n",
       "FSV CMSI Flag                    0\n",
       "FSV Credit Card Flag             0\n",
       "FSV Deposit Program Flag         0\n",
       "FSV Home Equity Flag             0\n",
       "FSV ID Theft Flag                0\n",
       "FSV Mortgage Flag                0\n",
       "INS Client Flag                  0\n",
       "TRV Globalware Flag              0\n",
       "Home Owner                       0\n",
       "Income                           0\n",
       "Reason Joined                    0\n",
       "age                              0\n",
       "Active Expiration Date           1\n",
       "Bad Address Flag                 1\n",
       "Billing Code Description         1\n",
       "Branch Name                      1\n",
       "County                           1\n",
       "Do Not Direct Mail Solicit       1\n",
       "Email Available                  1\n",
       "Right_Individual Key             1\n",
       "Join AAA Date                    1\n",
       "Join Club Date                   1\n",
       "Member Key                       1\n",
       "Member Number Associate ID       1\n",
       "Member Status                    1\n",
       "Member Tenure Years              1\n",
       "Member Type                      1\n",
       "Membership ID                    1\n",
       "Opt-Out - Publication            1\n",
       "Renew Method                     1\n",
       "ZIP                              1\n",
       "New Mover Flag                   1\n",
       "Member Map Location             36\n",
       "Birth Date MMDDYYYY           3250\n",
       "ERS ENT Count Year 1          4669\n",
       "ERS ENT Count Year 2          4669\n",
       "ERS ENT Count Year 3          4669\n",
       "ERS Member Cost Year 1        4669\n",
       "ERS Member Cost Year 2        4669\n",
       "ERS Member Cost Year 3        4669\n",
       "Dwelling Type                 5453\n",
       "Mosaic Household              5463\n",
       "Mosaic Global Household       5463\n",
       "dtype: int64"
      ]
     },
     "execution_count": 73,
     "metadata": {},
     "output_type": "execute_result"
    }
   ],
   "source": [
    "data.isnull().sum().nsmallest(50)"
   ]
  },
  {
   "cell_type": "code",
   "execution_count": 75,
   "metadata": {},
   "outputs": [
    {
     "data": {
      "text/plain": [
       "Dispatch Code2Description         21344\n",
       "Prob2 Code Description            21336\n",
       "Reinstate Date                    20849\n",
       "Move Distance                     20703\n",
       "Occupant Type                     20612\n",
       "Right_Dwelling Type               20520\n",
       "Responded to Catalog              20484\n",
       "Tow Destination Name              17652\n",
       "Right_Gender                      15961\n",
       "Cancel Date                       13167\n",
       "Cancel Reason                     13167\n",
       "Months from Join to Cancel        13167\n",
       "Occupation Code                   12562\n",
       "Occupation Group                  12562\n",
       "Gender                            12561\n",
       "Date Of Birth                     11153\n",
       "Email Status                      10423\n",
       "Address Change Date                9955\n",
       "Tow Destination Latitude           9531\n",
       "Tow Destination Longitude          9531\n",
       "Number of Children                 9334\n",
       "Race                               9334\n",
       "Length Of Residence                9334\n",
       "Mail Responder                     9334\n",
       "Children                           9334\n",
       "Education                          9334\n",
       "Credit Ranges                      9334\n",
       "Language                           9334\n",
       "Member Phone Type                  9027\n",
       "Motorcycle Indicator               8163\n",
       "SVC Facility Type                  7975\n",
       "Breakdown Map Location             7602\n",
       "Fleet Indicator                    7491\n",
       "SVC Facility Name                  7491\n",
       "Calculated Tow Miles               7483\n",
       "Premier Cost                       7433\n",
       "Basic Cost                         7400\n",
       "Plus Cost                          7400\n",
       "Total Cost                         7400\n",
       "Call Status Recv Date              7394\n",
       "Clearing Code Last Description     7391\n",
       "SC STS RSN Code Description        7391\n",
       "SC Vehicle Model Name              7367\n",
       "SC Vehicle Manufacturer Name       7359\n",
       "Dispatch Code1 Description         7348\n",
       "DTL Prob1 Code Description         7348\n",
       "Breakdown City                     7347\n",
       "Breakdown State                    7347\n",
       "Call Canceled                      7347\n",
       "Call Killed                        7347\n",
       "dtype: int64"
      ]
     },
     "execution_count": 75,
     "metadata": {},
     "output_type": "execute_result"
    }
   ],
   "source": [
    "data.isnull().sum().nlargest(50)"
   ]
  },
  {
   "cell_type": "code",
   "execution_count": 63,
   "metadata": {
    "scrolled": false
   },
   "outputs": [
    {
     "data": {
      "text/plain": [
       "['Member Flag',\n",
       " 'ERS Member Cost Year 1',\n",
       " 'ERS Member Cost Year 2',\n",
       " 'ERS Member Cost Year 3',\n",
       " 'Member Key',\n",
       " 'Member Map Location',\n",
       " 'Member Number Associate ID',\n",
       " 'Member Phone Type',\n",
       " 'Member Status',\n",
       " 'Member Tenure Years',\n",
       " 'Member Type',\n",
       " 'Membership ID',\n",
       " 'Member Match Flag',\n",
       " 'Member Number and Associate ID']"
      ]
     },
     "execution_count": 63,
     "metadata": {},
     "output_type": "execute_result"
    }
   ],
   "source": [
    "find = [item for item in data.columns if \"Memb\" in item]\n",
    "find"
   ]
  },
  {
   "cell_type": "code",
   "execution_count": 78,
   "metadata": {
    "scrolled": true
   },
   "outputs": [
    {
     "data": {
      "text/plain": [
       "Home Owner             11121\n",
       "unknown                 9715\n",
       "Renter                   491\n",
       "Probable Renter           10\n",
       "Probable Home Owner        7\n",
       "Name: Home Owner, dtype: int64"
      ]
     },
     "execution_count": 78,
     "metadata": {},
     "output_type": "execute_result"
    }
   ],
   "source": [
    "data['Home Owner'].value_counts().nlargest(20)"
   ]
  },
  {
   "cell_type": "code",
   "execution_count": 81,
   "metadata": {},
   "outputs": [
    {
     "data": {
      "text/plain": [
       "SFDU                                        13322\n",
       "Small or large multi-family w/apt number     2116\n",
       "P.O. BOX                                      386\n",
       "Large multi-family w/o apt number              67\n",
       "Name: Dwelling Type, dtype: int64"
      ]
     },
     "execution_count": 81,
     "metadata": {},
     "output_type": "execute_result"
    }
   ],
   "source": [
    "data['Dwelling Type'].value_counts().nlargest(20)"
   ]
  },
  {
   "cell_type": "code",
   "execution_count": 96,
   "metadata": {},
   "outputs": [
    {
     "data": {
      "text/plain": [
       "WARWICK             2815\n",
       "CRANSTON            2742\n",
       "PROVIDENCE          1690\n",
       "NORTH PROVIDENCE     948\n",
       "COVENTRY             778\n",
       "JOHNSTON             703\n",
       "EAST GREENWICH       641\n",
       "PAWTUCKET            640\n",
       "NORTH KINGSTOWN      637\n",
       "WEST WARWICK         606\n",
       "CUMBERLAND           560\n",
       "NARRAGANSETT         531\n",
       "WAKEFIELD            497\n",
       "RIVERSIDE            436\n",
       "LINCOLN              402\n",
       "EAST PROVIDENCE      372\n",
       "PORTSMOUTH           328\n",
       "MANVILLE             322\n",
       "NEWPORT              321\n",
       "BARRINGTON           313\n",
       "Name: City, dtype: int64"
      ]
     },
     "execution_count": 96,
     "metadata": {},
     "output_type": "execute_result"
    }
   ],
   "source": [
    "data['City'].value_counts().nlargest(20)"
   ]
  },
  {
   "cell_type": "code",
   "execution_count": 97,
   "metadata": {},
   "outputs": [
    {
     "data": {
      "text/plain": [
       "N    9382\n",
       "Y    3799\n",
       "Name: Motorcycle Indicator, dtype: int64"
      ]
     },
     "execution_count": 97,
     "metadata": {},
     "output_type": "execute_result"
    }
   ],
   "source": [
    "data['Motorcycle Indicator'].value_counts()"
   ]
  },
  {
   "cell_type": "code",
   "execution_count": 56,
   "metadata": {
    "scrolled": true
   },
   "outputs": [
    {
     "data": {
      "text/plain": [
       "CAMRY             825\n",
       "COROLLA           597\n",
       "ACCORD            547\n",
       "CIVIC             411\n",
       "ALTIMA            342\n",
       "CR-V              297\n",
       "TAURUS            276\n",
       "FOCUS             226\n",
       "ELANTRA           192\n",
       "GRAND CHEROKEE    187\n",
       "RAV4              180\n",
       "SONATA            177\n",
       "F-150             174\n",
       "FORESTER          149\n",
       "JETTA             145\n",
       "OUTBACK           144\n",
       "MALIBU            132\n",
       "FUSION            129\n",
       "GRAND MARQUIS     125\n",
       "RANGER            112\n",
       "Name: SC Vehicle Model Name, dtype: int64"
      ]
     },
     "execution_count": 56,
     "metadata": {},
     "output_type": "execute_result"
    }
   ],
   "source": [
    "data['SC Vehicle Model Name'].value_counts().nlargest(20)"
   ]
  },
  {
   "cell_type": "code",
   "execution_count": 58,
   "metadata": {
    "scrolled": true
   },
   "outputs": [
    {
     "data": {
      "text/plain": [
       "TOYOTA           2289\n",
       "FORD             1580\n",
       "HONDA            1494\n",
       "CHEVROLET         935\n",
       "NISSAN            780\n",
       "HYUNDAI           630\n",
       "BUICK             491\n",
       "SUBARU            480\n",
       "JEEP              468\n",
       "DODGE             391\n",
       "CHRYSLER          387\n",
       "VOLKSWAGEN        357\n",
       "VOLVO             340\n",
       "LEXUS             325\n",
       "MERCURY           278\n",
       "MERCEDES-BENZ     276\n",
       "MAZDA             264\n",
       "KIA               246\n",
       "CADILLAC          195\n",
       "SATURN            182\n",
       "Name: SC Vehicle Manufacturer Name, dtype: int64"
      ]
     },
     "execution_count": 58,
     "metadata": {},
     "output_type": "execute_result"
    }
   ],
   "source": [
    "data['SC Vehicle Manufacturer Name'].value_counts().nlargest(20)"
   ]
  },
  {
   "cell_type": "code",
   "execution_count": 59,
   "metadata": {
    "scrolled": true
   },
   "outputs": [
    {
     "data": {
      "text/plain": [
       "Unknown              4264\n",
       "Some College         3058\n",
       "High School          2901\n",
       "Completed College    1602\n",
       "Graduated School      185\n",
       "Name: Education, dtype: int64"
      ]
     },
     "execution_count": 59,
     "metadata": {},
     "output_type": "execute_result"
    }
   ],
   "source": [
    "data['Education'].value_counts().nlargest(20)"
   ]
  },
  {
   "cell_type": "code",
   "execution_count": 60,
   "metadata": {},
   "outputs": [
    {
     "data": {
      "text/plain": [
       "Female     4595\n",
       "Male       4179\n",
       "Unknown       9\n",
       "Name: Gender, dtype: int64"
      ]
     },
     "execution_count": 60,
     "metadata": {},
     "output_type": "execute_result"
    }
   ],
   "source": [
    "data['Gender'].value_counts().nlargest(20)"
   ]
  },
  {
   "cell_type": "markdown",
   "metadata": {},
   "source": [
    "### Write function to calculate age"
   ]
  },
  {
   "cell_type": "code",
   "execution_count": 6,
   "metadata": {},
   "outputs": [],
   "source": [
    "def calcualte_age(date_string):\n",
    "    try:\n",
    "        iso = datetime.fromisoformat(date_string)\n",
    "        age = (datetime.now() - iso) // timedelta(days=365.2425)\n",
    "    except:\n",
    "        age = 0\n",
    "    return age"
   ]
  },
  {
   "cell_type": "code",
   "execution_count": 7,
   "metadata": {},
   "outputs": [],
   "source": [
    "data['age'] = [calcualte_age(item) for item in data['Date Of Birth']]"
   ]
  },
  {
   "cell_type": "code",
   "execution_count": 98,
   "metadata": {},
   "outputs": [
    {
     "data": {
      "text/plain": [
       "<matplotlib.axes._subplots.AxesSubplot at 0x1a1ef7bb38>"
      ]
     },
     "execution_count": 98,
     "metadata": {},
     "output_type": "execute_result"
    },
    {
     "data": {
      "image/png": "[encoded data removed]",
      "text/plain": [
       "<Figure size 1008x576 with 1 Axes>"
      ]
     },
     "metadata": {
      "needs_background": "light"
     },
     "output_type": "display_data"
    }
   ],
   "source": [
    "data.age.plot(kind = 'hist')"
   ]
  },
  {
   "cell_type": "code",
   "execution_count": 9,
   "metadata": {},
   "outputs": [],
   "source": [
    "data.age.replace(0,data.age[data.age != 0].mean(axis=0),inplace=True)"
   ]
  },
  {
   "cell_type": "code",
   "execution_count": 99,
   "metadata": {},
   "outputs": [
    {
     "data": {
      "text/plain": [
       "<matplotlib.axes._subplots.AxesSubplot at 0x1a20769e80>"
      ]
     },
     "execution_count": 99,
     "metadata": {},
     "output_type": "execute_result"
    },
    {
     "data": {
      "image/png": "[encoded data removed]",
      "text/plain": [
       "<Figure size 1008x576 with 1 Axes>"
      ]
     },
     "metadata": {
      "needs_background": "light"
     },
     "output_type": "display_data"
    }
   ],
   "source": [
    "data.age.plot(kind = 'hist', bins = 8)"
   ]
  },
  {
   "cell_type": "code",
   "execution_count": 100,
   "metadata": {},
   "outputs": [
    {
     "data": {
      "text/plain": [
       "<function matplotlib.pyplot.show(*args, **kw)>"
      ]
     },
     "execution_count": 100,
     "metadata": {},
     "output_type": "execute_result"
    },
    {
     "data": {
      "image/png": "[encoded data removed]",
      "text/plain": [
       "<Figure size 1008x576 with 1 Axes>"
      ]
     },
     "metadata": {
      "needs_background": "light"
     },
     "output_type": "display_data"
    }
   ],
   "source": [
    "X = data.age\n",
    "DF_75th = round(X.describe()['75%'], 2)\n",
    "DF_AVG = round(X.describe()['mean'], 2)\n",
    "\n",
    "plt.hist(X)\n",
    "plt.ylabel('Count', fontsize = 18, color = '#073997')\n",
    "plt.xlabel('Age', fontsize = 18, color = '#073997')\n",
    "plt.xticks( fontsize =10, color = '#073997')\n",
    "plt.title('User Age Distribution', fontsize = 18, color = '#073997')\n",
    "plt.savefig('User_age_histogram', bbox_inches = 'tight')\n",
    "plt.show"
   ]
  },
  {
   "cell_type": "markdown",
   "metadata": {},
   "source": [
    "### Deal with null values"
   ]
  },
  {
   "cell_type": "code",
   "execution_count": 12,
   "metadata": {},
   "outputs": [],
   "source": [
    "nulls = data.isnull().sum()"
   ]
  },
  {
   "cell_type": "code",
   "execution_count": 101,
   "metadata": {},
   "outputs": [
    {
     "data": {
      "text/plain": [
       "<matplotlib.axes._subplots.AxesSubplot at 0x1a20464c88>"
      ]
     },
     "execution_count": 101,
     "metadata": {},
     "output_type": "execute_result"
    },
    {
     "data": {
      "image/png": "[encoded data removed]",
      "text/plain": [
       "<Figure size 1008x576 with 1 Axes>"
      ]
     },
     "metadata": {
      "needs_background": "light"
     },
     "output_type": "display_data"
    }
   ],
   "source": [
    "nulls.nlargest(50).plot(kind = 'bar')"
   ]
  },
  {
   "cell_type": "code",
   "execution_count": 82,
   "metadata": {},
   "outputs": [
    {
     "data": {
      "text/plain": [
       "unknown          9401\n",
       "100-149,999      2577\n",
       "90-99,999        2400\n",
       "70-79,999        1000\n",
       "50-59,999         888\n",
       "40-49,999         771\n",
       "10-19,999         688\n",
       "175 - 199,999     600\n",
       "30-39,999         553\n",
       "60-69,999         541\n",
       "150 - 174,999     438\n",
       "20-29,999         425\n",
       "200 - 249,999     424\n",
       "250K+             397\n",
       "Under 10K         226\n",
       "80-89,999          15\n",
       "Name: Income, dtype: int64"
      ]
     },
     "execution_count": 82,
     "metadata": {},
     "output_type": "execute_result"
    }
   ],
   "source": [
    "data.Income.value_counts()"
   ]
  },
  {
   "cell_type": "code",
   "execution_count": 83,
   "metadata": {},
   "outputs": [],
   "source": [
    "data.Income.fillna('unknown', inplace = True)"
   ]
  },
  {
   "cell_type": "code",
   "execution_count": 84,
   "metadata": {},
   "outputs": [
    {
     "data": {
      "text/plain": [
       "unknown          9401\n",
       "100-149,999      2577\n",
       "90-99,999        2400\n",
       "70-79,999        1000\n",
       "50-59,999         888\n",
       "40-49,999         771\n",
       "10-19,999         688\n",
       "175 - 199,999     600\n",
       "30-39,999         553\n",
       "60-69,999         541\n",
       "150 - 174,999     438\n",
       "20-29,999         425\n",
       "200 - 249,999     424\n",
       "250K+             397\n",
       "Under 10K         226\n",
       "80-89,999          15\n",
       "Name: Income, dtype: int64"
      ]
     },
     "execution_count": 84,
     "metadata": {},
     "output_type": "execute_result"
    }
   ],
   "source": [
    "data.Income.value_counts()"
   ]
  },
  {
   "cell_type": "code",
   "execution_count": 85,
   "metadata": {},
   "outputs": [
    {
     "data": {
      "text/plain": [
       "Home Owner             11121\n",
       "unknown                 9715\n",
       "Renter                   491\n",
       "Probable Renter           10\n",
       "Probable Home Owner        7\n",
       "Name: Home Owner, dtype: int64"
      ]
     },
     "execution_count": 85,
     "metadata": {},
     "output_type": "execute_result"
    }
   ],
   "source": [
    "data['Home Owner'].value_counts()"
   ]
  },
  {
   "cell_type": "code",
   "execution_count": 86,
   "metadata": {},
   "outputs": [],
   "source": [
    "data['Home Owner'].fillna('unknown', inplace = True)"
   ]
  },
  {
   "cell_type": "code",
   "execution_count": 87,
   "metadata": {},
   "outputs": [
    {
     "data": {
      "text/plain": [
       "Home Owner             11121\n",
       "unknown                 9715\n",
       "Renter                   491\n",
       "Probable Renter           10\n",
       "Probable Home Owner        7\n",
       "Name: Home Owner, dtype: int64"
      ]
     },
     "execution_count": 87,
     "metadata": {},
     "output_type": "execute_result"
    }
   ],
   "source": [
    "data['Home Owner'].value_counts()"
   ]
  },
  {
   "cell_type": "code",
   "execution_count": 88,
   "metadata": {
    "scrolled": true
   },
   "outputs": [
    {
     "data": {
      "text/plain": [
       "Home Owner\n",
       "Home Owner             11121\n",
       "Probable Home Owner        7\n",
       "Probable Renter           10\n",
       "Renter                   491\n",
       "unknown                 9715\n",
       "Name: FSV CMSI Flag, dtype: int64"
      ]
     },
     "execution_count": 88,
     "metadata": {},
     "output_type": "execute_result"
    }
   ],
   "source": [
    "data.groupby('Home Owner')['FSV CMSI Flag'].size()"
   ]
  },
  {
   "cell_type": "markdown",
   "metadata": {},
   "source": [
    "### Turn Y and N into boolean 1 or 0 "
   ]
  },
  {
   "cell_type": "code",
   "execution_count": 89,
   "metadata": {},
   "outputs": [],
   "source": [
    "def yes_noer(x):\n",
    "    if x == 'Y':\n",
    "        return 1\n",
    "    elif x == 'N':\n",
    "        return 0\n",
    "    else:\n",
    "        return np.nan"
   ]
  },
  {
   "cell_type": "code",
   "execution_count": 90,
   "metadata": {},
   "outputs": [],
   "source": [
    "data['FSV CMSI Flag'] = data['FSV CMSI Flag'].apply(yes_noer)"
   ]
  },
  {
   "cell_type": "code",
   "execution_count": 91,
   "metadata": {},
   "outputs": [
    {
     "data": {
      "text/plain": [
       "Home Owner\n",
       "Home Owner            NaN\n",
       "Probable Home Owner   NaN\n",
       "Probable Renter       NaN\n",
       "Renter                NaN\n",
       "unknown               NaN\n",
       "Name: FSV CMSI Flag, dtype: float64"
      ]
     },
     "execution_count": 91,
     "metadata": {},
     "output_type": "execute_result"
    }
   ],
   "source": [
    "data.groupby('Home Owner')['FSV CMSI Flag'].mean()"
   ]
  },
  {
   "cell_type": "code",
   "execution_count": 92,
   "metadata": {},
   "outputs": [],
   "source": [
    "home_owners = data[data['Home Owner'] == 'Home Owner']"
   ]
  },
  {
   "cell_type": "code",
   "execution_count": 93,
   "metadata": {},
   "outputs": [
    {
     "data": {
      "text/plain": [
       "count    0.0\n",
       "mean     NaN\n",
       "std      NaN\n",
       "min      NaN\n",
       "25%      NaN\n",
       "50%      NaN\n",
       "75%      NaN\n",
       "max      NaN\n",
       "Name: FSV CMSI Flag, dtype: float64"
      ]
     },
     "execution_count": 93,
     "metadata": {},
     "output_type": "execute_result"
    }
   ],
   "source": [
    "home_owners['FSV CMSI Flag'].describe()"
   ]
  },
  {
   "cell_type": "code",
   "execution_count": 103,
   "metadata": {},
   "outputs": [],
   "source": [
    "bought_mortgage = home_owners[home_owners['FSV CMSI Flag'] == 1]"
   ]
  },
  {
   "cell_type": "code",
   "execution_count": 104,
   "metadata": {},
   "outputs": [
    {
     "name": "stdout",
     "output_type": "stream",
     "text": [
      "<class 'pandas.core.frame.DataFrame'>\n",
      "Int64Index: 0 entries\n",
      "Columns: 113 entries, Individual Key to age\n",
      "dtypes: float64(38), object(75)\n",
      "memory usage: 0.0+ bytes\n"
     ]
    }
   ],
   "source": [
    "bought_mortgage.info()"
   ]
  },
  {
   "cell_type": "code",
   "execution_count": 105,
   "metadata": {},
   "outputs": [
    {
     "data": {
      "text/plain": [
       "0.0     13908\n",
       "9.0         1\n",
       "81.0        1\n",
       "6.0         1\n",
       "Name: Premier Cost, dtype: int64"
      ]
     },
     "execution_count": 105,
     "metadata": {},
     "output_type": "execute_result"
    }
   ],
   "source": [
    "data['Premier Cost'].value_counts()"
   ]
  },
  {
   "cell_type": "markdown",
   "metadata": {},
   "source": [
    "### Homeowners with high Income engage in the Morgage Service"
   ]
  },
  {
   "cell_type": "code",
   "execution_count": 106,
   "metadata": {},
   "outputs": [
    {
     "ename": "ValueError",
     "evalue": "min() arg is an empty sequence",
     "output_type": "error",
     "traceback": [
      "\u001b[0;31m---------------------------------------------------------------------------\u001b[0m",
      "\u001b[0;31mValueError\u001b[0m                                Traceback (most recent call last)",
      "\u001b[0;32m<ipython-input-106-6223a2d6aaac>\u001b[0m in \u001b[0;36m<module>\u001b[0;34m\u001b[0m\n\u001b[0;32m----> 1\u001b[0;31m \u001b[0msns\u001b[0m\u001b[0;34m.\u001b[0m\u001b[0mcountplot\u001b[0m\u001b[0;34m(\u001b[0m\u001b[0mbought_mortgage\u001b[0m\u001b[0;34m[\u001b[0m\u001b[0;34m'Income'\u001b[0m\u001b[0;34m]\u001b[0m\u001b[0;34m)\u001b[0m\u001b[0;34m\u001b[0m\u001b[0;34m\u001b[0m\u001b[0m\n\u001b[0m\u001b[1;32m      2\u001b[0m \u001b[0mplt\u001b[0m\u001b[0;34m.\u001b[0m\u001b[0mxticks\u001b[0m\u001b[0;34m(\u001b[0m\u001b[0mrotation\u001b[0m \u001b[0;34m=\u001b[0m \u001b[0;36m90\u001b[0m\u001b[0;34m)\u001b[0m\u001b[0;34m\u001b[0m\u001b[0;34m\u001b[0m\u001b[0m\n",
      "\u001b[0;32m/anaconda3/lib/python3.7/site-packages/seaborn/categorical.py\u001b[0m in \u001b[0;36mcountplot\u001b[0;34m(x, y, hue, data, order, hue_order, orient, color, palette, saturation, dodge, ax, **kwargs)\u001b[0m\n\u001b[1;32m   3551\u001b[0m                           \u001b[0mestimator\u001b[0m\u001b[0;34m,\u001b[0m \u001b[0mci\u001b[0m\u001b[0;34m,\u001b[0m \u001b[0mn_boot\u001b[0m\u001b[0;34m,\u001b[0m \u001b[0munits\u001b[0m\u001b[0;34m,\u001b[0m\u001b[0;34m\u001b[0m\u001b[0;34m\u001b[0m\u001b[0m\n\u001b[1;32m   3552\u001b[0m                           \u001b[0morient\u001b[0m\u001b[0;34m,\u001b[0m \u001b[0mcolor\u001b[0m\u001b[0;34m,\u001b[0m \u001b[0mpalette\u001b[0m\u001b[0;34m,\u001b[0m \u001b[0msaturation\u001b[0m\u001b[0;34m,\u001b[0m\u001b[0;34m\u001b[0m\u001b[0;34m\u001b[0m\u001b[0m\n\u001b[0;32m-> 3553\u001b[0;31m                           errcolor, errwidth, capsize, dodge)\n\u001b[0m\u001b[1;32m   3554\u001b[0m \u001b[0;34m\u001b[0m\u001b[0m\n\u001b[1;32m   3555\u001b[0m     \u001b[0mplotter\u001b[0m\u001b[0;34m.\u001b[0m\u001b[0mvalue_label\u001b[0m \u001b[0;34m=\u001b[0m \u001b[0;34m\"count\"\u001b[0m\u001b[0;34m\u001b[0m\u001b[0;34m\u001b[0m\u001b[0m\n",
      "\u001b[0;32m/anaconda3/lib/python3.7/site-packages/seaborn/categorical.py\u001b[0m in \u001b[0;36m__init__\u001b[0;34m(self, x, y, hue, data, order, hue_order, estimator, ci, n_boot, units, orient, color, palette, saturation, errcolor, errwidth, capsize, dodge)\u001b[0m\n\u001b[1;32m   1606\u001b[0m         self.establish_variables(x, y, hue, data, orient,\n\u001b[1;32m   1607\u001b[0m                                  order, hue_order, units)\n\u001b[0;32m-> 1608\u001b[0;31m         \u001b[0mself\u001b[0m\u001b[0;34m.\u001b[0m\u001b[0mestablish_colors\u001b[0m\u001b[0;34m(\u001b[0m\u001b[0mcolor\u001b[0m\u001b[0;34m,\u001b[0m \u001b[0mpalette\u001b[0m\u001b[0;34m,\u001b[0m \u001b[0msaturation\u001b[0m\u001b[0;34m)\u001b[0m\u001b[0;34m\u001b[0m\u001b[0;34m\u001b[0m\u001b[0m\n\u001b[0m\u001b[1;32m   1609\u001b[0m         \u001b[0mself\u001b[0m\u001b[0;34m.\u001b[0m\u001b[0mestimate_statistic\u001b[0m\u001b[0;34m(\u001b[0m\u001b[0mestimator\u001b[0m\u001b[0;34m,\u001b[0m \u001b[0mci\u001b[0m\u001b[0;34m,\u001b[0m \u001b[0mn_boot\u001b[0m\u001b[0;34m)\u001b[0m\u001b[0;34m\u001b[0m\u001b[0;34m\u001b[0m\u001b[0m\n\u001b[1;32m   1610\u001b[0m \u001b[0;34m\u001b[0m\u001b[0m\n",
      "\u001b[0;32m/anaconda3/lib/python3.7/site-packages/seaborn/categorical.py\u001b[0m in \u001b[0;36mestablish_colors\u001b[0;34m(self, color, palette, saturation)\u001b[0m\n\u001b[1;32m    313\u001b[0m         \u001b[0;31m# Determine the gray color to use for the lines framing the plot\u001b[0m\u001b[0;34m\u001b[0m\u001b[0;34m\u001b[0m\u001b[0;34m\u001b[0m\u001b[0m\n\u001b[1;32m    314\u001b[0m         \u001b[0mlight_vals\u001b[0m \u001b[0;34m=\u001b[0m \u001b[0;34m[\u001b[0m\u001b[0mcolorsys\u001b[0m\u001b[0;34m.\u001b[0m\u001b[0mrgb_to_hls\u001b[0m\u001b[0;34m(\u001b[0m\u001b[0;34m*\u001b[0m\u001b[0mc\u001b[0m\u001b[0;34m)\u001b[0m\u001b[0;34m[\u001b[0m\u001b[0;36m1\u001b[0m\u001b[0;34m]\u001b[0m \u001b[0;32mfor\u001b[0m \u001b[0mc\u001b[0m \u001b[0;32min\u001b[0m \u001b[0mrgb_colors\u001b[0m\u001b[0;34m]\u001b[0m\u001b[0;34m\u001b[0m\u001b[0;34m\u001b[0m\u001b[0m\n\u001b[0;32m--> 315\u001b[0;31m         \u001b[0mlum\u001b[0m \u001b[0;34m=\u001b[0m \u001b[0mmin\u001b[0m\u001b[0;34m(\u001b[0m\u001b[0mlight_vals\u001b[0m\u001b[0;34m)\u001b[0m \u001b[0;34m*\u001b[0m \u001b[0;36m.6\u001b[0m\u001b[0;34m\u001b[0m\u001b[0;34m\u001b[0m\u001b[0m\n\u001b[0m\u001b[1;32m    316\u001b[0m         \u001b[0mgray\u001b[0m \u001b[0;34m=\u001b[0m \u001b[0mmpl\u001b[0m\u001b[0;34m.\u001b[0m\u001b[0mcolors\u001b[0m\u001b[0;34m.\u001b[0m\u001b[0mrgb2hex\u001b[0m\u001b[0;34m(\u001b[0m\u001b[0;34m(\u001b[0m\u001b[0mlum\u001b[0m\u001b[0;34m,\u001b[0m \u001b[0mlum\u001b[0m\u001b[0;34m,\u001b[0m \u001b[0mlum\u001b[0m\u001b[0;34m)\u001b[0m\u001b[0;34m)\u001b[0m\u001b[0;34m\u001b[0m\u001b[0;34m\u001b[0m\u001b[0m\n\u001b[1;32m    317\u001b[0m \u001b[0;34m\u001b[0m\u001b[0m\n",
      "\u001b[0;31mValueError\u001b[0m: min() arg is an empty sequence"
     ]
    }
   ],
   "source": [
    "sns.countplot(bought_mortgage['Income'])\n",
    "plt.xticks(rotation = 90)"
   ]
  },
  {
   "cell_type": "markdown",
   "metadata": {},
   "source": [
    "### Aggregate data by household Key"
   ]
  },
  {
   "cell_type": "code",
   "execution_count": null,
   "metadata": {},
   "outputs": [],
   "source": [
    "data_categorical = pd.get_dummies(data[['Household Key', 'FSV CMSI Flag', 'SC Vehicle Manufacturer Name']])"
   ]
  },
  {
   "cell_type": "code",
   "execution_count": null,
   "metadata": {},
   "outputs": [],
   "source": [
    "cols = data_categorical.columns"
   ]
  },
  {
   "cell_type": "code",
   "execution_count": null,
   "metadata": {},
   "outputs": [],
   "source": [
    "cnt_list = ['sum' for c in cols]"
   ]
  },
  {
   "cell_type": "code",
   "execution_count": null,
   "metadata": {},
   "outputs": [],
   "source": [
    "col_dict = {f:v for f, v in zip(cols, cnt_list)}"
   ]
  },
  {
   "cell_type": "code",
   "execution_count": null,
   "metadata": {},
   "outputs": [],
   "source": [
    "col_dict['FSV CMSI Flag'] = 'max'\n",
    "col_dict['Household Key'] = 'max'"
   ]
  },
  {
   "cell_type": "code",
   "execution_count": null,
   "metadata": {},
   "outputs": [],
   "source": [
    "data_categorical.groupby('Household Key').agg(col_dict)"
   ]
  },
  {
   "cell_type": "code",
   "execution_count": null,
   "metadata": {
    "scrolled": true
   },
   "outputs": [],
   "source": [
    "data.head()"
   ]
  },
  {
   "cell_type": "markdown",
   "metadata": {},
   "source": [
    "### Look at AVG Cost per state\n",
    "- most of the Data is from RI\n",
    "- RI has a higher AVG Cost per incident"
   ]
  },
  {
   "cell_type": "code",
   "execution_count": null,
   "metadata": {},
   "outputs": [],
   "source": [
    "data['State - Grouped'].value_counts()"
   ]
  },
  {
   "cell_type": "code",
   "execution_count": null,
   "metadata": {},
   "outputs": [],
   "source": [
    "data.groupby('State - Grouped')['Total Cost'].mean()"
   ]
  },
  {
   "cell_type": "markdown",
   "metadata": {},
   "source": [
    "### Look at # of Children"
   ]
  },
  {
   "cell_type": "code",
   "execution_count": null,
   "metadata": {},
   "outputs": [],
   "source": [
    "data['Number of Children'].value_counts()"
   ]
  },
  {
   "cell_type": "code",
   "execution_count": null,
   "metadata": {},
   "outputs": [],
   "source": [
    "vals = data['Number of Children'].value_counts().index\n",
    "nums = list(range(7))"
   ]
  },
  {
   "cell_type": "code",
   "execution_count": null,
   "metadata": {},
   "outputs": [],
   "source": [
    "col_dic = {v:n for v, n in zip(vals, nums)}"
   ]
  },
  {
   "cell_type": "code",
   "execution_count": null,
   "metadata": {},
   "outputs": [],
   "source": [
    "col_dic"
   ]
  },
  {
   "cell_type": "code",
   "execution_count": null,
   "metadata": {},
   "outputs": [],
   "source": [
    "data['Number of Children'] = data['Number of Children'].map(col_dic)"
   ]
  },
  {
   "cell_type": "code",
   "execution_count": null,
   "metadata": {},
   "outputs": [],
   "source": [
    "data['Number of Children'].value_counts()"
   ]
  },
  {
   "cell_type": "code",
   "execution_count": null,
   "metadata": {},
   "outputs": [],
   "source": []
  }
 ],
 "metadata": {
  "kernelspec": {
   "display_name": "Python 3",
   "language": "python",
   "name": "python3"
  },
  "language_info": {
   "codemirror_mode": {
    "name": "ipython",
    "version": 3
   },
   "file_extension": ".py",
   "mimetype": "text/x-python",
   "name": "python",
   "nbconvert_exporter": "python",
   "pygments_lexer": "ipython3",
   "version": "3.7.3"
  }
 },
 "nbformat": 4,
 "nbformat_minor": 2
}
